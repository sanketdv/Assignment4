{
 "cells": [
  {
   "cell_type": "code",
   "execution_count": 2,
   "id": "863235d0",
   "metadata": {},
   "outputs": [
    {
     "ename": "ModuleNotFoundError",
     "evalue": "No module named 'pandas'",
     "output_type": "error",
     "traceback": [
      "\u001b[31m---------------------------------------------------------------------------\u001b[39m",
      "\u001b[31mModuleNotFoundError\u001b[39m                       Traceback (most recent call last)",
      "\u001b[36mCell\u001b[39m\u001b[36m \u001b[39m\u001b[32mIn[2]\u001b[39m\u001b[32m, line 1\u001b[39m\n\u001b[32m----> \u001b[39m\u001b[32m1\u001b[39m \u001b[38;5;28;01mimport\u001b[39;00m\u001b[38;5;250m \u001b[39m\u001b[34;01mpandas\u001b[39;00m\u001b[38;5;250m \u001b[39m\u001b[38;5;28;01mas\u001b[39;00m\u001b[38;5;250m \u001b[39m\u001b[34;01mpd\u001b[39;00m\n\u001b[32m      2\u001b[39m \u001b[38;5;28;01mimport\u001b[39;00m\u001b[38;5;250m \u001b[39m\u001b[34;01mrandom\u001b[39;00m\n\u001b[32m      3\u001b[39m \u001b[38;5;28;01mfrom\u001b[39;00m\u001b[38;5;250m \u001b[39m\u001b[34;01mdatetime\u001b[39;00m\u001b[38;5;250m \u001b[39m\u001b[38;5;28;01mimport\u001b[39;00m datetime, timedelta\n",
      "\u001b[31mModuleNotFoundError\u001b[39m: No module named 'pandas'"
     ]
    }
   ],
   "source": [
    "import pandas as pd\n",
    "import random\n",
    "from datetime import datetime, timedelta\n",
    "import uuid\n",
    "import numpy as np\n",
    "\n",
    "\n",
    "log_levels = ['DEBUG', 'INFO', 'WARN', 'ERROR']\n",
    "endpoints = ['/api/login', '/api/logout', '/api/search', '/api/register', '/api/update', '/api/delete']\n",
    "status_codes = [200, 201, 400, 401, 403, 404, 500]\n",
    "num_users = 1000\n",
    "num_rows = 100000\n",
    "\n",
    "start_date = datetime(2023, 1, 1)\n",
    "end_date = datetime(2025, 4, 30)\n",
    "\n",
    "def random_ip():\n",
    "    return f\"{random.choice(['10', '172', '192'])}.{random.randint(0, 255)}.{random.randint(0, 255)}.{random.randint(1, 254)}\"\n",
    "\n",
    "data = {\n",
    "    \"timestamp\": [(start_date + timedelta(seconds=random.randint(0, int((end_date - start_date).total_seconds())))).isoformat() for _ in range(num_rows)] if random.random() > 0.15 else np.nan,\n",
    "    \"log_level\": [random.choice(log_levels) for _ in range(num_rows)] if random.random() > 0.15 else np.nan,\n",
    "    \"user_id\": [f\"user_{random.randint(1, num_users)}\" for _ in range(num_rows)] if random.random() > 0.15 else np.nan,\n",
    "    \"ip_address\": [random_ip() for _ in range(num_rows)] if random.random() > 0.15 else np.nan,\n",
    "    \"endpoint\": [random.choice(endpoints) for _ in range(num_rows)] if random.random() > 0.15 else np.nan,\n",
    "    \"status_code\": [random.choice(status_codes) for _ in range(num_rows)] if random.random() > 0.15 else np.nan,\n",
    "    \"response_time\": [round(random.uniform(0.05, 5.0), 3) for _ in range(num_rows)] if random.random() > 0.15 else np.nan,\n",
    "    \"request_id\": [str(uuid.uuid4()) for _ in range(num_rows)] if random.random() > 0.15 else np.nan,\n",
    "}\n",
    "\n",
    "df_large = pd.DataFrame(data)\n",
    "df_large.to_csv(\"synthetic_log_dataset.csv\", index=False)\n"
   ]
  }
 ],
 "metadata": {
  "kernelspec": {
   "display_name": ".venv",
   "language": "python",
   "name": "python3"
  },
  "language_info": {
   "codemirror_mode": {
    "name": "ipython",
    "version": 3
   },
   "file_extension": ".py",
   "mimetype": "text/x-python",
   "name": "python",
   "nbconvert_exporter": "python",
   "pygments_lexer": "ipython3",
   "version": "3.12.3"
  }
 },
 "nbformat": 4,
 "nbformat_minor": 5
}
