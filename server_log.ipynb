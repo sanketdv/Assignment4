{
 "cells": [
  {
   "cell_type": "code",
   "execution_count": 11,
   "id": "eaeca023-1fea-4bde-bfee-df908671c8b7",
   "metadata": {},
   "outputs": [],
   "source": [
    "import pandas as pd\n",
    "import random\n",
    "from datetime import datetime, timedelta\n",
    "import uuid\n",
    "import numpy as np\n",
    "\n",
    "\n",
    "log_levels = ['DEBUG', 'INFO', 'WARN', 'ERROR']\n",
    "endpoints = ['/api/login', '/api/logout', '/api/search', '/api/register', '/api/update', '/api/delete']\n",
    "num_users = 100000\n",
    "num_rows = 100000\n",
    "\n",
    "start_date = datetime(2023, 1, 1)\n",
    "end_date = datetime(2025, 4, 30)\n",
    "\n",
    "def random_ip():\n",
    "    return f\"{random.choice(['10', '172', '192'])}.{random.randint(0, 255)}.{random.randint(0, 255)}.{random.randint(1, 254)}\"\n",
    "\n",
    "data = {\n",
    "    \"timestamp\": [(start_date + timedelta(seconds=random.randint(0, int((end_date - start_date).total_seconds())))).isoformat() for _ in range(num_rows)],\n",
    "    \"log_level\": [random.choice(log_levels) for _ in range(num_rows)],\n",
    "    \"user_id\": [f\"user_{i+1}\" for i in range(num_rows)],\n",
    "    \"ip_address\": [random_ip() for _ in range(num_rows)],\n",
    "    \"endpoint\": [random.choice(endpoints) for _ in range(num_rows)],\n",
    "    \"status_code\": [random.randint(40,740) for _ in range(num_rows)],\n",
    "    \"response_time\": [round(random.uniform(0.05, 5.0), 3) for _ in range(num_rows)],\n",
    "    \"request_id\": [str(uuid.uuid4()) for _ in range(num_rows)],\n",
    "}\n",
    "\n",
    "df_large = pd.DataFrame(data)\n",
    "\n",
    "for column in df_large.columns:\n",
    "    if column != \"user_id\":\n",
    "        df_large.loc[df_large.sample(frac=0.1).index, column] = np.nan\n",
    "\n",
    "df_large.to_csv(\"synthetic_log_dataset5.csv\", index=False)"
   ]
  },
  {
   "cell_type": "code",
   "execution_count": null,
   "id": "d8549ad8-be7b-4b5c-a16c-068e63b11595",
   "metadata": {},
   "outputs": [],
   "source": []
  }
 ],
 "metadata": {
  "kernelspec": {
   "display_name": "Python 3 (ipykernel)",
   "language": "python",
   "name": "python3"
  },
  "language_info": {
   "codemirror_mode": {
    "name": "ipython",
    "version": 3
   },
   "file_extension": ".py",
   "mimetype": "text/x-python",
   "name": "python",
   "nbconvert_exporter": "python",
   "pygments_lexer": "ipython3",
   "version": "3.12.7"
  }
 },
 "nbformat": 4,
 "nbformat_minor": 5
}
