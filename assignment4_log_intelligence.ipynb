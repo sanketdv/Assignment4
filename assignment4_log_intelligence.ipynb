{
  "nbformat": 4,
  "nbformat_minor": 0,
  "metadata": {
    "colab": {
      "provenance": []
    },
    "kernelspec": {
      "name": "python3",
      "display_name": "Python 3"
    },
    "language_info": {
      "name": "python"
    }
  },
  "cells": [
    {
      "cell_type": "markdown",
      "source": [
        "# ***Problem Statement:***\n",
        "\n",
        "# **Assignment: Log Intelligence System**\n",
        "\n",
        "Level 1: Foundational Log Processing\n",
        "\n",
        "Level 2: Metadata Enrichment & Optimization\n",
        "\n",
        "# **Background**\n",
        "\n",
        "Your company operates several web-based services that generate large volumes of server logs. These logs are critical for understanding system performance, user behavior, and detecting operational issues. Additionally, business and product teams rely on enriched metrics for decision-making.\n",
        "\n",
        "\n",
        "# **Level 1 Tasks: Log Intelligence Pipeline**\n",
        "1. Load & Explore\n",
        "\n",
        "  Ingest the log data and perform data profiling.\n",
        "\n",
        "  I have provided a sample, generate Log Dataset of at least 100,000 rows\n",
        "\n",
        "  Connect to AWS S3 for data retrieval or storage.\n",
        "\n",
        "\n",
        "2. Clean & Prepare\n",
        "\n",
        "  Clean and standardize the dataset.\n",
        "\n",
        "  Handle incorrect, missing values\n",
        "\n",
        "  Prepare the dataset for further processing.\n",
        "\n",
        "3. Feature Engineering\n",
        "\n",
        "  Derive new informative fields to enhance the dataset.\n",
        "Hint -  hour_of_day, day_of_week, is_error (status >= 400) etc\n",
        "\n",
        "4. Analyze Usage Patterns and Insights\n",
        "\n",
        "  Analyze traffic patterns, usage behavior, and performance trends.\n",
        "Hint -  Slowest APIs, most hit , suspicious user detected\n",
        "\n",
        "5. Store & Summarize\n",
        "\n",
        "  Store cleaned and processed data.\n",
        "\n",
        "  Create summary outputs for further reporting\n",
        "\n",
        "\n",
        "# **Level 2 Tasks: Metadata Enrichment & Optimization**\n",
        "6. Enrichment\n",
        "\n",
        "  Integrate the user_metadata dataset with the log dataset using user_id.\n",
        "Generate data of size 5k\n",
        "\n",
        "7. Aggregated Analysis\n",
        "  Perform grouped analysis using enriched fields.\n",
        "\n",
        "  Analyze patterns across account types, regions, and activity status.\n",
        "\n",
        "  Ex . Activity trends of Free vs Premium users\n",
        "\n",
        "8. Optimization & Output Strategy\n",
        "\n",
        "Apply appropriate optimization techniques to improve performance.\n",
        "\n",
        "Organize output for efficient querying and reuse.\n",
        "\n",
        "Structure your saved data so that subsets can be efficiently accessed without scanning the entire dataset"
      ],
      "metadata": {
        "id": "jA2GKGEBG9rZ"
      }
    },
    {
      "cell_type": "code",
      "source": [],
      "metadata": {
        "id": "_z62PvYaG-ZN"
      },
      "execution_count": null,
      "outputs": []
    },
    {
      "cell_type": "code",
      "execution_count": 1,
      "metadata": {
        "colab": {
          "base_uri": "https://localhost:8080/",
          "height": 73
        },
        "id": "6tZizH2B9M_D",
        "outputId": "79419dff-cf88-4cc9-c9c2-f0fab1e57a10"
      },
      "outputs": [
        {
          "output_type": "display_data",
          "data": {
            "text/plain": [
              "<IPython.core.display.HTML object>"
            ],
            "text/html": [
              "\n",
              "     <input type=\"file\" id=\"files-2aa23a81-9c49-4ba0-a903-9a240ecc3c91\" name=\"files[]\" multiple disabled\n",
              "        style=\"border:none\" />\n",
              "     <output id=\"result-2aa23a81-9c49-4ba0-a903-9a240ecc3c91\">\n",
              "      Upload widget is only available when the cell has been executed in the\n",
              "      current browser session. Please rerun this cell to enable.\n",
              "      </output>\n",
              "      <script>// Copyright 2017 Google LLC\n",
              "//\n",
              "// Licensed under the Apache License, Version 2.0 (the \"License\");\n",
              "// you may not use this file except in compliance with the License.\n",
              "// You may obtain a copy of the License at\n",
              "//\n",
              "//      http://www.apache.org/licenses/LICENSE-2.0\n",
              "//\n",
              "// Unless required by applicable law or agreed to in writing, software\n",
              "// distributed under the License is distributed on an \"AS IS\" BASIS,\n",
              "// WITHOUT WARRANTIES OR CONDITIONS OF ANY KIND, either express or implied.\n",
              "// See the License for the specific language governing permissions and\n",
              "// limitations under the License.\n",
              "\n",
              "/**\n",
              " * @fileoverview Helpers for google.colab Python module.\n",
              " */\n",
              "(function(scope) {\n",
              "function span(text, styleAttributes = {}) {\n",
              "  const element = document.createElement('span');\n",
              "  element.textContent = text;\n",
              "  for (const key of Object.keys(styleAttributes)) {\n",
              "    element.style[key] = styleAttributes[key];\n",
              "  }\n",
              "  return element;\n",
              "}\n",
              "\n",
              "// Max number of bytes which will be uploaded at a time.\n",
              "const MAX_PAYLOAD_SIZE = 100 * 1024;\n",
              "\n",
              "function _uploadFiles(inputId, outputId) {\n",
              "  const steps = uploadFilesStep(inputId, outputId);\n",
              "  const outputElement = document.getElementById(outputId);\n",
              "  // Cache steps on the outputElement to make it available for the next call\n",
              "  // to uploadFilesContinue from Python.\n",
              "  outputElement.steps = steps;\n",
              "\n",
              "  return _uploadFilesContinue(outputId);\n",
              "}\n",
              "\n",
              "// This is roughly an async generator (not supported in the browser yet),\n",
              "// where there are multiple asynchronous steps and the Python side is going\n",
              "// to poll for completion of each step.\n",
              "// This uses a Promise to block the python side on completion of each step,\n",
              "// then passes the result of the previous step as the input to the next step.\n",
              "function _uploadFilesContinue(outputId) {\n",
              "  const outputElement = document.getElementById(outputId);\n",
              "  const steps = outputElement.steps;\n",
              "\n",
              "  const next = steps.next(outputElement.lastPromiseValue);\n",
              "  return Promise.resolve(next.value.promise).then((value) => {\n",
              "    // Cache the last promise value to make it available to the next\n",
              "    // step of the generator.\n",
              "    outputElement.lastPromiseValue = value;\n",
              "    return next.value.response;\n",
              "  });\n",
              "}\n",
              "\n",
              "/**\n",
              " * Generator function which is called between each async step of the upload\n",
              " * process.\n",
              " * @param {string} inputId Element ID of the input file picker element.\n",
              " * @param {string} outputId Element ID of the output display.\n",
              " * @return {!Iterable<!Object>} Iterable of next steps.\n",
              " */\n",
              "function* uploadFilesStep(inputId, outputId) {\n",
              "  const inputElement = document.getElementById(inputId);\n",
              "  inputElement.disabled = false;\n",
              "\n",
              "  const outputElement = document.getElementById(outputId);\n",
              "  outputElement.innerHTML = '';\n",
              "\n",
              "  const pickedPromise = new Promise((resolve) => {\n",
              "    inputElement.addEventListener('change', (e) => {\n",
              "      resolve(e.target.files);\n",
              "    });\n",
              "  });\n",
              "\n",
              "  const cancel = document.createElement('button');\n",
              "  inputElement.parentElement.appendChild(cancel);\n",
              "  cancel.textContent = 'Cancel upload';\n",
              "  const cancelPromise = new Promise((resolve) => {\n",
              "    cancel.onclick = () => {\n",
              "      resolve(null);\n",
              "    };\n",
              "  });\n",
              "\n",
              "  // Wait for the user to pick the files.\n",
              "  const files = yield {\n",
              "    promise: Promise.race([pickedPromise, cancelPromise]),\n",
              "    response: {\n",
              "      action: 'starting',\n",
              "    }\n",
              "  };\n",
              "\n",
              "  cancel.remove();\n",
              "\n",
              "  // Disable the input element since further picks are not allowed.\n",
              "  inputElement.disabled = true;\n",
              "\n",
              "  if (!files) {\n",
              "    return {\n",
              "      response: {\n",
              "        action: 'complete',\n",
              "      }\n",
              "    };\n",
              "  }\n",
              "\n",
              "  for (const file of files) {\n",
              "    const li = document.createElement('li');\n",
              "    li.append(span(file.name, {fontWeight: 'bold'}));\n",
              "    li.append(span(\n",
              "        `(${file.type || 'n/a'}) - ${file.size} bytes, ` +\n",
              "        `last modified: ${\n",
              "            file.lastModifiedDate ? file.lastModifiedDate.toLocaleDateString() :\n",
              "                                    'n/a'} - `));\n",
              "    const percent = span('0% done');\n",
              "    li.appendChild(percent);\n",
              "\n",
              "    outputElement.appendChild(li);\n",
              "\n",
              "    const fileDataPromise = new Promise((resolve) => {\n",
              "      const reader = new FileReader();\n",
              "      reader.onload = (e) => {\n",
              "        resolve(e.target.result);\n",
              "      };\n",
              "      reader.readAsArrayBuffer(file);\n",
              "    });\n",
              "    // Wait for the data to be ready.\n",
              "    let fileData = yield {\n",
              "      promise: fileDataPromise,\n",
              "      response: {\n",
              "        action: 'continue',\n",
              "      }\n",
              "    };\n",
              "\n",
              "    // Use a chunked sending to avoid message size limits. See b/62115660.\n",
              "    let position = 0;\n",
              "    do {\n",
              "      const length = Math.min(fileData.byteLength - position, MAX_PAYLOAD_SIZE);\n",
              "      const chunk = new Uint8Array(fileData, position, length);\n",
              "      position += length;\n",
              "\n",
              "      const base64 = btoa(String.fromCharCode.apply(null, chunk));\n",
              "      yield {\n",
              "        response: {\n",
              "          action: 'append',\n",
              "          file: file.name,\n",
              "          data: base64,\n",
              "        },\n",
              "      };\n",
              "\n",
              "      let percentDone = fileData.byteLength === 0 ?\n",
              "          100 :\n",
              "          Math.round((position / fileData.byteLength) * 100);\n",
              "      percent.textContent = `${percentDone}% done`;\n",
              "\n",
              "    } while (position < fileData.byteLength);\n",
              "  }\n",
              "\n",
              "  // All done.\n",
              "  yield {\n",
              "    response: {\n",
              "      action: 'complete',\n",
              "    }\n",
              "  };\n",
              "}\n",
              "\n",
              "scope.google = scope.google || {};\n",
              "scope.google.colab = scope.google.colab || {};\n",
              "scope.google.colab._files = {\n",
              "  _uploadFiles,\n",
              "  _uploadFilesContinue,\n",
              "};\n",
              "})(self);\n",
              "</script> "
            ]
          },
          "metadata": {}
        },
        {
          "output_type": "stream",
          "name": "stdout",
          "text": [
            "Saving server_log_dataset.csv to server_log_dataset.csv\n"
          ]
        }
      ],
      "source": [
        "from google.colab import files\n",
        "uploaded = files.upload()"
      ]
    },
    {
      "cell_type": "code",
      "source": [
        "%%writefile config.py\n",
        "CONFIG = {\n",
        "    \"input_path\": \"server_log_dataset.csv\",\n",
        "    \"output_path\": \"output/\",\n",
        "    \"file_format\": \"csv\"\n",
        "}\n"
      ],
      "metadata": {
        "id": "7yvsP5YN9-vP",
        "colab": {
          "base_uri": "https://localhost:8080/"
        },
        "outputId": "6bd8eb50-867e-4ebd-9137-1958f2676fee"
      },
      "execution_count": 2,
      "outputs": [
        {
          "output_type": "stream",
          "name": "stdout",
          "text": [
            "Writing config.py\n"
          ]
        }
      ]
    },
    {
      "cell_type": "code",
      "source": [
        "%%writefile ingestion.py\n",
        "from config import CONFIG\n",
        "\n",
        "def ingest_data(spark):\n",
        "    return spark.read.option(\"header\", True).csv(CONFIG[\"input_path\"])"
      ],
      "metadata": {
        "colab": {
          "base_uri": "https://localhost:8080/"
        },
        "id": "5zQ3k9ba-ZFx",
        "outputId": "614af609-a0d3-4688-9a94-f67877f52138"
      },
      "execution_count": 3,
      "outputs": [
        {
          "output_type": "stream",
          "name": "stdout",
          "text": [
            "Writing ingestion.py\n"
          ]
        }
      ]
    },
    {
      "cell_type": "code",
      "source": [
        "!pip install pyspark"
      ],
      "metadata": {
        "colab": {
          "base_uri": "https://localhost:8080/"
        },
        "id": "0ECQYSK6-cul",
        "outputId": "8a68a6c2-e101-46e6-a317-f0b83cae7985"
      },
      "execution_count": 4,
      "outputs": [
        {
          "output_type": "stream",
          "name": "stdout",
          "text": [
            "Requirement already satisfied: pyspark in /usr/local/lib/python3.11/dist-packages (3.5.1)\n",
            "Requirement already satisfied: py4j==0.10.9.7 in /usr/local/lib/python3.11/dist-packages (from pyspark) (0.10.9.7)\n"
          ]
        }
      ]
    },
    {
      "cell_type": "code",
      "source": [
        "from pyspark.sql import SparkSession\n",
        "\n",
        "spark = SparkSession.builder.appName(\"Log Intelligence Pipeline\").getOrCreate()"
      ],
      "metadata": {
        "id": "x9lhMXyh-kVk"
      },
      "execution_count": 5,
      "outputs": []
    },
    {
      "cell_type": "code",
      "source": [
        "from ingestion import ingest_data\n",
        "\n",
        "df_serverlog = ingest_data(spark)\n",
        "df_serverlog.show()"
      ],
      "metadata": {
        "id": "xA5fND46-zNe",
        "colab": {
          "base_uri": "https://localhost:8080/"
        },
        "outputId": "3d57006d-2258-47fd-c723-f62053ccfc5e"
      },
      "execution_count": 6,
      "outputs": [
        {
          "output_type": "stream",
          "name": "stdout",
          "text": [
            "+-------------------+---------+-------+---------------+-------------+-----------+-------------+--------------------+\n",
            "|          timestamp|log_level|user_id|     ip_address|     endpoint|status_code|response_time|          request_id|\n",
            "+-------------------+---------+-------+---------------+-------------+-----------+-------------+--------------------+\n",
            "|2023-02-22T19:28:34|    ERROR| user_1|   192.113.2.76|/api/register|      463.0|        1.411|093c96b7-7dae-48e...|\n",
            "|               NULL|     INFO| user_2|  172.254.4.144|  /api/delete|      109.0|        1.927|4b15d36c-3b74-499...|\n",
            "|2023-06-09T22:51:32|    ERROR| user_3|  192.15.237.65|  /api/logout|       NULL|        2.431|                NULL|\n",
            "|2024-11-26T03:43:14|     WARN| user_4|  172.52.177.15|   /api/login|       NULL|         0.94|cd76fb1a-b0c0-4c2...|\n",
            "|2023-06-18T23:44:57|     INFO| user_5|   192.25.49.86|  /api/logout|       NULL|        0.225|058ee99a-6a35-4b2...|\n",
            "|2024-09-18T17:54:00|     INFO| user_6|172.126.189.228|  /api/update|      309.0|         NULL|b427fa91-5bf8-4fa...|\n",
            "|               NULL|    DEBUG| user_7| 172.29.181.137|   /api/login|      242.0|        0.098|ad6b1afd-f3db-473...|\n",
            "|               NULL|    DEBUG| user_8|   172.5.137.92|  /api/delete|      222.0|        2.774|e38931c7-ae62-4b0...|\n",
            "|2023-12-08T11:24:56|    ERROR| user_9|   10.93.214.59|  /api/logout|      495.0|        1.314|1683c6a0-cacb-456...|\n",
            "|2024-02-11T05:59:14|     WARN|user_10|   10.81.117.60|  /api/logout|      570.0|         NULL|497e161e-2b03-44c...|\n",
            "|               NULL|    DEBUG|user_11|  10.120.80.226|  /api/logout|      640.0|        4.903|b6d18343-e170-419...|\n",
            "|2025-04-09T14:01:29|    DEBUG|user_12|172.228.126.139|   /api/login|      265.0|        1.201|b9f9ef83-727e-4c4...|\n",
            "|2025-02-26T04:14:59|    ERROR|user_13| 192.167.95.252|  /api/search|      410.0|        1.083|7f2cd001-7818-439...|\n",
            "|2024-08-14T07:57:44|     NULL|user_14|   192.4.66.237|  /api/search|      164.0|        0.215|33199ece-caf1-43c...|\n",
            "|               NULL|     INFO|user_15|192.189.128.121|  /api/update|      302.0|        4.349|9b66b999-f805-4ea...|\n",
            "|2023-01-11T05:09:58|    ERROR|user_16|  10.19.207.116|  /api/delete|       NULL|        3.091|ded8efb4-2840-44b...|\n",
            "|               NULL|    ERROR|user_17|  172.225.35.30|  /api/update|      412.0|         3.21|ecefd4e6-465b-4ee...|\n",
            "|2024-07-14T19:09:14|    DEBUG|user_18| 192.17.114.239|  /api/update|      576.0|        4.229|275f892c-796d-40d...|\n",
            "|               NULL|     WARN|user_19|  10.140.136.39|/api/register|      707.0|        2.587|e3e22c01-9d9a-4a2...|\n",
            "|               NULL|     INFO|user_20|  192.43.93.143|/api/register|      621.0|        0.647|1881173a-3542-464...|\n",
            "+-------------------+---------+-------+---------------+-------------+-----------+-------------+--------------------+\n",
            "only showing top 20 rows\n",
            "\n"
          ]
        }
      ]
    },
    {
      "cell_type": "code",
      "source": [
        "%%writefile cleaning.py\n",
        "from config import CONFIG\n",
        "\n",
        "def clean_data(spark):\n",
        "    return spark.read.option(\"header\", True).csv(CONFIG[\"input_path\"])"
      ],
      "metadata": {
        "colab": {
          "base_uri": "https://localhost:8080/"
        },
        "id": "LFCSO9H-_G1R",
        "outputId": "f69c7fbc-650c-40da-b74e-ccb35e4c28d3"
      },
      "execution_count": 7,
      "outputs": [
        {
          "output_type": "stream",
          "name": "stdout",
          "text": [
            "Writing cleaning.py\n"
          ]
        }
      ]
    },
    {
      "cell_type": "code",
      "source": [],
      "metadata": {
        "id": "O-mmv4BUVWG3"
      },
      "execution_count": 7,
      "outputs": []
    },
    {
      "cell_type": "markdown",
      "source": [
        "**Dealing with the null values. Assuming that I cannot replace columns like timestamp, ip_address, request_id, user_id with any values from the respected columns. So dropping that rows.**"
      ],
      "metadata": {
        "id": "dc3ioBsCVFaB"
      }
    },
    {
      "cell_type": "code",
      "source": [
        "from cleaning import clean_data\n",
        "\n",
        "df_serverlog = clean_data(spark)\n",
        "df_serverlog.show()"
      ],
      "metadata": {
        "colab": {
          "base_uri": "https://localhost:8080/"
        },
        "id": "qzP_Lj_J_K8y",
        "outputId": "76790f2a-d052-4882-f17e-ae753bcf6d9f"
      },
      "execution_count": 8,
      "outputs": [
        {
          "output_type": "stream",
          "name": "stdout",
          "text": [
            "+-------------------+---------+-------+---------------+-------------+-----------+-------------+--------------------+\n",
            "|          timestamp|log_level|user_id|     ip_address|     endpoint|status_code|response_time|          request_id|\n",
            "+-------------------+---------+-------+---------------+-------------+-----------+-------------+--------------------+\n",
            "|2023-02-22T19:28:34|    ERROR| user_1|   192.113.2.76|/api/register|      463.0|        1.411|093c96b7-7dae-48e...|\n",
            "|               NULL|     INFO| user_2|  172.254.4.144|  /api/delete|      109.0|        1.927|4b15d36c-3b74-499...|\n",
            "|2023-06-09T22:51:32|    ERROR| user_3|  192.15.237.65|  /api/logout|       NULL|        2.431|                NULL|\n",
            "|2024-11-26T03:43:14|     WARN| user_4|  172.52.177.15|   /api/login|       NULL|         0.94|cd76fb1a-b0c0-4c2...|\n",
            "|2023-06-18T23:44:57|     INFO| user_5|   192.25.49.86|  /api/logout|       NULL|        0.225|058ee99a-6a35-4b2...|\n",
            "|2024-09-18T17:54:00|     INFO| user_6|172.126.189.228|  /api/update|      309.0|         NULL|b427fa91-5bf8-4fa...|\n",
            "|               NULL|    DEBUG| user_7| 172.29.181.137|   /api/login|      242.0|        0.098|ad6b1afd-f3db-473...|\n",
            "|               NULL|    DEBUG| user_8|   172.5.137.92|  /api/delete|      222.0|        2.774|e38931c7-ae62-4b0...|\n",
            "|2023-12-08T11:24:56|    ERROR| user_9|   10.93.214.59|  /api/logout|      495.0|        1.314|1683c6a0-cacb-456...|\n",
            "|2024-02-11T05:59:14|     WARN|user_10|   10.81.117.60|  /api/logout|      570.0|         NULL|497e161e-2b03-44c...|\n",
            "|               NULL|    DEBUG|user_11|  10.120.80.226|  /api/logout|      640.0|        4.903|b6d18343-e170-419...|\n",
            "|2025-04-09T14:01:29|    DEBUG|user_12|172.228.126.139|   /api/login|      265.0|        1.201|b9f9ef83-727e-4c4...|\n",
            "|2025-02-26T04:14:59|    ERROR|user_13| 192.167.95.252|  /api/search|      410.0|        1.083|7f2cd001-7818-439...|\n",
            "|2024-08-14T07:57:44|     NULL|user_14|   192.4.66.237|  /api/search|      164.0|        0.215|33199ece-caf1-43c...|\n",
            "|               NULL|     INFO|user_15|192.189.128.121|  /api/update|      302.0|        4.349|9b66b999-f805-4ea...|\n",
            "|2023-01-11T05:09:58|    ERROR|user_16|  10.19.207.116|  /api/delete|       NULL|        3.091|ded8efb4-2840-44b...|\n",
            "|               NULL|    ERROR|user_17|  172.225.35.30|  /api/update|      412.0|         3.21|ecefd4e6-465b-4ee...|\n",
            "|2024-07-14T19:09:14|    DEBUG|user_18| 192.17.114.239|  /api/update|      576.0|        4.229|275f892c-796d-40d...|\n",
            "|               NULL|     WARN|user_19|  10.140.136.39|/api/register|      707.0|        2.587|e3e22c01-9d9a-4a2...|\n",
            "|               NULL|     INFO|user_20|  192.43.93.143|/api/register|      621.0|        0.647|1881173a-3542-464...|\n",
            "+-------------------+---------+-------+---------------+-------------+-----------+-------------+--------------------+\n",
            "only showing top 20 rows\n",
            "\n"
          ]
        }
      ]
    },
    {
      "cell_type": "code",
      "source": [
        "from pyspark.sql.functions import col"
      ],
      "metadata": {
        "id": "cIkp7Xm4_lN8"
      },
      "execution_count": 9,
      "outputs": []
    },
    {
      "cell_type": "code",
      "source": [
        "df_serverlog = df_serverlog.where(col(\"timestamp\") != \"NULL\")"
      ],
      "metadata": {
        "id": "l14ilH6M_PSu"
      },
      "execution_count": 10,
      "outputs": []
    },
    {
      "cell_type": "code",
      "source": [
        "df_serverlog.show()"
      ],
      "metadata": {
        "colab": {
          "base_uri": "https://localhost:8080/"
        },
        "id": "XeRM65U8_01Q",
        "outputId": "2239a745-59b9-4625-b39a-c59bbefba1d4"
      },
      "execution_count": 11,
      "outputs": [
        {
          "output_type": "stream",
          "name": "stdout",
          "text": [
            "+-------------------+---------+-------+---------------+-------------+-----------+-------------+--------------------+\n",
            "|          timestamp|log_level|user_id|     ip_address|     endpoint|status_code|response_time|          request_id|\n",
            "+-------------------+---------+-------+---------------+-------------+-----------+-------------+--------------------+\n",
            "|2023-02-22T19:28:34|    ERROR| user_1|   192.113.2.76|/api/register|      463.0|        1.411|093c96b7-7dae-48e...|\n",
            "|2023-06-09T22:51:32|    ERROR| user_3|  192.15.237.65|  /api/logout|       NULL|        2.431|                NULL|\n",
            "|2024-11-26T03:43:14|     WARN| user_4|  172.52.177.15|   /api/login|       NULL|         0.94|cd76fb1a-b0c0-4c2...|\n",
            "|2023-06-18T23:44:57|     INFO| user_5|   192.25.49.86|  /api/logout|       NULL|        0.225|058ee99a-6a35-4b2...|\n",
            "|2024-09-18T17:54:00|     INFO| user_6|172.126.189.228|  /api/update|      309.0|         NULL|b427fa91-5bf8-4fa...|\n",
            "|2023-12-08T11:24:56|    ERROR| user_9|   10.93.214.59|  /api/logout|      495.0|        1.314|1683c6a0-cacb-456...|\n",
            "|2024-02-11T05:59:14|     WARN|user_10|   10.81.117.60|  /api/logout|      570.0|         NULL|497e161e-2b03-44c...|\n",
            "|2025-04-09T14:01:29|    DEBUG|user_12|172.228.126.139|   /api/login|      265.0|        1.201|b9f9ef83-727e-4c4...|\n",
            "|2025-02-26T04:14:59|    ERROR|user_13| 192.167.95.252|  /api/search|      410.0|        1.083|7f2cd001-7818-439...|\n",
            "|2024-08-14T07:57:44|     NULL|user_14|   192.4.66.237|  /api/search|      164.0|        0.215|33199ece-caf1-43c...|\n",
            "|2023-01-11T05:09:58|    ERROR|user_16|  10.19.207.116|  /api/delete|       NULL|        3.091|ded8efb4-2840-44b...|\n",
            "|2024-07-14T19:09:14|    DEBUG|user_18| 192.17.114.239|  /api/update|      576.0|        4.229|275f892c-796d-40d...|\n",
            "|2023-05-19T00:31:04|     WARN|user_21| 192.14.138.172|/api/register|      511.0|        0.089|                NULL|\n",
            "|2023-12-06T20:08:16|     WARN|user_22|   172.45.63.13|         NULL|      205.0|        2.609|79445311-94c4-4a1...|\n",
            "|2023-07-10T08:52:08|     INFO|user_23|           NULL|  /api/delete|       NULL|        4.375|d8d2b5be-f82c-4c8...|\n",
            "|2023-04-20T05:02:18|    ERROR|user_24|  172.169.39.75|/api/register|      296.0|        1.759|64379e33-068e-405...|\n",
            "|2024-11-06T04:41:00|     INFO|user_25| 10.226.236.143|   /api/login|      367.0|        2.985|add69933-f0aa-49b...|\n",
            "|2025-04-14T13:48:04|    ERROR|user_26| 192.204.24.172|  /api/search|      160.0|        3.635|4a461ba6-e7d0-47b...|\n",
            "|2023-07-05T17:52:37|     WARN|user_27| 192.137.86.221|         NULL|       75.0|        4.047|6cddcac5-0c59-44b...|\n",
            "|2024-06-12T04:55:17|    ERROR|user_28| 172.151.38.239|  /api/search|       69.0|        3.455|47ddbfed-bdcc-4bb...|\n",
            "+-------------------+---------+-------+---------------+-------------+-----------+-------------+--------------------+\n",
            "only showing top 20 rows\n",
            "\n"
          ]
        }
      ]
    },
    {
      "cell_type": "code",
      "source": [
        "df_serverlog = df_serverlog.where(col(\"user_id\") != \"NULL\")"
      ],
      "metadata": {
        "id": "O5vvAdsG_ywQ"
      },
      "execution_count": 12,
      "outputs": []
    },
    {
      "cell_type": "code",
      "source": [
        "df_serverlog.show()"
      ],
      "metadata": {
        "colab": {
          "base_uri": "https://localhost:8080/"
        },
        "id": "9hHp-fv-DWj6",
        "outputId": "206b094f-1571-422a-8a67-fcfd2f400c44"
      },
      "execution_count": 13,
      "outputs": [
        {
          "output_type": "stream",
          "name": "stdout",
          "text": [
            "+-------------------+---------+-------+---------------+-------------+-----------+-------------+--------------------+\n",
            "|          timestamp|log_level|user_id|     ip_address|     endpoint|status_code|response_time|          request_id|\n",
            "+-------------------+---------+-------+---------------+-------------+-----------+-------------+--------------------+\n",
            "|2023-02-22T19:28:34|    ERROR| user_1|   192.113.2.76|/api/register|      463.0|        1.411|093c96b7-7dae-48e...|\n",
            "|2023-06-09T22:51:32|    ERROR| user_3|  192.15.237.65|  /api/logout|       NULL|        2.431|                NULL|\n",
            "|2024-11-26T03:43:14|     WARN| user_4|  172.52.177.15|   /api/login|       NULL|         0.94|cd76fb1a-b0c0-4c2...|\n",
            "|2023-06-18T23:44:57|     INFO| user_5|   192.25.49.86|  /api/logout|       NULL|        0.225|058ee99a-6a35-4b2...|\n",
            "|2024-09-18T17:54:00|     INFO| user_6|172.126.189.228|  /api/update|      309.0|         NULL|b427fa91-5bf8-4fa...|\n",
            "|2023-12-08T11:24:56|    ERROR| user_9|   10.93.214.59|  /api/logout|      495.0|        1.314|1683c6a0-cacb-456...|\n",
            "|2024-02-11T05:59:14|     WARN|user_10|   10.81.117.60|  /api/logout|      570.0|         NULL|497e161e-2b03-44c...|\n",
            "|2025-04-09T14:01:29|    DEBUG|user_12|172.228.126.139|   /api/login|      265.0|        1.201|b9f9ef83-727e-4c4...|\n",
            "|2025-02-26T04:14:59|    ERROR|user_13| 192.167.95.252|  /api/search|      410.0|        1.083|7f2cd001-7818-439...|\n",
            "|2024-08-14T07:57:44|     NULL|user_14|   192.4.66.237|  /api/search|      164.0|        0.215|33199ece-caf1-43c...|\n",
            "|2023-01-11T05:09:58|    ERROR|user_16|  10.19.207.116|  /api/delete|       NULL|        3.091|ded8efb4-2840-44b...|\n",
            "|2024-07-14T19:09:14|    DEBUG|user_18| 192.17.114.239|  /api/update|      576.0|        4.229|275f892c-796d-40d...|\n",
            "|2023-05-19T00:31:04|     WARN|user_21| 192.14.138.172|/api/register|      511.0|        0.089|                NULL|\n",
            "|2023-12-06T20:08:16|     WARN|user_22|   172.45.63.13|         NULL|      205.0|        2.609|79445311-94c4-4a1...|\n",
            "|2023-07-10T08:52:08|     INFO|user_23|           NULL|  /api/delete|       NULL|        4.375|d8d2b5be-f82c-4c8...|\n",
            "|2023-04-20T05:02:18|    ERROR|user_24|  172.169.39.75|/api/register|      296.0|        1.759|64379e33-068e-405...|\n",
            "|2024-11-06T04:41:00|     INFO|user_25| 10.226.236.143|   /api/login|      367.0|        2.985|add69933-f0aa-49b...|\n",
            "|2025-04-14T13:48:04|    ERROR|user_26| 192.204.24.172|  /api/search|      160.0|        3.635|4a461ba6-e7d0-47b...|\n",
            "|2023-07-05T17:52:37|     WARN|user_27| 192.137.86.221|         NULL|       75.0|        4.047|6cddcac5-0c59-44b...|\n",
            "|2024-06-12T04:55:17|    ERROR|user_28| 172.151.38.239|  /api/search|       69.0|        3.455|47ddbfed-bdcc-4bb...|\n",
            "+-------------------+---------+-------+---------------+-------------+-----------+-------------+--------------------+\n",
            "only showing top 20 rows\n",
            "\n"
          ]
        }
      ]
    },
    {
      "cell_type": "code",
      "source": [
        "df_serverlog = df_serverlog.where(col(\"ip_address\") != \"NULL\")"
      ],
      "metadata": {
        "id": "dgpHqsNbDbyl"
      },
      "execution_count": 14,
      "outputs": []
    },
    {
      "cell_type": "code",
      "source": [
        "df_serverlog.show()"
      ],
      "metadata": {
        "colab": {
          "base_uri": "https://localhost:8080/"
        },
        "id": "FtfEXal0DirV",
        "outputId": "6eb77a2b-67ee-4baa-f177-2a1e20814412"
      },
      "execution_count": 15,
      "outputs": [
        {
          "output_type": "stream",
          "name": "stdout",
          "text": [
            "+-------------------+---------+-------+---------------+-------------+-----------+-------------+--------------------+\n",
            "|          timestamp|log_level|user_id|     ip_address|     endpoint|status_code|response_time|          request_id|\n",
            "+-------------------+---------+-------+---------------+-------------+-----------+-------------+--------------------+\n",
            "|2023-02-22T19:28:34|    ERROR| user_1|   192.113.2.76|/api/register|      463.0|        1.411|093c96b7-7dae-48e...|\n",
            "|2023-06-09T22:51:32|    ERROR| user_3|  192.15.237.65|  /api/logout|       NULL|        2.431|                NULL|\n",
            "|2024-11-26T03:43:14|     WARN| user_4|  172.52.177.15|   /api/login|       NULL|         0.94|cd76fb1a-b0c0-4c2...|\n",
            "|2023-06-18T23:44:57|     INFO| user_5|   192.25.49.86|  /api/logout|       NULL|        0.225|058ee99a-6a35-4b2...|\n",
            "|2024-09-18T17:54:00|     INFO| user_6|172.126.189.228|  /api/update|      309.0|         NULL|b427fa91-5bf8-4fa...|\n",
            "|2023-12-08T11:24:56|    ERROR| user_9|   10.93.214.59|  /api/logout|      495.0|        1.314|1683c6a0-cacb-456...|\n",
            "|2024-02-11T05:59:14|     WARN|user_10|   10.81.117.60|  /api/logout|      570.0|         NULL|497e161e-2b03-44c...|\n",
            "|2025-04-09T14:01:29|    DEBUG|user_12|172.228.126.139|   /api/login|      265.0|        1.201|b9f9ef83-727e-4c4...|\n",
            "|2025-02-26T04:14:59|    ERROR|user_13| 192.167.95.252|  /api/search|      410.0|        1.083|7f2cd001-7818-439...|\n",
            "|2024-08-14T07:57:44|     NULL|user_14|   192.4.66.237|  /api/search|      164.0|        0.215|33199ece-caf1-43c...|\n",
            "|2023-01-11T05:09:58|    ERROR|user_16|  10.19.207.116|  /api/delete|       NULL|        3.091|ded8efb4-2840-44b...|\n",
            "|2024-07-14T19:09:14|    DEBUG|user_18| 192.17.114.239|  /api/update|      576.0|        4.229|275f892c-796d-40d...|\n",
            "|2023-05-19T00:31:04|     WARN|user_21| 192.14.138.172|/api/register|      511.0|        0.089|                NULL|\n",
            "|2023-12-06T20:08:16|     WARN|user_22|   172.45.63.13|         NULL|      205.0|        2.609|79445311-94c4-4a1...|\n",
            "|2023-04-20T05:02:18|    ERROR|user_24|  172.169.39.75|/api/register|      296.0|        1.759|64379e33-068e-405...|\n",
            "|2024-11-06T04:41:00|     INFO|user_25| 10.226.236.143|   /api/login|      367.0|        2.985|add69933-f0aa-49b...|\n",
            "|2025-04-14T13:48:04|    ERROR|user_26| 192.204.24.172|  /api/search|      160.0|        3.635|4a461ba6-e7d0-47b...|\n",
            "|2023-07-05T17:52:37|     WARN|user_27| 192.137.86.221|         NULL|       75.0|        4.047|6cddcac5-0c59-44b...|\n",
            "|2024-06-12T04:55:17|    ERROR|user_28| 172.151.38.239|  /api/search|       69.0|        3.455|47ddbfed-bdcc-4bb...|\n",
            "|2024-08-09T02:46:32|     INFO|user_29|  10.136.109.23|/api/register|      698.0|         4.34|8481b5ab-6010-42b...|\n",
            "+-------------------+---------+-------+---------------+-------------+-----------+-------------+--------------------+\n",
            "only showing top 20 rows\n",
            "\n"
          ]
        }
      ]
    },
    {
      "cell_type": "code",
      "source": [
        "df_serverlog = df_serverlog.where(col(\"request_id\") != \"NULL\")"
      ],
      "metadata": {
        "id": "DnE0SlHODk8f"
      },
      "execution_count": 16,
      "outputs": []
    },
    {
      "cell_type": "code",
      "source": [
        "df_serverlog.show()"
      ],
      "metadata": {
        "colab": {
          "base_uri": "https://localhost:8080/"
        },
        "id": "5CAHICG2DpHz",
        "outputId": "1be611e4-c5d7-4290-c83e-c13371e96350"
      },
      "execution_count": 17,
      "outputs": [
        {
          "output_type": "stream",
          "name": "stdout",
          "text": [
            "+-------------------+---------+-------+---------------+-------------+-----------+-------------+--------------------+\n",
            "|          timestamp|log_level|user_id|     ip_address|     endpoint|status_code|response_time|          request_id|\n",
            "+-------------------+---------+-------+---------------+-------------+-----------+-------------+--------------------+\n",
            "|2023-02-22T19:28:34|    ERROR| user_1|   192.113.2.76|/api/register|      463.0|        1.411|093c96b7-7dae-48e...|\n",
            "|2024-11-26T03:43:14|     WARN| user_4|  172.52.177.15|   /api/login|       NULL|         0.94|cd76fb1a-b0c0-4c2...|\n",
            "|2023-06-18T23:44:57|     INFO| user_5|   192.25.49.86|  /api/logout|       NULL|        0.225|058ee99a-6a35-4b2...|\n",
            "|2024-09-18T17:54:00|     INFO| user_6|172.126.189.228|  /api/update|      309.0|         NULL|b427fa91-5bf8-4fa...|\n",
            "|2023-12-08T11:24:56|    ERROR| user_9|   10.93.214.59|  /api/logout|      495.0|        1.314|1683c6a0-cacb-456...|\n",
            "|2024-02-11T05:59:14|     WARN|user_10|   10.81.117.60|  /api/logout|      570.0|         NULL|497e161e-2b03-44c...|\n",
            "|2025-04-09T14:01:29|    DEBUG|user_12|172.228.126.139|   /api/login|      265.0|        1.201|b9f9ef83-727e-4c4...|\n",
            "|2025-02-26T04:14:59|    ERROR|user_13| 192.167.95.252|  /api/search|      410.0|        1.083|7f2cd001-7818-439...|\n",
            "|2024-08-14T07:57:44|     NULL|user_14|   192.4.66.237|  /api/search|      164.0|        0.215|33199ece-caf1-43c...|\n",
            "|2023-01-11T05:09:58|    ERROR|user_16|  10.19.207.116|  /api/delete|       NULL|        3.091|ded8efb4-2840-44b...|\n",
            "|2024-07-14T19:09:14|    DEBUG|user_18| 192.17.114.239|  /api/update|      576.0|        4.229|275f892c-796d-40d...|\n",
            "|2023-12-06T20:08:16|     WARN|user_22|   172.45.63.13|         NULL|      205.0|        2.609|79445311-94c4-4a1...|\n",
            "|2023-04-20T05:02:18|    ERROR|user_24|  172.169.39.75|/api/register|      296.0|        1.759|64379e33-068e-405...|\n",
            "|2024-11-06T04:41:00|     INFO|user_25| 10.226.236.143|   /api/login|      367.0|        2.985|add69933-f0aa-49b...|\n",
            "|2025-04-14T13:48:04|    ERROR|user_26| 192.204.24.172|  /api/search|      160.0|        3.635|4a461ba6-e7d0-47b...|\n",
            "|2023-07-05T17:52:37|     WARN|user_27| 192.137.86.221|         NULL|       75.0|        4.047|6cddcac5-0c59-44b...|\n",
            "|2024-06-12T04:55:17|    ERROR|user_28| 172.151.38.239|  /api/search|       69.0|        3.455|47ddbfed-bdcc-4bb...|\n",
            "|2024-08-09T02:46:32|     INFO|user_29|  10.136.109.23|/api/register|      698.0|         4.34|8481b5ab-6010-42b...|\n",
            "|2025-04-21T20:49:05|     NULL|user_30|   172.69.76.78|  /api/search|      296.0|         1.81|efea30a9-0cc9-4c6...|\n",
            "|2023-08-04T23:14:29|     INFO|user_31|172.121.235.105|  /api/search|      609.0|        4.296|405ad206-6ed6-4f2...|\n",
            "+-------------------+---------+-------+---------------+-------------+-----------+-------------+--------------------+\n",
            "only showing top 20 rows\n",
            "\n"
          ]
        }
      ]
    },
    {
      "cell_type": "code",
      "source": [],
      "metadata": {
        "id": "dIDzyr7EVX4n"
      },
      "execution_count": 17,
      "outputs": []
    },
    {
      "cell_type": "markdown",
      "source": [
        "**After dropping rows having nulls in columns timestamp, user_id, ip_address, request_id, Replacing nulls of other columns with most used, least used, average, median depending on column's requirement.**"
      ],
      "metadata": {
        "id": "xHvgMDH2U_YS"
      }
    },
    {
      "cell_type": "code",
      "source": [
        "from pyspark.sql.functions import avg,round,count,mean,median,mode,sum,when,min,max"
      ],
      "metadata": {
        "id": "cgnGYIe9EvvD"
      },
      "execution_count": 18,
      "outputs": []
    },
    {
      "cell_type": "code",
      "source": [
        "from pyspark.sql.functions import col, count\n",
        "\n",
        "most_used_log_level = df_serverlog.groupBy(\"log_level\").agg(\n",
        "    count(\"*\").alias(\"count\")\n",
        ").orderBy(col(\"count\").desc()).first()[0]"
      ],
      "metadata": {
        "id": "KRFznFCMFLva"
      },
      "execution_count": 19,
      "outputs": []
    },
    {
      "cell_type": "code",
      "source": [
        "print(most_used_log_level)"
      ],
      "metadata": {
        "colab": {
          "base_uri": "https://localhost:8080/"
        },
        "id": "MIH2PXYLMwuJ",
        "outputId": "d593a1b4-a38f-47a7-f983-de5f9fc29c7f"
      },
      "execution_count": 20,
      "outputs": [
        {
          "output_type": "stream",
          "name": "stdout",
          "text": [
            "ERROR\n"
          ]
        }
      ]
    },
    {
      "cell_type": "code",
      "source": [
        "df_serverlog = df_serverlog.fillna({'log_level' : most_used_log_level})"
      ],
      "metadata": {
        "id": "pC5j5DVNLoYp"
      },
      "execution_count": 21,
      "outputs": []
    },
    {
      "cell_type": "code",
      "source": [
        "df_serverlog.show()"
      ],
      "metadata": {
        "colab": {
          "base_uri": "https://localhost:8080/"
        },
        "id": "XBgZT665E5bB",
        "outputId": "43b564d3-4adb-4afa-a76a-36bc9436ad3b"
      },
      "execution_count": 22,
      "outputs": [
        {
          "output_type": "stream",
          "name": "stdout",
          "text": [
            "+-------------------+---------+-------+---------------+-------------+-----------+-------------+--------------------+\n",
            "|          timestamp|log_level|user_id|     ip_address|     endpoint|status_code|response_time|          request_id|\n",
            "+-------------------+---------+-------+---------------+-------------+-----------+-------------+--------------------+\n",
            "|2023-02-22T19:28:34|    ERROR| user_1|   192.113.2.76|/api/register|      463.0|        1.411|093c96b7-7dae-48e...|\n",
            "|2024-11-26T03:43:14|     WARN| user_4|  172.52.177.15|   /api/login|       NULL|         0.94|cd76fb1a-b0c0-4c2...|\n",
            "|2023-06-18T23:44:57|     INFO| user_5|   192.25.49.86|  /api/logout|       NULL|        0.225|058ee99a-6a35-4b2...|\n",
            "|2024-09-18T17:54:00|     INFO| user_6|172.126.189.228|  /api/update|      309.0|         NULL|b427fa91-5bf8-4fa...|\n",
            "|2023-12-08T11:24:56|    ERROR| user_9|   10.93.214.59|  /api/logout|      495.0|        1.314|1683c6a0-cacb-456...|\n",
            "|2024-02-11T05:59:14|     WARN|user_10|   10.81.117.60|  /api/logout|      570.0|         NULL|497e161e-2b03-44c...|\n",
            "|2025-04-09T14:01:29|    DEBUG|user_12|172.228.126.139|   /api/login|      265.0|        1.201|b9f9ef83-727e-4c4...|\n",
            "|2025-02-26T04:14:59|    ERROR|user_13| 192.167.95.252|  /api/search|      410.0|        1.083|7f2cd001-7818-439...|\n",
            "|2024-08-14T07:57:44|    ERROR|user_14|   192.4.66.237|  /api/search|      164.0|        0.215|33199ece-caf1-43c...|\n",
            "|2023-01-11T05:09:58|    ERROR|user_16|  10.19.207.116|  /api/delete|       NULL|        3.091|ded8efb4-2840-44b...|\n",
            "|2024-07-14T19:09:14|    DEBUG|user_18| 192.17.114.239|  /api/update|      576.0|        4.229|275f892c-796d-40d...|\n",
            "|2023-12-06T20:08:16|     WARN|user_22|   172.45.63.13|         NULL|      205.0|        2.609|79445311-94c4-4a1...|\n",
            "|2023-04-20T05:02:18|    ERROR|user_24|  172.169.39.75|/api/register|      296.0|        1.759|64379e33-068e-405...|\n",
            "|2024-11-06T04:41:00|     INFO|user_25| 10.226.236.143|   /api/login|      367.0|        2.985|add69933-f0aa-49b...|\n",
            "|2025-04-14T13:48:04|    ERROR|user_26| 192.204.24.172|  /api/search|      160.0|        3.635|4a461ba6-e7d0-47b...|\n",
            "|2023-07-05T17:52:37|     WARN|user_27| 192.137.86.221|         NULL|       75.0|        4.047|6cddcac5-0c59-44b...|\n",
            "|2024-06-12T04:55:17|    ERROR|user_28| 172.151.38.239|  /api/search|       69.0|        3.455|47ddbfed-bdcc-4bb...|\n",
            "|2024-08-09T02:46:32|     INFO|user_29|  10.136.109.23|/api/register|      698.0|         4.34|8481b5ab-6010-42b...|\n",
            "|2025-04-21T20:49:05|    ERROR|user_30|   172.69.76.78|  /api/search|      296.0|         1.81|efea30a9-0cc9-4c6...|\n",
            "|2023-08-04T23:14:29|     INFO|user_31|172.121.235.105|  /api/search|      609.0|        4.296|405ad206-6ed6-4f2...|\n",
            "+-------------------+---------+-------+---------------+-------------+-----------+-------------+--------------------+\n",
            "only showing top 20 rows\n",
            "\n"
          ]
        }
      ]
    },
    {
      "cell_type": "code",
      "source": [
        "most_used_endpoint = df_serverlog.groupBy(\"endpoint\").agg(\n",
        "    count(\"*\").alias(\"count\")\n",
        ").orderBy(col(\"count\").desc()).first()[0]"
      ],
      "metadata": {
        "id": "CfyclM0SFCaF"
      },
      "execution_count": 23,
      "outputs": []
    },
    {
      "cell_type": "code",
      "source": [
        "print(most_used_endpoint)"
      ],
      "metadata": {
        "colab": {
          "base_uri": "https://localhost:8080/"
        },
        "id": "tlnHncL8FR0M",
        "outputId": "b6cda3e2-a43e-4b7d-bd9b-ffb7f47b28b0"
      },
      "execution_count": 24,
      "outputs": [
        {
          "output_type": "stream",
          "name": "stdout",
          "text": [
            "/api/delete\n"
          ]
        }
      ]
    },
    {
      "cell_type": "code",
      "source": [
        "df_serverlog = df_serverlog.fillna({'endpoint' : most_used_endpoint})"
      ],
      "metadata": {
        "id": "iJih7g7oFW3u"
      },
      "execution_count": 25,
      "outputs": []
    },
    {
      "cell_type": "code",
      "source": [
        "df_serverlog.show()"
      ],
      "metadata": {
        "colab": {
          "base_uri": "https://localhost:8080/"
        },
        "id": "sJu0eRfrFevk",
        "outputId": "38b4eb0c-f9cb-40b1-d08d-3b64ac934f77"
      },
      "execution_count": 26,
      "outputs": [
        {
          "output_type": "stream",
          "name": "stdout",
          "text": [
            "+-------------------+---------+-------+---------------+-------------+-----------+-------------+--------------------+\n",
            "|          timestamp|log_level|user_id|     ip_address|     endpoint|status_code|response_time|          request_id|\n",
            "+-------------------+---------+-------+---------------+-------------+-----------+-------------+--------------------+\n",
            "|2023-02-22T19:28:34|    ERROR| user_1|   192.113.2.76|/api/register|      463.0|        1.411|093c96b7-7dae-48e...|\n",
            "|2024-11-26T03:43:14|     WARN| user_4|  172.52.177.15|   /api/login|       NULL|         0.94|cd76fb1a-b0c0-4c2...|\n",
            "|2023-06-18T23:44:57|     INFO| user_5|   192.25.49.86|  /api/logout|       NULL|        0.225|058ee99a-6a35-4b2...|\n",
            "|2024-09-18T17:54:00|     INFO| user_6|172.126.189.228|  /api/update|      309.0|         NULL|b427fa91-5bf8-4fa...|\n",
            "|2023-12-08T11:24:56|    ERROR| user_9|   10.93.214.59|  /api/logout|      495.0|        1.314|1683c6a0-cacb-456...|\n",
            "|2024-02-11T05:59:14|     WARN|user_10|   10.81.117.60|  /api/logout|      570.0|         NULL|497e161e-2b03-44c...|\n",
            "|2025-04-09T14:01:29|    DEBUG|user_12|172.228.126.139|   /api/login|      265.0|        1.201|b9f9ef83-727e-4c4...|\n",
            "|2025-02-26T04:14:59|    ERROR|user_13| 192.167.95.252|  /api/search|      410.0|        1.083|7f2cd001-7818-439...|\n",
            "|2024-08-14T07:57:44|    ERROR|user_14|   192.4.66.237|  /api/search|      164.0|        0.215|33199ece-caf1-43c...|\n",
            "|2023-01-11T05:09:58|    ERROR|user_16|  10.19.207.116|  /api/delete|       NULL|        3.091|ded8efb4-2840-44b...|\n",
            "|2024-07-14T19:09:14|    DEBUG|user_18| 192.17.114.239|  /api/update|      576.0|        4.229|275f892c-796d-40d...|\n",
            "|2023-12-06T20:08:16|     WARN|user_22|   172.45.63.13|  /api/delete|      205.0|        2.609|79445311-94c4-4a1...|\n",
            "|2023-04-20T05:02:18|    ERROR|user_24|  172.169.39.75|/api/register|      296.0|        1.759|64379e33-068e-405...|\n",
            "|2024-11-06T04:41:00|     INFO|user_25| 10.226.236.143|   /api/login|      367.0|        2.985|add69933-f0aa-49b...|\n",
            "|2025-04-14T13:48:04|    ERROR|user_26| 192.204.24.172|  /api/search|      160.0|        3.635|4a461ba6-e7d0-47b...|\n",
            "|2023-07-05T17:52:37|     WARN|user_27| 192.137.86.221|  /api/delete|       75.0|        4.047|6cddcac5-0c59-44b...|\n",
            "|2024-06-12T04:55:17|    ERROR|user_28| 172.151.38.239|  /api/search|       69.0|        3.455|47ddbfed-bdcc-4bb...|\n",
            "|2024-08-09T02:46:32|     INFO|user_29|  10.136.109.23|/api/register|      698.0|         4.34|8481b5ab-6010-42b...|\n",
            "|2025-04-21T20:49:05|    ERROR|user_30|   172.69.76.78|  /api/search|      296.0|         1.81|efea30a9-0cc9-4c6...|\n",
            "|2023-08-04T23:14:29|     INFO|user_31|172.121.235.105|  /api/search|      609.0|        4.296|405ad206-6ed6-4f2...|\n",
            "+-------------------+---------+-------+---------------+-------------+-----------+-------------+--------------------+\n",
            "only showing top 20 rows\n",
            "\n"
          ]
        }
      ]
    },
    {
      "cell_type": "code",
      "source": [
        "avg_status_code = df_serverlog.select(round(avg(\"status_code\"))).collect()[0][0]"
      ],
      "metadata": {
        "id": "qUvOA6SZFmLO"
      },
      "execution_count": 27,
      "outputs": []
    },
    {
      "cell_type": "code",
      "source": [
        "df_serverlog = df_serverlog.fillna({'status_code' : avg_status_code})"
      ],
      "metadata": {
        "id": "HZ_7RpeHGH8s"
      },
      "execution_count": 28,
      "outputs": []
    },
    {
      "cell_type": "code",
      "source": [
        "df_serverlog.show()"
      ],
      "metadata": {
        "colab": {
          "base_uri": "https://localhost:8080/"
        },
        "id": "RKhnboPwGR7r",
        "outputId": "ad376f1f-7df5-46be-96fc-d3dbe0a5613b"
      },
      "execution_count": 29,
      "outputs": [
        {
          "output_type": "stream",
          "name": "stdout",
          "text": [
            "+-------------------+---------+-------+---------------+-------------+-----------+-------------+--------------------+\n",
            "|          timestamp|log_level|user_id|     ip_address|     endpoint|status_code|response_time|          request_id|\n",
            "+-------------------+---------+-------+---------------+-------------+-----------+-------------+--------------------+\n",
            "|2023-02-22T19:28:34|    ERROR| user_1|   192.113.2.76|/api/register|      463.0|        1.411|093c96b7-7dae-48e...|\n",
            "|2024-11-26T03:43:14|     WARN| user_4|  172.52.177.15|   /api/login|      390.0|         0.94|cd76fb1a-b0c0-4c2...|\n",
            "|2023-06-18T23:44:57|     INFO| user_5|   192.25.49.86|  /api/logout|      390.0|        0.225|058ee99a-6a35-4b2...|\n",
            "|2024-09-18T17:54:00|     INFO| user_6|172.126.189.228|  /api/update|      309.0|         NULL|b427fa91-5bf8-4fa...|\n",
            "|2023-12-08T11:24:56|    ERROR| user_9|   10.93.214.59|  /api/logout|      495.0|        1.314|1683c6a0-cacb-456...|\n",
            "|2024-02-11T05:59:14|     WARN|user_10|   10.81.117.60|  /api/logout|      570.0|         NULL|497e161e-2b03-44c...|\n",
            "|2025-04-09T14:01:29|    DEBUG|user_12|172.228.126.139|   /api/login|      265.0|        1.201|b9f9ef83-727e-4c4...|\n",
            "|2025-02-26T04:14:59|    ERROR|user_13| 192.167.95.252|  /api/search|      410.0|        1.083|7f2cd001-7818-439...|\n",
            "|2024-08-14T07:57:44|    ERROR|user_14|   192.4.66.237|  /api/search|      164.0|        0.215|33199ece-caf1-43c...|\n",
            "|2023-01-11T05:09:58|    ERROR|user_16|  10.19.207.116|  /api/delete|      390.0|        3.091|ded8efb4-2840-44b...|\n",
            "|2024-07-14T19:09:14|    DEBUG|user_18| 192.17.114.239|  /api/update|      576.0|        4.229|275f892c-796d-40d...|\n",
            "|2023-12-06T20:08:16|     WARN|user_22|   172.45.63.13|  /api/delete|      205.0|        2.609|79445311-94c4-4a1...|\n",
            "|2023-04-20T05:02:18|    ERROR|user_24|  172.169.39.75|/api/register|      296.0|        1.759|64379e33-068e-405...|\n",
            "|2024-11-06T04:41:00|     INFO|user_25| 10.226.236.143|   /api/login|      367.0|        2.985|add69933-f0aa-49b...|\n",
            "|2025-04-14T13:48:04|    ERROR|user_26| 192.204.24.172|  /api/search|      160.0|        3.635|4a461ba6-e7d0-47b...|\n",
            "|2023-07-05T17:52:37|     WARN|user_27| 192.137.86.221|  /api/delete|       75.0|        4.047|6cddcac5-0c59-44b...|\n",
            "|2024-06-12T04:55:17|    ERROR|user_28| 172.151.38.239|  /api/search|       69.0|        3.455|47ddbfed-bdcc-4bb...|\n",
            "|2024-08-09T02:46:32|     INFO|user_29|  10.136.109.23|/api/register|      698.0|         4.34|8481b5ab-6010-42b...|\n",
            "|2025-04-21T20:49:05|    ERROR|user_30|   172.69.76.78|  /api/search|      296.0|         1.81|efea30a9-0cc9-4c6...|\n",
            "|2023-08-04T23:14:29|     INFO|user_31|172.121.235.105|  /api/search|      609.0|        4.296|405ad206-6ed6-4f2...|\n",
            "+-------------------+---------+-------+---------------+-------------+-----------+-------------+--------------------+\n",
            "only showing top 20 rows\n",
            "\n"
          ]
        }
      ]
    },
    {
      "cell_type": "code",
      "source": [
        "mean_response_time = df_serverlog.select(round(mean(\"response_time\"),3)).collect()[0][0]"
      ],
      "metadata": {
        "id": "0SYojK8wGgko"
      },
      "execution_count": 30,
      "outputs": []
    },
    {
      "cell_type": "code",
      "source": [
        "df_serverlog = df_serverlog.fillna({'response_time' : mean_response_time})"
      ],
      "metadata": {
        "id": "Gyv5il3wHCb5"
      },
      "execution_count": 31,
      "outputs": []
    },
    {
      "cell_type": "code",
      "source": [
        "df_serverlog.orderBy(\"status_code\").show()"
      ],
      "metadata": {
        "colab": {
          "base_uri": "https://localhost:8080/"
        },
        "id": "o8OOX2joIKlA",
        "outputId": "c7e54fb6-bbd1-4ff0-adad-ef3392f1e895"
      },
      "execution_count": 32,
      "outputs": [
        {
          "output_type": "stream",
          "name": "stdout",
          "text": [
            "+-------------------+---------+----------+--------------+-------------+-----------+-------------+--------------------+\n",
            "|          timestamp|log_level|   user_id|    ip_address|     endpoint|status_code|response_time|          request_id|\n",
            "+-------------------+---------+----------+--------------+-------------+-----------+-------------+--------------------+\n",
            "|2023-05-20T18:25:17|     INFO|user_70610| 10.217.42.230|   /api/login|      100.0|        1.931|69cc858a-2680-457...|\n",
            "|2024-11-09T23:44:13|     WARN|user_11129|172.107.57.202|/api/register|      100.0|        3.479|3e8166cd-094f-42f...|\n",
            "|2023-02-13T05:55:11|    ERROR|user_71952|172.88.177.186|   /api/login|      100.0|        2.523|7b52648c-e485-4dc...|\n",
            "|2023-07-19T22:06:49|     WARN|user_18551| 10.128.67.191|  /api/update|      100.0|        3.479|1818cbe4-3a78-465...|\n",
            "|2025-01-02T02:33:56|     WARN|user_72339| 172.229.23.61|/api/register|      100.0|        2.523|8b5531a4-aa1e-4a1...|\n",
            "|2023-02-17T19:41:28|     INFO|user_11317|192.217.106.57|   /api/login|      100.0|        2.719|c68fa118-65f7-453...|\n",
            "|2024-09-30T17:23:59|    ERROR|user_74988|192.112.220.98|  /api/logout|      100.0|        1.605|962cd0e3-a60c-4ee...|\n",
            "|2023-08-15T07:09:28|    DEBUG| user_3363| 172.44.221.14|  /api/delete|      100.0|         2.16|0e098a3c-8762-468...|\n",
            "|2023-09-25T12:38:04|    ERROR|user_75629|192.29.244.133|  /api/search|      100.0|        4.212|7e239813-211e-430...|\n",
            "|2024-02-20T01:19:38|     WARN|user_14848|172.191.78.238|   /api/login|      100.0|        2.991|e80e5181-300e-4d6...|\n",
            "|2025-04-26T14:41:50|    ERROR|user_77531|172.141.91.217|   /api/login|      100.0|         1.93|dbd3f11f-97a5-46c...|\n",
            "|2024-04-27T09:28:40|    DEBUG|user_18426|192.90.102.247|/api/register|      100.0|        2.523|e60843fe-9e04-4dc...|\n",
            "|2024-11-26T04:48:56|    ERROR|user_78405|   10.66.57.33|  /api/search|      100.0|        3.274|144ae327-d412-4c1...|\n",
            "|2024-12-23T05:03:27|    ERROR|user_15081|  172.7.54.156|  /api/logout|      100.0|        4.296|ab7bebea-faab-4e1...|\n",
            "|2024-06-17T18:17:54|    DEBUG|user_78461|172.88.134.141|  /api/search|      100.0|        2.759|ba9bb092-18df-4e0...|\n",
            "|2023-11-22T14:44:25|     INFO| user_9656|10.223.239.115|  /api/search|      100.0|        2.467|88028854-0f8a-466...|\n",
            "|2024-10-17T06:03:07|    ERROR|user_93714| 10.226.83.181|  /api/search|      100.0|        3.649|c007c6e8-c0f1-40c...|\n",
            "|2023-08-01T05:09:37|     WARN|user_15431| 10.170.224.33|  /api/search|      100.0|        3.355|f9cc9197-417e-45b...|\n",
            "|2024-11-27T04:58:27|    ERROR|user_81168|192.50.175.187|/api/register|      100.0|        3.508|f6c7528a-c9ca-408...|\n",
            "|2024-06-04T12:48:06|    ERROR| user_4695|172.162.35.187|/api/register|      100.0|        3.952|e9099280-776c-40e...|\n",
            "+-------------------+---------+----------+--------------+-------------+-----------+-------------+--------------------+\n",
            "only showing top 20 rows\n",
            "\n"
          ]
        }
      ]
    },
    {
      "cell_type": "code",
      "source": [
        "df_serverlog.count()"
      ],
      "metadata": {
        "colab": {
          "base_uri": "https://localhost:8080/"
        },
        "id": "HPCaGGmZIjak",
        "outputId": "ab492ce7-49dd-4a56-979f-b0308532466d"
      },
      "execution_count": 33,
      "outputs": [
        {
          "output_type": "execute_result",
          "data": {
            "text/plain": [
              "72864"
            ]
          },
          "metadata": {},
          "execution_count": 33
        }
      ]
    },
    {
      "cell_type": "code",
      "source": [],
      "metadata": {
        "id": "XxsFJdz_VZzK"
      },
      "execution_count": 33,
      "outputs": []
    },
    {
      "cell_type": "markdown",
      "source": [
        "**Cleaning the dataset. Assuming that if the status code is less than 15% should be dropped. Status code has integer less than 1000.**"
      ],
      "metadata": {
        "id": "CITLOntnU3lo"
      }
    },
    {
      "cell_type": "code",
      "source": [
        "df_serverlog = df_serverlog.where(col(\"status_code\")/1000 > 0.15)"
      ],
      "metadata": {
        "id": "osx5SHrxIPlo"
      },
      "execution_count": 34,
      "outputs": []
    },
    {
      "cell_type": "code",
      "source": [
        "df_serverlog.count()"
      ],
      "metadata": {
        "colab": {
          "base_uri": "https://localhost:8080/"
        },
        "id": "UwFUZHfnIhWm",
        "outputId": "f4054d95-93c1-45d2-9056-487de809d4b0"
      },
      "execution_count": 35,
      "outputs": [
        {
          "output_type": "execute_result",
          "data": {
            "text/plain": [
              "62430"
            ]
          },
          "metadata": {},
          "execution_count": 35
        }
      ]
    },
    {
      "cell_type": "code",
      "source": [],
      "metadata": {
        "id": "yFygKsDMVbIY"
      },
      "execution_count": 35,
      "outputs": []
    },
    {
      "cell_type": "markdown",
      "source": [
        "**Adding columns like hour_of_the_day, day_of_the_week, is_error to check the error log_level. Assuming good status code be greater than 400, and good response time be less than 1 sec.**"
      ],
      "metadata": {
        "id": "NyETB4zDVbk8"
      }
    },
    {
      "cell_type": "code",
      "source": [
        "from pyspark.sql.functions import hour\n",
        "\n",
        "df_serverlog = df_serverlog.withColumn(\"timestamp\", df_serverlog[\"timestamp\"].cast(\"timestamp\"))\n",
        "df_serverlog = df_serverlog.withColumn(\"hour_of_the_day\", hour(df_serverlog[\"timestamp\"]))"
      ],
      "metadata": {
        "id": "AnpPopczJUZ3"
      },
      "execution_count": 36,
      "outputs": []
    },
    {
      "cell_type": "code",
      "source": [
        "df_serverlog.show()"
      ],
      "metadata": {
        "colab": {
          "base_uri": "https://localhost:8080/"
        },
        "id": "S-WDVS8SJpaT",
        "outputId": "5aac7daf-246c-429e-b18a-2cb1eb31bbfa"
      },
      "execution_count": 37,
      "outputs": [
        {
          "output_type": "stream",
          "name": "stdout",
          "text": [
            "+-------------------+---------+-------+---------------+-------------+-----------+-------------+--------------------+---------------+\n",
            "|          timestamp|log_level|user_id|     ip_address|     endpoint|status_code|response_time|          request_id|hour_of_the_day|\n",
            "+-------------------+---------+-------+---------------+-------------+-----------+-------------+--------------------+---------------+\n",
            "|2023-02-22 19:28:34|    ERROR| user_1|   192.113.2.76|/api/register|      463.0|        1.411|093c96b7-7dae-48e...|             19|\n",
            "|2024-11-26 03:43:14|     WARN| user_4|  172.52.177.15|   /api/login|      390.0|         0.94|cd76fb1a-b0c0-4c2...|              3|\n",
            "|2023-06-18 23:44:57|     INFO| user_5|   192.25.49.86|  /api/logout|      390.0|        0.225|058ee99a-6a35-4b2...|             23|\n",
            "|2024-09-18 17:54:00|     INFO| user_6|172.126.189.228|  /api/update|      309.0|        2.523|b427fa91-5bf8-4fa...|             17|\n",
            "|2023-12-08 11:24:56|    ERROR| user_9|   10.93.214.59|  /api/logout|      495.0|        1.314|1683c6a0-cacb-456...|             11|\n",
            "|2024-02-11 05:59:14|     WARN|user_10|   10.81.117.60|  /api/logout|      570.0|        2.523|497e161e-2b03-44c...|              5|\n",
            "|2025-04-09 14:01:29|    DEBUG|user_12|172.228.126.139|   /api/login|      265.0|        1.201|b9f9ef83-727e-4c4...|             14|\n",
            "|2025-02-26 04:14:59|    ERROR|user_13| 192.167.95.252|  /api/search|      410.0|        1.083|7f2cd001-7818-439...|              4|\n",
            "|2024-08-14 07:57:44|    ERROR|user_14|   192.4.66.237|  /api/search|      164.0|        0.215|33199ece-caf1-43c...|              7|\n",
            "|2023-01-11 05:09:58|    ERROR|user_16|  10.19.207.116|  /api/delete|      390.0|        3.091|ded8efb4-2840-44b...|              5|\n",
            "|2024-07-14 19:09:14|    DEBUG|user_18| 192.17.114.239|  /api/update|      576.0|        4.229|275f892c-796d-40d...|             19|\n",
            "|2023-12-06 20:08:16|     WARN|user_22|   172.45.63.13|  /api/delete|      205.0|        2.609|79445311-94c4-4a1...|             20|\n",
            "|2023-04-20 05:02:18|    ERROR|user_24|  172.169.39.75|/api/register|      296.0|        1.759|64379e33-068e-405...|              5|\n",
            "|2024-11-06 04:41:00|     INFO|user_25| 10.226.236.143|   /api/login|      367.0|        2.985|add69933-f0aa-49b...|              4|\n",
            "|2025-04-14 13:48:04|    ERROR|user_26| 192.204.24.172|  /api/search|      160.0|        3.635|4a461ba6-e7d0-47b...|             13|\n",
            "|2024-08-09 02:46:32|     INFO|user_29|  10.136.109.23|/api/register|      698.0|         4.34|8481b5ab-6010-42b...|              2|\n",
            "|2025-04-21 20:49:05|    ERROR|user_30|   172.69.76.78|  /api/search|      296.0|         1.81|efea30a9-0cc9-4c6...|             20|\n",
            "|2023-08-04 23:14:29|     INFO|user_31|172.121.235.105|  /api/search|      609.0|        4.296|405ad206-6ed6-4f2...|             23|\n",
            "|2024-07-12 14:13:50|     INFO|user_33|   172.58.64.36|  /api/update|      533.0|        0.635|99a16c9a-79b3-433...|             14|\n",
            "|2024-08-04 08:58:26|     WARN|user_34| 10.126.108.212|  /api/search|      390.0|        2.523|adcb12bb-e5ad-400...|              8|\n",
            "+-------------------+---------+-------+---------------+-------------+-----------+-------------+--------------------+---------------+\n",
            "only showing top 20 rows\n",
            "\n"
          ]
        }
      ]
    },
    {
      "cell_type": "markdown",
      "source": [],
      "metadata": {
        "id": "IeQ8LYDXUxhT"
      }
    },
    {
      "cell_type": "code",
      "source": [
        "from pyspark.sql.functions import date_format\n",
        "\n",
        "df_serverlog = df_serverlog.withColumn(\"day_of_the_week\", date_format(df_serverlog[\"timestamp\"], \"EEEE\"))"
      ],
      "metadata": {
        "id": "VRxzxqfPJwYH"
      },
      "execution_count": 38,
      "outputs": []
    },
    {
      "cell_type": "code",
      "source": [
        "df_serverlog.show()"
      ],
      "metadata": {
        "colab": {
          "base_uri": "https://localhost:8080/"
        },
        "id": "kpBWg0EiJyH8",
        "outputId": "3173d529-c997-4d0e-fb04-1ce09e4b7a8e"
      },
      "execution_count": 39,
      "outputs": [
        {
          "output_type": "stream",
          "name": "stdout",
          "text": [
            "+-------------------+---------+-------+---------------+-------------+-----------+-------------+--------------------+---------------+---------------+\n",
            "|          timestamp|log_level|user_id|     ip_address|     endpoint|status_code|response_time|          request_id|hour_of_the_day|day_of_the_week|\n",
            "+-------------------+---------+-------+---------------+-------------+-----------+-------------+--------------------+---------------+---------------+\n",
            "|2023-02-22 19:28:34|    ERROR| user_1|   192.113.2.76|/api/register|      463.0|        1.411|093c96b7-7dae-48e...|             19|      Wednesday|\n",
            "|2024-11-26 03:43:14|     WARN| user_4|  172.52.177.15|   /api/login|      390.0|         0.94|cd76fb1a-b0c0-4c2...|              3|        Tuesday|\n",
            "|2023-06-18 23:44:57|     INFO| user_5|   192.25.49.86|  /api/logout|      390.0|        0.225|058ee99a-6a35-4b2...|             23|         Sunday|\n",
            "|2024-09-18 17:54:00|     INFO| user_6|172.126.189.228|  /api/update|      309.0|        2.523|b427fa91-5bf8-4fa...|             17|      Wednesday|\n",
            "|2023-12-08 11:24:56|    ERROR| user_9|   10.93.214.59|  /api/logout|      495.0|        1.314|1683c6a0-cacb-456...|             11|         Friday|\n",
            "|2024-02-11 05:59:14|     WARN|user_10|   10.81.117.60|  /api/logout|      570.0|        2.523|497e161e-2b03-44c...|              5|         Sunday|\n",
            "|2025-04-09 14:01:29|    DEBUG|user_12|172.228.126.139|   /api/login|      265.0|        1.201|b9f9ef83-727e-4c4...|             14|      Wednesday|\n",
            "|2025-02-26 04:14:59|    ERROR|user_13| 192.167.95.252|  /api/search|      410.0|        1.083|7f2cd001-7818-439...|              4|      Wednesday|\n",
            "|2024-08-14 07:57:44|    ERROR|user_14|   192.4.66.237|  /api/search|      164.0|        0.215|33199ece-caf1-43c...|              7|      Wednesday|\n",
            "|2023-01-11 05:09:58|    ERROR|user_16|  10.19.207.116|  /api/delete|      390.0|        3.091|ded8efb4-2840-44b...|              5|      Wednesday|\n",
            "|2024-07-14 19:09:14|    DEBUG|user_18| 192.17.114.239|  /api/update|      576.0|        4.229|275f892c-796d-40d...|             19|         Sunday|\n",
            "|2023-12-06 20:08:16|     WARN|user_22|   172.45.63.13|  /api/delete|      205.0|        2.609|79445311-94c4-4a1...|             20|      Wednesday|\n",
            "|2023-04-20 05:02:18|    ERROR|user_24|  172.169.39.75|/api/register|      296.0|        1.759|64379e33-068e-405...|              5|       Thursday|\n",
            "|2024-11-06 04:41:00|     INFO|user_25| 10.226.236.143|   /api/login|      367.0|        2.985|add69933-f0aa-49b...|              4|      Wednesday|\n",
            "|2025-04-14 13:48:04|    ERROR|user_26| 192.204.24.172|  /api/search|      160.0|        3.635|4a461ba6-e7d0-47b...|             13|         Monday|\n",
            "|2024-08-09 02:46:32|     INFO|user_29|  10.136.109.23|/api/register|      698.0|         4.34|8481b5ab-6010-42b...|              2|         Friday|\n",
            "|2025-04-21 20:49:05|    ERROR|user_30|   172.69.76.78|  /api/search|      296.0|         1.81|efea30a9-0cc9-4c6...|             20|         Monday|\n",
            "|2023-08-04 23:14:29|     INFO|user_31|172.121.235.105|  /api/search|      609.0|        4.296|405ad206-6ed6-4f2...|             23|         Friday|\n",
            "|2024-07-12 14:13:50|     INFO|user_33|   172.58.64.36|  /api/update|      533.0|        0.635|99a16c9a-79b3-433...|             14|         Friday|\n",
            "|2024-08-04 08:58:26|     WARN|user_34| 10.126.108.212|  /api/search|      390.0|        2.523|adcb12bb-e5ad-400...|              8|         Sunday|\n",
            "+-------------------+---------+-------+---------------+-------------+-----------+-------------+--------------------+---------------+---------------+\n",
            "only showing top 20 rows\n",
            "\n"
          ]
        }
      ]
    },
    {
      "cell_type": "code",
      "source": [
        "from pyspark.sql.functions import when\n",
        "\n",
        "df_serverlog = df_serverlog.withColumn(\"is_error\",when(df_serverlog['log_level'] == \"ERROR\", True).otherwise(False))"
      ],
      "metadata": {
        "id": "hBsdrDBbJ0Q7"
      },
      "execution_count": 40,
      "outputs": []
    },
    {
      "cell_type": "code",
      "source": [
        "df_serverlog.show()"
      ],
      "metadata": {
        "colab": {
          "base_uri": "https://localhost:8080/"
        },
        "id": "0qeOKqm9J5xz",
        "outputId": "b980822b-3fc3-47aa-bcb0-5db4b488def3"
      },
      "execution_count": 41,
      "outputs": [
        {
          "output_type": "stream",
          "name": "stdout",
          "text": [
            "+-------------------+---------+-------+---------------+-------------+-----------+-------------+--------------------+---------------+---------------+--------+\n",
            "|          timestamp|log_level|user_id|     ip_address|     endpoint|status_code|response_time|          request_id|hour_of_the_day|day_of_the_week|is_error|\n",
            "+-------------------+---------+-------+---------------+-------------+-----------+-------------+--------------------+---------------+---------------+--------+\n",
            "|2023-02-22 19:28:34|    ERROR| user_1|   192.113.2.76|/api/register|      463.0|        1.411|093c96b7-7dae-48e...|             19|      Wednesday|    true|\n",
            "|2024-11-26 03:43:14|     WARN| user_4|  172.52.177.15|   /api/login|      390.0|         0.94|cd76fb1a-b0c0-4c2...|              3|        Tuesday|   false|\n",
            "|2023-06-18 23:44:57|     INFO| user_5|   192.25.49.86|  /api/logout|      390.0|        0.225|058ee99a-6a35-4b2...|             23|         Sunday|   false|\n",
            "|2024-09-18 17:54:00|     INFO| user_6|172.126.189.228|  /api/update|      309.0|        2.523|b427fa91-5bf8-4fa...|             17|      Wednesday|   false|\n",
            "|2023-12-08 11:24:56|    ERROR| user_9|   10.93.214.59|  /api/logout|      495.0|        1.314|1683c6a0-cacb-456...|             11|         Friday|    true|\n",
            "|2024-02-11 05:59:14|     WARN|user_10|   10.81.117.60|  /api/logout|      570.0|        2.523|497e161e-2b03-44c...|              5|         Sunday|   false|\n",
            "|2025-04-09 14:01:29|    DEBUG|user_12|172.228.126.139|   /api/login|      265.0|        1.201|b9f9ef83-727e-4c4...|             14|      Wednesday|   false|\n",
            "|2025-02-26 04:14:59|    ERROR|user_13| 192.167.95.252|  /api/search|      410.0|        1.083|7f2cd001-7818-439...|              4|      Wednesday|    true|\n",
            "|2024-08-14 07:57:44|    ERROR|user_14|   192.4.66.237|  /api/search|      164.0|        0.215|33199ece-caf1-43c...|              7|      Wednesday|    true|\n",
            "|2023-01-11 05:09:58|    ERROR|user_16|  10.19.207.116|  /api/delete|      390.0|        3.091|ded8efb4-2840-44b...|              5|      Wednesday|    true|\n",
            "|2024-07-14 19:09:14|    DEBUG|user_18| 192.17.114.239|  /api/update|      576.0|        4.229|275f892c-796d-40d...|             19|         Sunday|   false|\n",
            "|2023-12-06 20:08:16|     WARN|user_22|   172.45.63.13|  /api/delete|      205.0|        2.609|79445311-94c4-4a1...|             20|      Wednesday|   false|\n",
            "|2023-04-20 05:02:18|    ERROR|user_24|  172.169.39.75|/api/register|      296.0|        1.759|64379e33-068e-405...|              5|       Thursday|    true|\n",
            "|2024-11-06 04:41:00|     INFO|user_25| 10.226.236.143|   /api/login|      367.0|        2.985|add69933-f0aa-49b...|              4|      Wednesday|   false|\n",
            "|2025-04-14 13:48:04|    ERROR|user_26| 192.204.24.172|  /api/search|      160.0|        3.635|4a461ba6-e7d0-47b...|             13|         Monday|    true|\n",
            "|2024-08-09 02:46:32|     INFO|user_29|  10.136.109.23|/api/register|      698.0|         4.34|8481b5ab-6010-42b...|              2|         Friday|   false|\n",
            "|2025-04-21 20:49:05|    ERROR|user_30|   172.69.76.78|  /api/search|      296.0|         1.81|efea30a9-0cc9-4c6...|             20|         Monday|    true|\n",
            "|2023-08-04 23:14:29|     INFO|user_31|172.121.235.105|  /api/search|      609.0|        4.296|405ad206-6ed6-4f2...|             23|         Friday|   false|\n",
            "|2024-07-12 14:13:50|     INFO|user_33|   172.58.64.36|  /api/update|      533.0|        0.635|99a16c9a-79b3-433...|             14|         Friday|   false|\n",
            "|2024-08-04 08:58:26|     WARN|user_34| 10.126.108.212|  /api/search|      390.0|        2.523|adcb12bb-e5ad-400...|              8|         Sunday|   false|\n",
            "+-------------------+---------+-------+---------------+-------------+-----------+-------------+--------------------+---------------+---------------+--------+\n",
            "only showing top 20 rows\n",
            "\n"
          ]
        }
      ]
    },
    {
      "cell_type": "code",
      "source": [
        "df_serverlog = df_serverlog.withColumn(\"good_status\",when(df_serverlog['status_code'] >=400, True).otherwise(False))"
      ],
      "metadata": {
        "id": "HaCPggTxKBkn"
      },
      "execution_count": 42,
      "outputs": []
    },
    {
      "cell_type": "code",
      "source": [
        "df_serverlog.show()"
      ],
      "metadata": {
        "colab": {
          "base_uri": "https://localhost:8080/"
        },
        "id": "xhGQDy26KC55",
        "outputId": "2c810f01-12be-41de-d802-00c897b77d10"
      },
      "execution_count": 43,
      "outputs": [
        {
          "output_type": "stream",
          "name": "stdout",
          "text": [
            "+-------------------+---------+-------+---------------+-------------+-----------+-------------+--------------------+---------------+---------------+--------+-----------+\n",
            "|          timestamp|log_level|user_id|     ip_address|     endpoint|status_code|response_time|          request_id|hour_of_the_day|day_of_the_week|is_error|good_status|\n",
            "+-------------------+---------+-------+---------------+-------------+-----------+-------------+--------------------+---------------+---------------+--------+-----------+\n",
            "|2023-02-22 19:28:34|    ERROR| user_1|   192.113.2.76|/api/register|      463.0|        1.411|093c96b7-7dae-48e...|             19|      Wednesday|    true|       true|\n",
            "|2024-11-26 03:43:14|     WARN| user_4|  172.52.177.15|   /api/login|      390.0|         0.94|cd76fb1a-b0c0-4c2...|              3|        Tuesday|   false|      false|\n",
            "|2023-06-18 23:44:57|     INFO| user_5|   192.25.49.86|  /api/logout|      390.0|        0.225|058ee99a-6a35-4b2...|             23|         Sunday|   false|      false|\n",
            "|2024-09-18 17:54:00|     INFO| user_6|172.126.189.228|  /api/update|      309.0|        2.523|b427fa91-5bf8-4fa...|             17|      Wednesday|   false|      false|\n",
            "|2023-12-08 11:24:56|    ERROR| user_9|   10.93.214.59|  /api/logout|      495.0|        1.314|1683c6a0-cacb-456...|             11|         Friday|    true|       true|\n",
            "|2024-02-11 05:59:14|     WARN|user_10|   10.81.117.60|  /api/logout|      570.0|        2.523|497e161e-2b03-44c...|              5|         Sunday|   false|       true|\n",
            "|2025-04-09 14:01:29|    DEBUG|user_12|172.228.126.139|   /api/login|      265.0|        1.201|b9f9ef83-727e-4c4...|             14|      Wednesday|   false|      false|\n",
            "|2025-02-26 04:14:59|    ERROR|user_13| 192.167.95.252|  /api/search|      410.0|        1.083|7f2cd001-7818-439...|              4|      Wednesday|    true|       true|\n",
            "|2024-08-14 07:57:44|    ERROR|user_14|   192.4.66.237|  /api/search|      164.0|        0.215|33199ece-caf1-43c...|              7|      Wednesday|    true|      false|\n",
            "|2023-01-11 05:09:58|    ERROR|user_16|  10.19.207.116|  /api/delete|      390.0|        3.091|ded8efb4-2840-44b...|              5|      Wednesday|    true|      false|\n",
            "|2024-07-14 19:09:14|    DEBUG|user_18| 192.17.114.239|  /api/update|      576.0|        4.229|275f892c-796d-40d...|             19|         Sunday|   false|       true|\n",
            "|2023-12-06 20:08:16|     WARN|user_22|   172.45.63.13|  /api/delete|      205.0|        2.609|79445311-94c4-4a1...|             20|      Wednesday|   false|      false|\n",
            "|2023-04-20 05:02:18|    ERROR|user_24|  172.169.39.75|/api/register|      296.0|        1.759|64379e33-068e-405...|              5|       Thursday|    true|      false|\n",
            "|2024-11-06 04:41:00|     INFO|user_25| 10.226.236.143|   /api/login|      367.0|        2.985|add69933-f0aa-49b...|              4|      Wednesday|   false|      false|\n",
            "|2025-04-14 13:48:04|    ERROR|user_26| 192.204.24.172|  /api/search|      160.0|        3.635|4a461ba6-e7d0-47b...|             13|         Monday|    true|      false|\n",
            "|2024-08-09 02:46:32|     INFO|user_29|  10.136.109.23|/api/register|      698.0|         4.34|8481b5ab-6010-42b...|              2|         Friday|   false|       true|\n",
            "|2025-04-21 20:49:05|    ERROR|user_30|   172.69.76.78|  /api/search|      296.0|         1.81|efea30a9-0cc9-4c6...|             20|         Monday|    true|      false|\n",
            "|2023-08-04 23:14:29|     INFO|user_31|172.121.235.105|  /api/search|      609.0|        4.296|405ad206-6ed6-4f2...|             23|         Friday|   false|       true|\n",
            "|2024-07-12 14:13:50|     INFO|user_33|   172.58.64.36|  /api/update|      533.0|        0.635|99a16c9a-79b3-433...|             14|         Friday|   false|       true|\n",
            "|2024-08-04 08:58:26|     WARN|user_34| 10.126.108.212|  /api/search|      390.0|        2.523|adcb12bb-e5ad-400...|              8|         Sunday|   false|      false|\n",
            "+-------------------+---------+-------+---------------+-------------+-----------+-------------+--------------------+---------------+---------------+--------+-----------+\n",
            "only showing top 20 rows\n",
            "\n"
          ]
        }
      ]
    },
    {
      "cell_type": "code",
      "source": [
        "df_serverlog = df_serverlog.withColumn(\"good_response\",when(df_serverlog['response_time'] <= 2.000, True).otherwise(False))"
      ],
      "metadata": {
        "id": "ORi1Rup1KVM6"
      },
      "execution_count": 44,
      "outputs": []
    },
    {
      "cell_type": "code",
      "source": [
        "df_serverlog.show()"
      ],
      "metadata": {
        "colab": {
          "base_uri": "https://localhost:8080/"
        },
        "id": "FUcCkCXLKWwl",
        "outputId": "10a48380-6ef0-412e-858b-8ab32aaffe70"
      },
      "execution_count": 45,
      "outputs": [
        {
          "output_type": "stream",
          "name": "stdout",
          "text": [
            "+-------------------+---------+-------+---------------+-------------+-----------+-------------+--------------------+---------------+---------------+--------+-----------+-------------+\n",
            "|          timestamp|log_level|user_id|     ip_address|     endpoint|status_code|response_time|          request_id|hour_of_the_day|day_of_the_week|is_error|good_status|good_response|\n",
            "+-------------------+---------+-------+---------------+-------------+-----------+-------------+--------------------+---------------+---------------+--------+-----------+-------------+\n",
            "|2023-02-22 19:28:34|    ERROR| user_1|   192.113.2.76|/api/register|      463.0|        1.411|093c96b7-7dae-48e...|             19|      Wednesday|    true|       true|         true|\n",
            "|2024-11-26 03:43:14|     WARN| user_4|  172.52.177.15|   /api/login|      390.0|         0.94|cd76fb1a-b0c0-4c2...|              3|        Tuesday|   false|      false|         true|\n",
            "|2023-06-18 23:44:57|     INFO| user_5|   192.25.49.86|  /api/logout|      390.0|        0.225|058ee99a-6a35-4b2...|             23|         Sunday|   false|      false|         true|\n",
            "|2024-09-18 17:54:00|     INFO| user_6|172.126.189.228|  /api/update|      309.0|        2.523|b427fa91-5bf8-4fa...|             17|      Wednesday|   false|      false|        false|\n",
            "|2023-12-08 11:24:56|    ERROR| user_9|   10.93.214.59|  /api/logout|      495.0|        1.314|1683c6a0-cacb-456...|             11|         Friday|    true|       true|         true|\n",
            "|2024-02-11 05:59:14|     WARN|user_10|   10.81.117.60|  /api/logout|      570.0|        2.523|497e161e-2b03-44c...|              5|         Sunday|   false|       true|        false|\n",
            "|2025-04-09 14:01:29|    DEBUG|user_12|172.228.126.139|   /api/login|      265.0|        1.201|b9f9ef83-727e-4c4...|             14|      Wednesday|   false|      false|         true|\n",
            "|2025-02-26 04:14:59|    ERROR|user_13| 192.167.95.252|  /api/search|      410.0|        1.083|7f2cd001-7818-439...|              4|      Wednesday|    true|       true|         true|\n",
            "|2024-08-14 07:57:44|    ERROR|user_14|   192.4.66.237|  /api/search|      164.0|        0.215|33199ece-caf1-43c...|              7|      Wednesday|    true|      false|         true|\n",
            "|2023-01-11 05:09:58|    ERROR|user_16|  10.19.207.116|  /api/delete|      390.0|        3.091|ded8efb4-2840-44b...|              5|      Wednesday|    true|      false|        false|\n",
            "|2024-07-14 19:09:14|    DEBUG|user_18| 192.17.114.239|  /api/update|      576.0|        4.229|275f892c-796d-40d...|             19|         Sunday|   false|       true|        false|\n",
            "|2023-12-06 20:08:16|     WARN|user_22|   172.45.63.13|  /api/delete|      205.0|        2.609|79445311-94c4-4a1...|             20|      Wednesday|   false|      false|        false|\n",
            "|2023-04-20 05:02:18|    ERROR|user_24|  172.169.39.75|/api/register|      296.0|        1.759|64379e33-068e-405...|              5|       Thursday|    true|      false|         true|\n",
            "|2024-11-06 04:41:00|     INFO|user_25| 10.226.236.143|   /api/login|      367.0|        2.985|add69933-f0aa-49b...|              4|      Wednesday|   false|      false|        false|\n",
            "|2025-04-14 13:48:04|    ERROR|user_26| 192.204.24.172|  /api/search|      160.0|        3.635|4a461ba6-e7d0-47b...|             13|         Monday|    true|      false|        false|\n",
            "|2024-08-09 02:46:32|     INFO|user_29|  10.136.109.23|/api/register|      698.0|         4.34|8481b5ab-6010-42b...|              2|         Friday|   false|       true|        false|\n",
            "|2025-04-21 20:49:05|    ERROR|user_30|   172.69.76.78|  /api/search|      296.0|         1.81|efea30a9-0cc9-4c6...|             20|         Monday|    true|      false|         true|\n",
            "|2023-08-04 23:14:29|     INFO|user_31|172.121.235.105|  /api/search|      609.0|        4.296|405ad206-6ed6-4f2...|             23|         Friday|   false|       true|        false|\n",
            "|2024-07-12 14:13:50|     INFO|user_33|   172.58.64.36|  /api/update|      533.0|        0.635|99a16c9a-79b3-433...|             14|         Friday|   false|       true|         true|\n",
            "|2024-08-04 08:58:26|     WARN|user_34| 10.126.108.212|  /api/search|      390.0|        2.523|adcb12bb-e5ad-400...|              8|         Sunday|   false|      false|        false|\n",
            "+-------------------+---------+-------+---------------+-------------+-----------+-------------+--------------------+---------------+---------------+--------+-----------+-------------+\n",
            "only showing top 20 rows\n",
            "\n"
          ]
        }
      ]
    },
    {
      "cell_type": "code",
      "source": [
        "#Considering Slowest API be the one with hightest avg response_time#\n",
        "\n",
        "mean_endpoint_response_time = print(df_serverlog.groupBy(\"endpoint\").agg(\n",
        "    avg(\"response_time\").alias(\"mean_response_time\")\n",
        ").orderBy(col(\"endpoint\").desc()).first()[0])"
      ],
      "metadata": {
        "colab": {
          "base_uri": "https://localhost:8080/"
        },
        "id": "Q9W71ICoLD9S",
        "outputId": "b8024b51-490c-43e1-94be-7c643f368ccb"
      },
      "execution_count": 46,
      "outputs": [
        {
          "output_type": "stream",
          "name": "stdout",
          "text": [
            "/api/update\n"
          ]
        }
      ]
    },
    {
      "cell_type": "code",
      "source": [
        "#Consider suspicious user as the one who has response time less than 1, status code greater than 500 and endpoint is not null#\n",
        "\n",
        "suspicious_user_id_df = df_serverlog.filter(col(\"status_code\") > 500)"
      ],
      "metadata": {
        "id": "g6iiesmcM1LV"
      },
      "execution_count": 47,
      "outputs": []
    },
    {
      "cell_type": "code",
      "source": [
        "suspicious_user_id_df = suspicious_user_id_df.filter(col(\"response_time\") < 1)"
      ],
      "metadata": {
        "id": "Eq-KwsHHPlb3"
      },
      "execution_count": 48,
      "outputs": []
    },
    {
      "cell_type": "code",
      "source": [
        "suspicious_user_id_df.select(\"user_id\").show()"
      ],
      "metadata": {
        "colab": {
          "base_uri": "https://localhost:8080/"
        },
        "id": "gqpQ7tP6VcqX",
        "outputId": "ad5db377-3330-4dba-f1e1-bcfe94478f4c"
      },
      "execution_count": 49,
      "outputs": [
        {
          "output_type": "stream",
          "name": "stdout",
          "text": [
            "+--------+\n",
            "| user_id|\n",
            "+--------+\n",
            "| user_33|\n",
            "| user_54|\n",
            "| user_64|\n",
            "|user_113|\n",
            "|user_139|\n",
            "|user_158|\n",
            "|user_183|\n",
            "|user_194|\n",
            "|user_221|\n",
            "|user_257|\n",
            "|user_269|\n",
            "|user_296|\n",
            "|user_305|\n",
            "|user_324|\n",
            "|user_343|\n",
            "|user_365|\n",
            "|user_377|\n",
            "|user_409|\n",
            "|user_503|\n",
            "|user_573|\n",
            "+--------+\n",
            "only showing top 20 rows\n",
            "\n"
          ]
        }
      ]
    },
    {
      "cell_type": "code",
      "source": [
        "df_serverlog.write.option(\n",
        "    \"Header\",True).mode(\n",
        "    \"overwrite\").csv(\n",
        "    \"output/cleaned_server_log_data\"\n",
        "    )"
      ],
      "metadata": {
        "id": "gkh55oJMjp_s"
      },
      "execution_count": 50,
      "outputs": []
    },
    {
      "cell_type": "code",
      "source": [
        "suspicious_user_id_df.write.option(\n",
        "    \"Header\",True).mode(\n",
        "    \"overwrite\").csv(\n",
        "    \"output/cleaned_suspicious_user_data\"\n",
        "    )"
      ],
      "metadata": {
        "id": "TtcMZeNYj013"
      },
      "execution_count": 51,
      "outputs": []
    },
    {
      "cell_type": "code",
      "source": [
        "server_log_summary_df = df_serverlog.summary()"
      ],
      "metadata": {
        "id": "19EeRDk3l-v-"
      },
      "execution_count": 52,
      "outputs": []
    },
    {
      "cell_type": "code",
      "source": [
        "server_log_summary_df.show()"
      ],
      "metadata": {
        "colab": {
          "base_uri": "https://localhost:8080/"
        },
        "id": "jb2SAD_U4R9T",
        "outputId": "5892cf9c-50e4-4b09-f52b-cb6ba69c83d5"
      },
      "execution_count": 53,
      "outputs": [
        {
          "output_type": "stream",
          "name": "stdout",
          "text": [
            "+-------+---------+----------+-------------+-----------+------------------+-----------------+--------------------+-----------------+---------------+\n",
            "|summary|log_level|   user_id|   ip_address|   endpoint|       status_code|    response_time|          request_id|  hour_of_the_day|day_of_the_week|\n",
            "+-------+---------+----------+-------------+-----------+------------------+-----------------+--------------------+-----------------+---------------+\n",
            "|  count|    62430|     62430|        62430|      62430|             62430|            62430|               62430|            62430|          62430|\n",
            "|   mean|     NULL|      NULL|         NULL|       NULL| 439.4622777510812|2.524618789043812|                NULL| 11.4853275668749|           NULL|\n",
            "| stddev|     NULL|      NULL|         NULL|       NULL|161.56784812341596|1.355815827281236|                NULL|6.912774143850606|           NULL|\n",
            "|    min|    DEBUG|    user_1|    10.0.1.14|/api/delete|             151.0|             0.05|00008032-a958-49c...|                0|         Friday|\n",
            "|    25%|     NULL|      NULL|         NULL|       NULL|             317.0|            1.429|                NULL|                6|           NULL|\n",
            "|    50%|     NULL|      NULL|         NULL|       NULL|             406.0|            2.523|                NULL|               11|           NULL|\n",
            "|    75%|     NULL|      NULL|         NULL|       NULL|             576.0|            3.623|                NULL|               17|           NULL|\n",
            "|    max|     WARN|user_99997|192.99.91.118|/api/update|             740.0|              5.0|fffe507d-ed3a-47e...|               23|      Wednesday|\n",
            "+-------+---------+----------+-------------+-----------+------------------+-----------------+--------------------+-----------------+---------------+\n",
            "\n"
          ]
        }
      ]
    },
    {
      "cell_type": "code",
      "source": [
        "server_log_summary_df.write.option(\n",
        "    \"Header\",True).mode(\n",
        "    \"Overwrite\").csv(\n",
        "    \"output/summary_server_log_data\"\n",
        "    )"
      ],
      "metadata": {
        "id": "m0qiEbxr5LOY"
      },
      "execution_count": 54,
      "outputs": []
    },
    {
      "cell_type": "code",
      "source": [
        "from google.colab import files\n",
        "upload = files.upload()"
      ],
      "metadata": {
        "colab": {
          "base_uri": "https://localhost:8080/",
          "height": 73
        },
        "id": "F9JEFhTakcIL",
        "outputId": "fe9bc1b8-83de-44b9-90e1-a47d41a6f432"
      },
      "execution_count": 55,
      "outputs": [
        {
          "output_type": "display_data",
          "data": {
            "text/plain": [
              "<IPython.core.display.HTML object>"
            ],
            "text/html": [
              "\n",
              "     <input type=\"file\" id=\"files-49a66aa2-a489-4054-9764-1d1ab93481a9\" name=\"files[]\" multiple disabled\n",
              "        style=\"border:none\" />\n",
              "     <output id=\"result-49a66aa2-a489-4054-9764-1d1ab93481a9\">\n",
              "      Upload widget is only available when the cell has been executed in the\n",
              "      current browser session. Please rerun this cell to enable.\n",
              "      </output>\n",
              "      <script>// Copyright 2017 Google LLC\n",
              "//\n",
              "// Licensed under the Apache License, Version 2.0 (the \"License\");\n",
              "// you may not use this file except in compliance with the License.\n",
              "// You may obtain a copy of the License at\n",
              "//\n",
              "//      http://www.apache.org/licenses/LICENSE-2.0\n",
              "//\n",
              "// Unless required by applicable law or agreed to in writing, software\n",
              "// distributed under the License is distributed on an \"AS IS\" BASIS,\n",
              "// WITHOUT WARRANTIES OR CONDITIONS OF ANY KIND, either express or implied.\n",
              "// See the License for the specific language governing permissions and\n",
              "// limitations under the License.\n",
              "\n",
              "/**\n",
              " * @fileoverview Helpers for google.colab Python module.\n",
              " */\n",
              "(function(scope) {\n",
              "function span(text, styleAttributes = {}) {\n",
              "  const element = document.createElement('span');\n",
              "  element.textContent = text;\n",
              "  for (const key of Object.keys(styleAttributes)) {\n",
              "    element.style[key] = styleAttributes[key];\n",
              "  }\n",
              "  return element;\n",
              "}\n",
              "\n",
              "// Max number of bytes which will be uploaded at a time.\n",
              "const MAX_PAYLOAD_SIZE = 100 * 1024;\n",
              "\n",
              "function _uploadFiles(inputId, outputId) {\n",
              "  const steps = uploadFilesStep(inputId, outputId);\n",
              "  const outputElement = document.getElementById(outputId);\n",
              "  // Cache steps on the outputElement to make it available for the next call\n",
              "  // to uploadFilesContinue from Python.\n",
              "  outputElement.steps = steps;\n",
              "\n",
              "  return _uploadFilesContinue(outputId);\n",
              "}\n",
              "\n",
              "// This is roughly an async generator (not supported in the browser yet),\n",
              "// where there are multiple asynchronous steps and the Python side is going\n",
              "// to poll for completion of each step.\n",
              "// This uses a Promise to block the python side on completion of each step,\n",
              "// then passes the result of the previous step as the input to the next step.\n",
              "function _uploadFilesContinue(outputId) {\n",
              "  const outputElement = document.getElementById(outputId);\n",
              "  const steps = outputElement.steps;\n",
              "\n",
              "  const next = steps.next(outputElement.lastPromiseValue);\n",
              "  return Promise.resolve(next.value.promise).then((value) => {\n",
              "    // Cache the last promise value to make it available to the next\n",
              "    // step of the generator.\n",
              "    outputElement.lastPromiseValue = value;\n",
              "    return next.value.response;\n",
              "  });\n",
              "}\n",
              "\n",
              "/**\n",
              " * Generator function which is called between each async step of the upload\n",
              " * process.\n",
              " * @param {string} inputId Element ID of the input file picker element.\n",
              " * @param {string} outputId Element ID of the output display.\n",
              " * @return {!Iterable<!Object>} Iterable of next steps.\n",
              " */\n",
              "function* uploadFilesStep(inputId, outputId) {\n",
              "  const inputElement = document.getElementById(inputId);\n",
              "  inputElement.disabled = false;\n",
              "\n",
              "  const outputElement = document.getElementById(outputId);\n",
              "  outputElement.innerHTML = '';\n",
              "\n",
              "  const pickedPromise = new Promise((resolve) => {\n",
              "    inputElement.addEventListener('change', (e) => {\n",
              "      resolve(e.target.files);\n",
              "    });\n",
              "  });\n",
              "\n",
              "  const cancel = document.createElement('button');\n",
              "  inputElement.parentElement.appendChild(cancel);\n",
              "  cancel.textContent = 'Cancel upload';\n",
              "  const cancelPromise = new Promise((resolve) => {\n",
              "    cancel.onclick = () => {\n",
              "      resolve(null);\n",
              "    };\n",
              "  });\n",
              "\n",
              "  // Wait for the user to pick the files.\n",
              "  const files = yield {\n",
              "    promise: Promise.race([pickedPromise, cancelPromise]),\n",
              "    response: {\n",
              "      action: 'starting',\n",
              "    }\n",
              "  };\n",
              "\n",
              "  cancel.remove();\n",
              "\n",
              "  // Disable the input element since further picks are not allowed.\n",
              "  inputElement.disabled = true;\n",
              "\n",
              "  if (!files) {\n",
              "    return {\n",
              "      response: {\n",
              "        action: 'complete',\n",
              "      }\n",
              "    };\n",
              "  }\n",
              "\n",
              "  for (const file of files) {\n",
              "    const li = document.createElement('li');\n",
              "    li.append(span(file.name, {fontWeight: 'bold'}));\n",
              "    li.append(span(\n",
              "        `(${file.type || 'n/a'}) - ${file.size} bytes, ` +\n",
              "        `last modified: ${\n",
              "            file.lastModifiedDate ? file.lastModifiedDate.toLocaleDateString() :\n",
              "                                    'n/a'} - `));\n",
              "    const percent = span('0% done');\n",
              "    li.appendChild(percent);\n",
              "\n",
              "    outputElement.appendChild(li);\n",
              "\n",
              "    const fileDataPromise = new Promise((resolve) => {\n",
              "      const reader = new FileReader();\n",
              "      reader.onload = (e) => {\n",
              "        resolve(e.target.result);\n",
              "      };\n",
              "      reader.readAsArrayBuffer(file);\n",
              "    });\n",
              "    // Wait for the data to be ready.\n",
              "    let fileData = yield {\n",
              "      promise: fileDataPromise,\n",
              "      response: {\n",
              "        action: 'continue',\n",
              "      }\n",
              "    };\n",
              "\n",
              "    // Use a chunked sending to avoid message size limits. See b/62115660.\n",
              "    let position = 0;\n",
              "    do {\n",
              "      const length = Math.min(fileData.byteLength - position, MAX_PAYLOAD_SIZE);\n",
              "      const chunk = new Uint8Array(fileData, position, length);\n",
              "      position += length;\n",
              "\n",
              "      const base64 = btoa(String.fromCharCode.apply(null, chunk));\n",
              "      yield {\n",
              "        response: {\n",
              "          action: 'append',\n",
              "          file: file.name,\n",
              "          data: base64,\n",
              "        },\n",
              "      };\n",
              "\n",
              "      let percentDone = fileData.byteLength === 0 ?\n",
              "          100 :\n",
              "          Math.round((position / fileData.byteLength) * 100);\n",
              "      percent.textContent = `${percentDone}% done`;\n",
              "\n",
              "    } while (position < fileData.byteLength);\n",
              "  }\n",
              "\n",
              "  // All done.\n",
              "  yield {\n",
              "    response: {\n",
              "      action: 'complete',\n",
              "    }\n",
              "  };\n",
              "}\n",
              "\n",
              "scope.google = scope.google || {};\n",
              "scope.google.colab = scope.google.colab || {};\n",
              "scope.google.colab._files = {\n",
              "  _uploadFiles,\n",
              "  _uploadFilesContinue,\n",
              "};\n",
              "})(self);\n",
              "</script> "
            ]
          },
          "metadata": {}
        },
        {
          "output_type": "stream",
          "name": "stdout",
          "text": [
            "Saving synthetic_user_metadata.csv to synthetic_user_metadata.csv\n"
          ]
        }
      ]
    },
    {
      "cell_type": "code",
      "source": [
        "%%writefile config_user.py\n",
        "CONFIG = {\n",
        "    \"input_path\": \"synthetic_user_metadata.csv\",\n",
        "    \"output_path\": \"output/\",\n",
        "    \"file_format\": \"csv\"\n",
        "}"
      ],
      "metadata": {
        "id": "X-CGlhRJk17N",
        "colab": {
          "base_uri": "https://localhost:8080/"
        },
        "outputId": "b6eb03e2-0a70-4916-adc6-b672e0ee0262"
      },
      "execution_count": 56,
      "outputs": [
        {
          "output_type": "stream",
          "name": "stdout",
          "text": [
            "Writing config_user.py\n"
          ]
        }
      ]
    },
    {
      "cell_type": "code",
      "source": [
        "%%writefile ingestion_user.py\n",
        "from config_user import CONFIG\n",
        "\n",
        "def ingest_data(spark):\n",
        "    return spark.read.option(\"header\", True).csv(CONFIG[\"input_path\"])"
      ],
      "metadata": {
        "colab": {
          "base_uri": "https://localhost:8080/"
        },
        "id": "6nabtPkN-lrE",
        "outputId": "0415d246-8605-4080-dae7-78dd60c92824"
      },
      "execution_count": 57,
      "outputs": [
        {
          "output_type": "stream",
          "name": "stdout",
          "text": [
            "Writing ingestion_user.py\n"
          ]
        }
      ]
    },
    {
      "cell_type": "code",
      "source": [
        "from ingestion_user import ingest_data\n",
        "\n",
        "df_usermetadata = ingest_data(spark)\n",
        "df_usermetadata.show()"
      ],
      "metadata": {
        "colab": {
          "base_uri": "https://localhost:8080/"
        },
        "id": "q-BfZsNJ-vSF",
        "outputId": "f30459c8-6431-4766-fd39-c2244b8dd94d"
      },
      "execution_count": 58,
      "outputs": [
        {
          "output_type": "stream",
          "name": "stdout",
          "text": [
            "+-------+------------+-------------+-----------+---------+\n",
            "|user_id|account_type|       region|signup_date|is_active|\n",
            "+-------+------------+-------------+-----------+---------+\n",
            "| user_1|        Free|North America| 2016-09-10|     True|\n",
            "| user_2|     Premium|      Oceania| 2018-05-03|    False|\n",
            "| user_3|     Premium|       Europe| 2024-06-30|    False|\n",
            "| user_4|  Enterprise|      Oceania| 2018-12-08|     True|\n",
            "| user_5|     Premium|North America| 2024-10-26|     True|\n",
            "| user_6|     Premium|         NULL| 2024-11-29|    False|\n",
            "| user_7|     Premium|South America| 2015-03-17|    False|\n",
            "| user_8|        Free|South America| 2016-04-14|     True|\n",
            "| user_9|  Enterprise|South America| 2019-05-04|     True|\n",
            "|user_10|  Enterprise|         Asia| 2019-05-06|     True|\n",
            "|user_11|        NULL|North America| 2021-03-29|    False|\n",
            "|user_12|  Enterprise|         NULL| 2024-01-28|     True|\n",
            "|user_13|  Enterprise|         NULL| 2024-07-21|     True|\n",
            "|user_14|        NULL|South America| 2024-01-24|    False|\n",
            "|user_15|        NULL|         NULL| 2017-01-26|    False|\n",
            "|user_16|  Enterprise|      Oceania| 2016-12-31|     True|\n",
            "|user_17|  Enterprise|       Europe| 2017-03-20|     True|\n",
            "|user_18|     Premium|       Africa|       NULL|     NULL|\n",
            "|user_19|        Free|North America| 2018-07-29|     True|\n",
            "|user_20|        Free|South America| 2020-03-22|     True|\n",
            "+-------+------------+-------------+-----------+---------+\n",
            "only showing top 20 rows\n",
            "\n"
          ]
        }
      ]
    },
    {
      "cell_type": "code",
      "source": [],
      "metadata": {
        "id": "GZ-PkE8KWr1l"
      },
      "execution_count": 58,
      "outputs": []
    },
    {
      "cell_type": "markdown",
      "source": [
        "**Inner joining the 2 dataset and doing task based on problem statement**"
      ],
      "metadata": {
        "id": "8oonRdDQWeJR"
      }
    },
    {
      "cell_type": "code",
      "source": [
        "df_joined = df_serverlog.join(df_usermetadata, on='user_id', how='inner')"
      ],
      "metadata": {
        "id": "eZmAhER8_MfD"
      },
      "execution_count": 59,
      "outputs": []
    },
    {
      "cell_type": "code",
      "source": [
        "df_joined.count()"
      ],
      "metadata": {
        "colab": {
          "base_uri": "https://localhost:8080/"
        },
        "id": "HKkuWv0ih8Hz",
        "outputId": "b20abe0f-7c79-4f9d-c72c-4bc72e40f162"
      },
      "execution_count": 60,
      "outputs": [
        {
          "output_type": "execute_result",
          "data": {
            "text/plain": [
              "3148"
            ]
          },
          "metadata": {},
          "execution_count": 60
        }
      ]
    },
    {
      "cell_type": "code",
      "source": [
        "df_joined.show()"
      ],
      "metadata": {
        "colab": {
          "base_uri": "https://localhost:8080/"
        },
        "id": "KkG9StSm_XHL",
        "outputId": "b222567a-f49d-43eb-db4b-94074ea1dd0e"
      },
      "execution_count": 61,
      "outputs": [
        {
          "output_type": "stream",
          "name": "stdout",
          "text": [
            "+-------+-------------------+---------+---------------+-------------+-----------+-------------+--------------------+---------------+---------------+--------+-----------+-------------+------------+-------------+-----------+---------+\n",
            "|user_id|          timestamp|log_level|     ip_address|     endpoint|status_code|response_time|          request_id|hour_of_the_day|day_of_the_week|is_error|good_status|good_response|account_type|       region|signup_date|is_active|\n",
            "+-------+-------------------+---------+---------------+-------------+-----------+-------------+--------------------+---------------+---------------+--------+-----------+-------------+------------+-------------+-----------+---------+\n",
            "| user_1|2023-02-22 19:28:34|    ERROR|   192.113.2.76|/api/register|      463.0|        1.411|093c96b7-7dae-48e...|             19|      Wednesday|    true|       true|         true|        Free|North America| 2016-09-10|     True|\n",
            "| user_4|2024-11-26 03:43:14|     WARN|  172.52.177.15|   /api/login|      390.0|         0.94|cd76fb1a-b0c0-4c2...|              3|        Tuesday|   false|      false|         true|  Enterprise|      Oceania| 2018-12-08|     True|\n",
            "| user_5|2023-06-18 23:44:57|     INFO|   192.25.49.86|  /api/logout|      390.0|        0.225|058ee99a-6a35-4b2...|             23|         Sunday|   false|      false|         true|     Premium|North America| 2024-10-26|     True|\n",
            "| user_6|2024-09-18 17:54:00|     INFO|172.126.189.228|  /api/update|      309.0|        2.523|b427fa91-5bf8-4fa...|             17|      Wednesday|   false|      false|        false|     Premium|         NULL| 2024-11-29|    False|\n",
            "| user_9|2023-12-08 11:24:56|    ERROR|   10.93.214.59|  /api/logout|      495.0|        1.314|1683c6a0-cacb-456...|             11|         Friday|    true|       true|         true|  Enterprise|South America| 2019-05-04|     True|\n",
            "|user_10|2024-02-11 05:59:14|     WARN|   10.81.117.60|  /api/logout|      570.0|        2.523|497e161e-2b03-44c...|              5|         Sunday|   false|       true|        false|  Enterprise|         Asia| 2019-05-06|     True|\n",
            "|user_12|2025-04-09 14:01:29|    DEBUG|172.228.126.139|   /api/login|      265.0|        1.201|b9f9ef83-727e-4c4...|             14|      Wednesday|   false|      false|         true|  Enterprise|         NULL| 2024-01-28|     True|\n",
            "|user_13|2025-02-26 04:14:59|    ERROR| 192.167.95.252|  /api/search|      410.0|        1.083|7f2cd001-7818-439...|              4|      Wednesday|    true|       true|         true|  Enterprise|         NULL| 2024-07-21|     True|\n",
            "|user_14|2024-08-14 07:57:44|    ERROR|   192.4.66.237|  /api/search|      164.0|        0.215|33199ece-caf1-43c...|              7|      Wednesday|    true|      false|         true|        NULL|South America| 2024-01-24|    False|\n",
            "|user_16|2023-01-11 05:09:58|    ERROR|  10.19.207.116|  /api/delete|      390.0|        3.091|ded8efb4-2840-44b...|              5|      Wednesday|    true|      false|        false|  Enterprise|      Oceania| 2016-12-31|     True|\n",
            "|user_18|2024-07-14 19:09:14|    DEBUG| 192.17.114.239|  /api/update|      576.0|        4.229|275f892c-796d-40d...|             19|         Sunday|   false|       true|        false|     Premium|       Africa|       NULL|     NULL|\n",
            "|user_22|2023-12-06 20:08:16|     WARN|   172.45.63.13|  /api/delete|      205.0|        2.609|79445311-94c4-4a1...|             20|      Wednesday|   false|      false|        false|        Free|       Africa| 2016-03-08|     True|\n",
            "|user_24|2023-04-20 05:02:18|    ERROR|  172.169.39.75|/api/register|      296.0|        1.759|64379e33-068e-405...|              5|       Thursday|    true|      false|         true|     Premium|North America| 2017-03-27|     True|\n",
            "|user_25|2024-11-06 04:41:00|     INFO| 10.226.236.143|   /api/login|      367.0|        2.985|add69933-f0aa-49b...|              4|      Wednesday|   false|      false|        false|  Enterprise|North America| 2022-03-04|    False|\n",
            "|user_26|2025-04-14 13:48:04|    ERROR| 192.204.24.172|  /api/search|      160.0|        3.635|4a461ba6-e7d0-47b...|             13|         Monday|    true|      false|        false|     Premium|      Oceania|       NULL|     True|\n",
            "|user_29|2024-08-09 02:46:32|     INFO|  10.136.109.23|/api/register|      698.0|         4.34|8481b5ab-6010-42b...|              2|         Friday|   false|       true|        false|        Free|         NULL| 2022-05-15|     True|\n",
            "|user_30|2025-04-21 20:49:05|    ERROR|   172.69.76.78|  /api/search|      296.0|         1.81|efea30a9-0cc9-4c6...|             20|         Monday|    true|      false|         true|  Enterprise|       Africa| 2017-01-12|     True|\n",
            "|user_31|2023-08-04 23:14:29|     INFO|172.121.235.105|  /api/search|      609.0|        4.296|405ad206-6ed6-4f2...|             23|         Friday|   false|       true|        false|     Premium|      Oceania| 2017-03-15|     True|\n",
            "|user_33|2024-07-12 14:13:50|     INFO|   172.58.64.36|  /api/update|      533.0|        0.635|99a16c9a-79b3-433...|             14|         Friday|   false|       true|         true|        NULL|       Africa| 2017-10-16|    False|\n",
            "|user_34|2024-08-04 08:58:26|     WARN| 10.126.108.212|  /api/search|      390.0|        2.523|adcb12bb-e5ad-400...|              8|         Sunday|   false|      false|        false|        Free|South America| 2017-04-10|     True|\n",
            "+-------+-------------------+---------+---------------+-------------+-----------+-------------+--------------------+---------------+---------------+--------+-----------+-------------+------------+-------------+-----------+---------+\n",
            "only showing top 20 rows\n",
            "\n"
          ]
        }
      ]
    },
    {
      "cell_type": "code",
      "source": [],
      "metadata": {
        "id": "nyad7NfoWvD4"
      },
      "execution_count": 61,
      "outputs": []
    },
    {
      "cell_type": "markdown",
      "source": [
        "**Getting total number of active users based on account type.\n",
        "Not done of inactive or status unknown users and it just needs one change in entire code.**"
      ],
      "metadata": {
        "id": "0cqGGZW6WutK"
      }
    },
    {
      "cell_type": "code",
      "source": [
        "account_type_active_user = df_joined.groupBy(\"account_type\").agg(\n",
        "    count(when(col(\"is_active\") == \"True\", True)).alias(\"active_users\")\n",
        ")"
      ],
      "metadata": {
        "id": "jTRVz1w4_Zlt"
      },
      "execution_count": 62,
      "outputs": []
    },
    {
      "cell_type": "code",
      "source": [
        "account_type_active_user.show()"
      ],
      "metadata": {
        "colab": {
          "base_uri": "https://localhost:8080/"
        },
        "id": "diC59A9Ohs0s",
        "outputId": "d9aabfa5-2884-48af-9aa4-8caa3cf0d1d8"
      },
      "execution_count": 63,
      "outputs": [
        {
          "output_type": "stream",
          "name": "stdout",
          "text": [
            "+------------+------------+\n",
            "|account_type|active_users|\n",
            "+------------+------------+\n",
            "|     Premium|         435|\n",
            "|        NULL|         147|\n",
            "|  Enterprise|         421|\n",
            "|        Free|         432|\n",
            "+------------+------------+\n",
            "\n"
          ]
        }
      ]
    },
    {
      "cell_type": "code",
      "source": [],
      "metadata": {
        "id": "LYWTztX6Xpos"
      },
      "execution_count": 63,
      "outputs": []
    },
    {
      "cell_type": "markdown",
      "source": [
        "**Getting total number of active users based on region.\n",
        "Not done of inactive or status unknown users and it just needs one change in entire code.**"
      ],
      "metadata": {
        "id": "Nf3xgOZXXp_R"
      }
    },
    {
      "cell_type": "code",
      "source": [
        "region_active_user = df_joined.groupBy(\"region\").agg(\n",
        "    count(when(col(\"is_active\") == \"True\", True)).alias(\"active_users\")\n",
        ")"
      ],
      "metadata": {
        "id": "-T2LgLDeiCh6"
      },
      "execution_count": 64,
      "outputs": []
    },
    {
      "cell_type": "code",
      "source": [
        "region_active_user.show()"
      ],
      "metadata": {
        "colab": {
          "base_uri": "https://localhost:8080/"
        },
        "id": "werpZXuFpMjT",
        "outputId": "0d460c9c-20fe-416a-b8a0-c1951b13173f"
      },
      "execution_count": 65,
      "outputs": [
        {
          "output_type": "stream",
          "name": "stdout",
          "text": [
            "+-------------+------------+\n",
            "|       region|active_users|\n",
            "+-------------+------------+\n",
            "|       Europe|         221|\n",
            "|       Africa|         207|\n",
            "|         NULL|         136|\n",
            "|North America|         209|\n",
            "|South America|         212|\n",
            "|      Oceania|         232|\n",
            "|         Asia|         218|\n",
            "+-------------+------------+\n",
            "\n"
          ]
        }
      ]
    },
    {
      "cell_type": "code",
      "source": [],
      "metadata": {
        "id": "CDTUwtqSX6ND"
      },
      "execution_count": 65,
      "outputs": []
    },
    {
      "cell_type": "markdown",
      "source": [
        "**Getting total number of active users based on year of signup.\n",
        "Not done of inactive or status unknown users and it just needs one change in entire code.**"
      ],
      "metadata": {
        "id": "P0LkOtGGX6eI"
      }
    },
    {
      "cell_type": "code",
      "source": [
        "from pyspark.sql.functions import year\n",
        "\n",
        "df_joined = df_joined.withColumn(\"signup_year\",year(df_joined[\"signup_date\"]))"
      ],
      "metadata": {
        "id": "GfEFJFU2rzHU"
      },
      "execution_count": 66,
      "outputs": []
    },
    {
      "cell_type": "code",
      "source": [
        "df_joined.show()"
      ],
      "metadata": {
        "colab": {
          "base_uri": "https://localhost:8080/"
        },
        "id": "vs4TojqpsGjm",
        "outputId": "2f7407af-cb5f-4d30-a5bb-3263e6a6c8a5"
      },
      "execution_count": 67,
      "outputs": [
        {
          "output_type": "stream",
          "name": "stdout",
          "text": [
            "+-------+-------------------+---------+---------------+-------------+-----------+-------------+--------------------+---------------+---------------+--------+-----------+-------------+------------+-------------+-----------+---------+-----------+\n",
            "|user_id|          timestamp|log_level|     ip_address|     endpoint|status_code|response_time|          request_id|hour_of_the_day|day_of_the_week|is_error|good_status|good_response|account_type|       region|signup_date|is_active|signup_year|\n",
            "+-------+-------------------+---------+---------------+-------------+-----------+-------------+--------------------+---------------+---------------+--------+-----------+-------------+------------+-------------+-----------+---------+-----------+\n",
            "| user_1|2023-02-22 19:28:34|    ERROR|   192.113.2.76|/api/register|      463.0|        1.411|093c96b7-7dae-48e...|             19|      Wednesday|    true|       true|         true|        Free|North America| 2016-09-10|     True|       2016|\n",
            "| user_4|2024-11-26 03:43:14|     WARN|  172.52.177.15|   /api/login|      390.0|         0.94|cd76fb1a-b0c0-4c2...|              3|        Tuesday|   false|      false|         true|  Enterprise|      Oceania| 2018-12-08|     True|       2018|\n",
            "| user_5|2023-06-18 23:44:57|     INFO|   192.25.49.86|  /api/logout|      390.0|        0.225|058ee99a-6a35-4b2...|             23|         Sunday|   false|      false|         true|     Premium|North America| 2024-10-26|     True|       2024|\n",
            "| user_6|2024-09-18 17:54:00|     INFO|172.126.189.228|  /api/update|      309.0|        2.523|b427fa91-5bf8-4fa...|             17|      Wednesday|   false|      false|        false|     Premium|         NULL| 2024-11-29|    False|       2024|\n",
            "| user_9|2023-12-08 11:24:56|    ERROR|   10.93.214.59|  /api/logout|      495.0|        1.314|1683c6a0-cacb-456...|             11|         Friday|    true|       true|         true|  Enterprise|South America| 2019-05-04|     True|       2019|\n",
            "|user_10|2024-02-11 05:59:14|     WARN|   10.81.117.60|  /api/logout|      570.0|        2.523|497e161e-2b03-44c...|              5|         Sunday|   false|       true|        false|  Enterprise|         Asia| 2019-05-06|     True|       2019|\n",
            "|user_12|2025-04-09 14:01:29|    DEBUG|172.228.126.139|   /api/login|      265.0|        1.201|b9f9ef83-727e-4c4...|             14|      Wednesday|   false|      false|         true|  Enterprise|         NULL| 2024-01-28|     True|       2024|\n",
            "|user_13|2025-02-26 04:14:59|    ERROR| 192.167.95.252|  /api/search|      410.0|        1.083|7f2cd001-7818-439...|              4|      Wednesday|    true|       true|         true|  Enterprise|         NULL| 2024-07-21|     True|       2024|\n",
            "|user_14|2024-08-14 07:57:44|    ERROR|   192.4.66.237|  /api/search|      164.0|        0.215|33199ece-caf1-43c...|              7|      Wednesday|    true|      false|         true|        NULL|South America| 2024-01-24|    False|       2024|\n",
            "|user_16|2023-01-11 05:09:58|    ERROR|  10.19.207.116|  /api/delete|      390.0|        3.091|ded8efb4-2840-44b...|              5|      Wednesday|    true|      false|        false|  Enterprise|      Oceania| 2016-12-31|     True|       2016|\n",
            "|user_18|2024-07-14 19:09:14|    DEBUG| 192.17.114.239|  /api/update|      576.0|        4.229|275f892c-796d-40d...|             19|         Sunday|   false|       true|        false|     Premium|       Africa|       NULL|     NULL|       NULL|\n",
            "|user_22|2023-12-06 20:08:16|     WARN|   172.45.63.13|  /api/delete|      205.0|        2.609|79445311-94c4-4a1...|             20|      Wednesday|   false|      false|        false|        Free|       Africa| 2016-03-08|     True|       2016|\n",
            "|user_24|2023-04-20 05:02:18|    ERROR|  172.169.39.75|/api/register|      296.0|        1.759|64379e33-068e-405...|              5|       Thursday|    true|      false|         true|     Premium|North America| 2017-03-27|     True|       2017|\n",
            "|user_25|2024-11-06 04:41:00|     INFO| 10.226.236.143|   /api/login|      367.0|        2.985|add69933-f0aa-49b...|              4|      Wednesday|   false|      false|        false|  Enterprise|North America| 2022-03-04|    False|       2022|\n",
            "|user_26|2025-04-14 13:48:04|    ERROR| 192.204.24.172|  /api/search|      160.0|        3.635|4a461ba6-e7d0-47b...|             13|         Monday|    true|      false|        false|     Premium|      Oceania|       NULL|     True|       NULL|\n",
            "|user_29|2024-08-09 02:46:32|     INFO|  10.136.109.23|/api/register|      698.0|         4.34|8481b5ab-6010-42b...|              2|         Friday|   false|       true|        false|        Free|         NULL| 2022-05-15|     True|       2022|\n",
            "|user_30|2025-04-21 20:49:05|    ERROR|   172.69.76.78|  /api/search|      296.0|         1.81|efea30a9-0cc9-4c6...|             20|         Monday|    true|      false|         true|  Enterprise|       Africa| 2017-01-12|     True|       2017|\n",
            "|user_31|2023-08-04 23:14:29|     INFO|172.121.235.105|  /api/search|      609.0|        4.296|405ad206-6ed6-4f2...|             23|         Friday|   false|       true|        false|     Premium|      Oceania| 2017-03-15|     True|       2017|\n",
            "|user_33|2024-07-12 14:13:50|     INFO|   172.58.64.36|  /api/update|      533.0|        0.635|99a16c9a-79b3-433...|             14|         Friday|   false|       true|         true|        NULL|       Africa| 2017-10-16|    False|       2017|\n",
            "|user_34|2024-08-04 08:58:26|     WARN| 10.126.108.212|  /api/search|      390.0|        2.523|adcb12bb-e5ad-400...|              8|         Sunday|   false|      false|        false|        Free|South America| 2017-04-10|     True|       2017|\n",
            "+-------+-------------------+---------+---------------+-------------+-----------+-------------+--------------------+---------------+---------------+--------+-----------+-------------+------------+-------------+-----------+---------+-----------+\n",
            "only showing top 20 rows\n",
            "\n"
          ]
        }
      ]
    },
    {
      "cell_type": "code",
      "source": [
        "signup_year_active_users = df_joined.groupBy(\"signup_year\").agg(\n",
        "    count(when(col(\"is_active\") == \"True\" , True)).alias(\"signup_year_active_user\")\n",
        ").orderBy(col(\"signup_year\").asc())"
      ],
      "metadata": {
        "id": "ocPjBkbWsQl2"
      },
      "execution_count": 68,
      "outputs": []
    },
    {
      "cell_type": "code",
      "source": [
        "signup_year_active_users.show()"
      ],
      "metadata": {
        "colab": {
          "base_uri": "https://localhost:8080/"
        },
        "id": "dEhlMLovswOd",
        "outputId": "f7f58c2a-644f-4733-9494-8769f38c8be0"
      },
      "execution_count": 69,
      "outputs": [
        {
          "output_type": "stream",
          "name": "stdout",
          "text": [
            "+-----------+-----------------------+\n",
            "|signup_year|signup_year_active_user|\n",
            "+-----------+-----------------------+\n",
            "|       NULL|                    156|\n",
            "|       2015|                    131|\n",
            "|       2016|                    118|\n",
            "|       2017|                    122|\n",
            "|       2018|                    134|\n",
            "|       2019|                    122|\n",
            "|       2020|                    133|\n",
            "|       2021|                    133|\n",
            "|       2022|                    129|\n",
            "|       2023|                    129|\n",
            "|       2024|                    128|\n",
            "+-----------+-----------------------+\n",
            "\n"
          ]
        }
      ]
    },
    {
      "cell_type": "code",
      "source": [
        "account_type_active_user.write.option(\n",
        "    \"Header\",True).mode(\n",
        "    \"Overwrite\").csv(\n",
        "    \"output/account_type_active_user\"\n",
        "    )"
      ],
      "metadata": {
        "id": "jQFxY3pPZH2L"
      },
      "execution_count": 70,
      "outputs": []
    },
    {
      "cell_type": "code",
      "source": [
        "region_active_user.write.option(\n",
        "    \"Header\",True).mode(\n",
        "    \"Overwrite\").csv(\n",
        "    \"output/region_active_user\"\n",
        "    )"
      ],
      "metadata": {
        "id": "f_Ib87dQCflP"
      },
      "execution_count": 71,
      "outputs": []
    },
    {
      "cell_type": "code",
      "source": [
        "signup_year_active_users.write.option(\n",
        "    \"Header\",True).mode(\n",
        "    \"Overwrite\").csv(\n",
        "    \"output/signup_year_active_user\"\n",
        "    )"
      ],
      "metadata": {
        "id": "E6A40E_yCo4_"
      },
      "execution_count": 72,
      "outputs": []
    },
    {
      "cell_type": "code",
      "source": [
        "!zip -r /content/output.zip /content/output/"
      ],
      "metadata": {
        "colab": {
          "base_uri": "https://localhost:8080/"
        },
        "id": "1EBBvJoqEsxB",
        "outputId": "cc185a42-7a7e-4e62-f50a-a5b35a940154"
      },
      "execution_count": 74,
      "outputs": [
        {
          "output_type": "stream",
          "name": "stdout",
          "text": [
            "  adding: content/output/ (stored 0%)\n",
            "  adding: content/output/summary_server_log_data/ (stored 0%)\n",
            "  adding: content/output/summary_server_log_data/.part-00000-29145985-b928-4d92-9faf-360b464b6255-c000.csv.crc (stored 0%)\n",
            "  adding: content/output/summary_server_log_data/_SUCCESS (stored 0%)\n",
            "  adding: content/output/summary_server_log_data/._SUCCESS.crc (stored 0%)\n",
            "  adding: content/output/summary_server_log_data/part-00000-29145985-b928-4d92-9faf-360b464b6255-c000.csv (deflated 37%)\n",
            "  adding: content/output/cleaned_suspicious_user_data/ (stored 0%)\n",
            "  adding: content/output/cleaned_suspicious_user_data/.part-00000-39b76bdc-ac6d-454a-86fe-41e0c192d732-c000.csv.crc (stored 0%)\n",
            "  adding: content/output/cleaned_suspicious_user_data/.part-00001-39b76bdc-ac6d-454a-86fe-41e0c192d732-c000.csv.crc (stored 0%)\n",
            "  adding: content/output/cleaned_suspicious_user_data/_SUCCESS (stored 0%)\n",
            "  adding: content/output/cleaned_suspicious_user_data/part-00000-39b76bdc-ac6d-454a-86fe-41e0c192d732-c000.csv (deflated 65%)\n",
            "  adding: content/output/cleaned_suspicious_user_data/part-00001-39b76bdc-ac6d-454a-86fe-41e0c192d732-c000.csv (deflated 64%)\n",
            "  adding: content/output/cleaned_suspicious_user_data/._SUCCESS.crc (stored 0%)\n",
            "  adding: content/output/account_type_active_user/ (stored 0%)\n",
            "  adding: content/output/account_type_active_user/part-00000-04f6a673-712a-4843-98fa-4ddb4e258b2d-c000.csv (stored 0%)\n",
            "  adding: content/output/account_type_active_user/_SUCCESS (stored 0%)\n",
            "  adding: content/output/account_type_active_user/.part-00000-04f6a673-712a-4843-98fa-4ddb4e258b2d-c000.csv.crc (stored 0%)\n",
            "  adding: content/output/account_type_active_user/._SUCCESS.crc (stored 0%)\n",
            "  adding: content/output/signup_year_active_user/ (stored 0%)\n",
            "  adding: content/output/signup_year_active_user/_SUCCESS (stored 0%)\n",
            "  adding: content/output/signup_year_active_user/.part-00000-62e3031a-1237-42da-8a0f-6efe5357a7df-c000.csv.crc (stored 0%)\n",
            "  adding: content/output/signup_year_active_user/._SUCCESS.crc (stored 0%)\n",
            "  adding: content/output/signup_year_active_user/part-00000-62e3031a-1237-42da-8a0f-6efe5357a7df-c000.csv (deflated 36%)\n",
            "  adding: content/output/region_active_user/ (stored 0%)\n",
            "  adding: content/output/region_active_user/part-00000-2d46c42c-6e03-43fe-a28b-727d37af3f1f-c000.csv (deflated 16%)\n",
            "  adding: content/output/region_active_user/_SUCCESS (stored 0%)\n",
            "  adding: content/output/region_active_user/.part-00000-2d46c42c-6e03-43fe-a28b-727d37af3f1f-c000.csv.crc (stored 0%)\n",
            "  adding: content/output/region_active_user/._SUCCESS.crc (stored 0%)\n",
            "  adding: content/output/cleaned_server_log_data/ (stored 0%)\n",
            "  adding: content/output/cleaned_server_log_data/.part-00000-d03a6f8a-2a1e-4cd7-b33f-893fe1b4e4cc-c000.csv.crc (deflated 0%)\n",
            "  adding: content/output/cleaned_server_log_data/part-00000-d03a6f8a-2a1e-4cd7-b33f-893fe1b4e4cc-c000.csv (deflated 65%)\n",
            "  adding: content/output/cleaned_server_log_data/_SUCCESS (stored 0%)\n",
            "  adding: content/output/cleaned_server_log_data/part-00001-d03a6f8a-2a1e-4cd7-b33f-893fe1b4e4cc-c000.csv (deflated 65%)\n",
            "  adding: content/output/cleaned_server_log_data/._SUCCESS.crc (stored 0%)\n",
            "  adding: content/output/cleaned_server_log_data/.part-00001-d03a6f8a-2a1e-4cd7-b33f-893fe1b4e4cc-c000.csv.crc (stored 0%)\n"
          ]
        }
      ]
    }
  ]
}