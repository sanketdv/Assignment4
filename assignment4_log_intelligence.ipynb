{
  "nbformat": 4,
  "nbformat_minor": 0,
  "metadata": {
    "colab": {
      "provenance": []
    },
    "kernelspec": {
      "name": "python3",
      "display_name": "Python 3"
    },
    "language_info": {
      "name": "python"
    }
  },
  "cells": [
    {
      "cell_type": "markdown",
      "source": [
        "# ***Problem Statement:***\n",
        "\n",
        "# **Assignment: Log Intelligence System**\n",
        "\n",
        "Level 1: Foundational Log Processing\n",
        "\n",
        "Level 2: Metadata Enrichment & Optimization\n",
        "\n",
        "# **Background**\n",
        "\n",
        "Your company operates several web-based services that generate large volumes of server logs. These logs are critical for understanding system performance, user behavior, and detecting operational issues. Additionally, business and product teams rely on enriched metrics for decision-making.\n",
        "\n",
        "\n",
        "# **Level 1 Tasks: Log Intelligence Pipeline**\n",
        "1. Load & Explore\n",
        "\n",
        "  Ingest the log data and perform data profiling.\n",
        "\n",
        "  I have provided a sample, generate Log Dataset of at least 100,000 rows\n",
        "\n",
        "  Connect to AWS S3 for data retrieval or storage.\n",
        "\n",
        "\n",
        "2. Clean & Prepare\n",
        "\n",
        "  Clean and standardize the dataset.\n",
        "\n",
        "  Handle incorrect, missing values\n",
        "\n",
        "  Prepare the dataset for further processing.\n",
        "\n",
        "3. Feature Engineering\n",
        "\n",
        "  Derive new informative fields to enhance the dataset.\n",
        "Hint -  hour_of_day, day_of_week, is_error (status >= 400) etc\n",
        "\n",
        "4. Analyze Usage Patterns and Insights\n",
        "\n",
        "  Analyze traffic patterns, usage behavior, and performance trends.\n",
        "Hint -  Slowest APIs, most hit , suspicious user detected\n",
        "\n",
        "5. Store & Summarize\n",
        "\n",
        "  Store cleaned and processed data.\n",
        "\n",
        "  Create summary outputs for further reporting\n",
        "\n",
        "\n",
        "# **Level 2 Tasks: Metadata Enrichment & Optimization**\n",
        "6. Enrichment\n",
        "\n",
        "  Integrate the user_metadata dataset with the log dataset using user_id.\n",
        "Generate data of size 5k\n",
        "\n",
        "7. Aggregated Analysis\n",
        "  Perform grouped analysis using enriched fields.\n",
        "\n",
        "  Analyze patterns across account types, regions, and activity status.\n",
        "\n",
        "  Ex . Activity trends of Free vs Premium users\n",
        "\n",
        "8. Optimization & Output Strategy\n",
        "\n",
        "Apply appropriate optimization techniques to improve performance.\n",
        "\n",
        "Organize output for efficient querying and reuse.\n",
        "\n",
        "Structure your saved data so that subsets can be efficiently accessed without scanning the entire dataset"
      ],
      "metadata": {
        "id": "jA2GKGEBG9rZ"
      }
    },
    {
      "cell_type": "code",
      "source": [],
      "metadata": {
        "id": "_z62PvYaG-ZN"
      },
      "execution_count": null,
      "outputs": []
    },
    {
      "cell_type": "code",
      "source": [
        "!pip install pyspark"
      ],
      "metadata": {
        "colab": {
          "base_uri": "https://localhost:8080/"
        },
        "id": "0ECQYSK6-cul",
        "outputId": "035aa772-78f6-4e49-a946-fdae6c5beae1"
      },
      "execution_count": 1,
      "outputs": [
        {
          "output_type": "stream",
          "name": "stdout",
          "text": [
            "Requirement already satisfied: pyspark in /usr/local/lib/python3.11/dist-packages (3.5.1)\n",
            "Requirement already satisfied: py4j==0.10.9.7 in /usr/local/lib/python3.11/dist-packages (from pyspark) (0.10.9.7)\n"
          ]
        }
      ]
    },
    {
      "cell_type": "code",
      "source": [
        "from pyspark.sql import SparkSession\n",
        "\n",
        "spark = SparkSession.builder.appName(\"Log Intelligence Pipeline\").getOrCreate()"
      ],
      "metadata": {
        "id": "x9lhMXyh-kVk"
      },
      "execution_count": 2,
      "outputs": []
    },
    {
      "cell_type": "code",
      "source": [
        "df_serverlog = spark.read.option('header','true').csv(\"server_log_dataset.csv\", inferSchema = True)"
      ],
      "metadata": {
        "id": "tcTw8v3P2zKk"
      },
      "execution_count": 141,
      "outputs": []
    },
    {
      "cell_type": "code",
      "source": [
        "df_serverlog.show()"
      ],
      "metadata": {
        "id": "xA5fND46-zNe",
        "colab": {
          "base_uri": "https://localhost:8080/"
        },
        "outputId": "bf23e6b7-1280-4584-8e54-b40d915bb3af"
      },
      "execution_count": 142,
      "outputs": [
        {
          "output_type": "stream",
          "name": "stdout",
          "text": [
            "+-------------------+---------+-------+---------------+-------------+-----------+-------------+--------------------+\n",
            "|          timestamp|log_level|user_id|     ip_address|     endpoint|status_code|response_time|          request_id|\n",
            "+-------------------+---------+-------+---------------+-------------+-----------+-------------+--------------------+\n",
            "|2023-02-22 19:28:34|    ERROR| user_1|   192.113.2.76|/api/register|      463.0|        1.411|093c96b7-7dae-48e...|\n",
            "|               NULL|     INFO| user_2|  172.254.4.144|  /api/delete|      109.0|        1.927|4b15d36c-3b74-499...|\n",
            "|2023-06-09 22:51:32|    ERROR| user_3|  192.15.237.65|  /api/logout|       NULL|        2.431|                NULL|\n",
            "|2024-11-26 03:43:14|     WARN| user_4|  172.52.177.15|   /api/login|       NULL|         0.94|cd76fb1a-b0c0-4c2...|\n",
            "|2023-06-18 23:44:57|     INFO| user_5|   192.25.49.86|  /api/logout|       NULL|        0.225|058ee99a-6a35-4b2...|\n",
            "|2024-09-18 17:54:00|     INFO| user_6|172.126.189.228|  /api/update|      309.0|         NULL|b427fa91-5bf8-4fa...|\n",
            "|               NULL|    DEBUG| user_7| 172.29.181.137|   /api/login|      242.0|        0.098|ad6b1afd-f3db-473...|\n",
            "|               NULL|    DEBUG| user_8|   172.5.137.92|  /api/delete|      222.0|        2.774|e38931c7-ae62-4b0...|\n",
            "|2023-12-08 11:24:56|    ERROR| user_9|   10.93.214.59|  /api/logout|      495.0|        1.314|1683c6a0-cacb-456...|\n",
            "|2024-02-11 05:59:14|     WARN|user_10|   10.81.117.60|  /api/logout|      570.0|         NULL|497e161e-2b03-44c...|\n",
            "|               NULL|    DEBUG|user_11|  10.120.80.226|  /api/logout|      640.0|        4.903|b6d18343-e170-419...|\n",
            "|2025-04-09 14:01:29|    DEBUG|user_12|172.228.126.139|   /api/login|      265.0|        1.201|b9f9ef83-727e-4c4...|\n",
            "|2025-02-26 04:14:59|    ERROR|user_13| 192.167.95.252|  /api/search|      410.0|        1.083|7f2cd001-7818-439...|\n",
            "|2024-08-14 07:57:44|     NULL|user_14|   192.4.66.237|  /api/search|      164.0|        0.215|33199ece-caf1-43c...|\n",
            "|               NULL|     INFO|user_15|192.189.128.121|  /api/update|      302.0|        4.349|9b66b999-f805-4ea...|\n",
            "|2023-01-11 05:09:58|    ERROR|user_16|  10.19.207.116|  /api/delete|       NULL|        3.091|ded8efb4-2840-44b...|\n",
            "|               NULL|    ERROR|user_17|  172.225.35.30|  /api/update|      412.0|         3.21|ecefd4e6-465b-4ee...|\n",
            "|2024-07-14 19:09:14|    DEBUG|user_18| 192.17.114.239|  /api/update|      576.0|        4.229|275f892c-796d-40d...|\n",
            "|               NULL|     WARN|user_19|  10.140.136.39|/api/register|      707.0|        2.587|e3e22c01-9d9a-4a2...|\n",
            "|               NULL|     INFO|user_20|  192.43.93.143|/api/register|      621.0|        0.647|1881173a-3542-464...|\n",
            "+-------------------+---------+-------+---------------+-------------+-----------+-------------+--------------------+\n",
            "only showing top 20 rows\n",
            "\n"
          ]
        }
      ]
    },
    {
      "cell_type": "code",
      "source": [],
      "metadata": {
        "id": "O-mmv4BUVWG3"
      },
      "execution_count": 7,
      "outputs": []
    },
    {
      "cell_type": "markdown",
      "source": [
        "**Dealing with the null values. Assuming that I cannot replace columns like timestamp, ip_address, request_id, user_id with any values from the respected columns. So dropping that rows.**"
      ],
      "metadata": {
        "id": "dc3ioBsCVFaB"
      }
    },
    {
      "cell_type": "code",
      "source": [
        "from pyspark.sql.functions import col"
      ],
      "metadata": {
        "id": "cIkp7Xm4_lN8"
      },
      "execution_count": 143,
      "outputs": []
    },
    {
      "cell_type": "code",
      "source": [
        "df_serverlog = df_serverlog.filter(col(\"timestamp\").isNotNull())"
      ],
      "metadata": {
        "id": "l14ilH6M_PSu"
      },
      "execution_count": 144,
      "outputs": []
    },
    {
      "cell_type": "code",
      "source": [
        "#As you can see user 2 is dropped from dataset as its timestamp was null#\n",
        "\n",
        "df_serverlog.show()"
      ],
      "metadata": {
        "colab": {
          "base_uri": "https://localhost:8080/"
        },
        "id": "XeRM65U8_01Q",
        "outputId": "f27f7ea4-869c-47b0-fefa-4d5d18bc31a9"
      },
      "execution_count": 145,
      "outputs": [
        {
          "output_type": "stream",
          "name": "stdout",
          "text": [
            "+-------------------+---------+-------+---------------+-------------+-----------+-------------+--------------------+\n",
            "|          timestamp|log_level|user_id|     ip_address|     endpoint|status_code|response_time|          request_id|\n",
            "+-------------------+---------+-------+---------------+-------------+-----------+-------------+--------------------+\n",
            "|2023-02-22 19:28:34|    ERROR| user_1|   192.113.2.76|/api/register|      463.0|        1.411|093c96b7-7dae-48e...|\n",
            "|2023-06-09 22:51:32|    ERROR| user_3|  192.15.237.65|  /api/logout|       NULL|        2.431|                NULL|\n",
            "|2024-11-26 03:43:14|     WARN| user_4|  172.52.177.15|   /api/login|       NULL|         0.94|cd76fb1a-b0c0-4c2...|\n",
            "|2023-06-18 23:44:57|     INFO| user_5|   192.25.49.86|  /api/logout|       NULL|        0.225|058ee99a-6a35-4b2...|\n",
            "|2024-09-18 17:54:00|     INFO| user_6|172.126.189.228|  /api/update|      309.0|         NULL|b427fa91-5bf8-4fa...|\n",
            "|2023-12-08 11:24:56|    ERROR| user_9|   10.93.214.59|  /api/logout|      495.0|        1.314|1683c6a0-cacb-456...|\n",
            "|2024-02-11 05:59:14|     WARN|user_10|   10.81.117.60|  /api/logout|      570.0|         NULL|497e161e-2b03-44c...|\n",
            "|2025-04-09 14:01:29|    DEBUG|user_12|172.228.126.139|   /api/login|      265.0|        1.201|b9f9ef83-727e-4c4...|\n",
            "|2025-02-26 04:14:59|    ERROR|user_13| 192.167.95.252|  /api/search|      410.0|        1.083|7f2cd001-7818-439...|\n",
            "|2024-08-14 07:57:44|     NULL|user_14|   192.4.66.237|  /api/search|      164.0|        0.215|33199ece-caf1-43c...|\n",
            "|2023-01-11 05:09:58|    ERROR|user_16|  10.19.207.116|  /api/delete|       NULL|        3.091|ded8efb4-2840-44b...|\n",
            "|2024-07-14 19:09:14|    DEBUG|user_18| 192.17.114.239|  /api/update|      576.0|        4.229|275f892c-796d-40d...|\n",
            "|2023-05-19 00:31:04|     WARN|user_21| 192.14.138.172|/api/register|      511.0|        0.089|                NULL|\n",
            "|2023-12-06 20:08:16|     WARN|user_22|   172.45.63.13|         NULL|      205.0|        2.609|79445311-94c4-4a1...|\n",
            "|2023-07-10 08:52:08|     INFO|user_23|           NULL|  /api/delete|       NULL|        4.375|d8d2b5be-f82c-4c8...|\n",
            "|2023-04-20 05:02:18|    ERROR|user_24|  172.169.39.75|/api/register|      296.0|        1.759|64379e33-068e-405...|\n",
            "|2024-11-06 04:41:00|     INFO|user_25| 10.226.236.143|   /api/login|      367.0|        2.985|add69933-f0aa-49b...|\n",
            "|2025-04-14 13:48:04|    ERROR|user_26| 192.204.24.172|  /api/search|      160.0|        3.635|4a461ba6-e7d0-47b...|\n",
            "|2023-07-05 17:52:37|     WARN|user_27| 192.137.86.221|         NULL|       75.0|        4.047|6cddcac5-0c59-44b...|\n",
            "|2024-06-12 04:55:17|    ERROR|user_28| 172.151.38.239|  /api/search|       69.0|        3.455|47ddbfed-bdcc-4bb...|\n",
            "+-------------------+---------+-------+---------------+-------------+-----------+-------------+--------------------+\n",
            "only showing top 20 rows\n",
            "\n"
          ]
        }
      ]
    },
    {
      "cell_type": "code",
      "source": [
        "df_serverlog.where(col(\"user_id\") == \"NULL\").show()"
      ],
      "metadata": {
        "colab": {
          "base_uri": "https://localhost:8080/"
        },
        "id": "ymdqKFpX5pxi",
        "outputId": "acb4b6a7-f429-415e-bd73-17310971644f"
      },
      "execution_count": 146,
      "outputs": [
        {
          "output_type": "stream",
          "name": "stdout",
          "text": [
            "+---------+---------+-------+----------+--------+-----------+-------------+----------+\n",
            "|timestamp|log_level|user_id|ip_address|endpoint|status_code|response_time|request_id|\n",
            "+---------+---------+-------+----------+--------+-----------+-------------+----------+\n",
            "+---------+---------+-------+----------+--------+-----------+-------------+----------+\n",
            "\n"
          ]
        }
      ]
    },
    {
      "cell_type": "code",
      "source": [
        "df_serverlog = df_serverlog.where(col(\"user_id\") != \"NULL\")"
      ],
      "metadata": {
        "id": "O5vvAdsG_ywQ"
      },
      "execution_count": 147,
      "outputs": []
    },
    {
      "cell_type": "code",
      "source": [
        "#Checked whether there is any null user_id, its not there but still using if it was available#\n",
        "\n",
        "df_serverlog.show()"
      ],
      "metadata": {
        "colab": {
          "base_uri": "https://localhost:8080/"
        },
        "id": "9hHp-fv-DWj6",
        "outputId": "a6aca94e-eba6-4185-b936-ed969fd5ae84"
      },
      "execution_count": 148,
      "outputs": [
        {
          "output_type": "stream",
          "name": "stdout",
          "text": [
            "+-------------------+---------+-------+---------------+-------------+-----------+-------------+--------------------+\n",
            "|          timestamp|log_level|user_id|     ip_address|     endpoint|status_code|response_time|          request_id|\n",
            "+-------------------+---------+-------+---------------+-------------+-----------+-------------+--------------------+\n",
            "|2023-02-22 19:28:34|    ERROR| user_1|   192.113.2.76|/api/register|      463.0|        1.411|093c96b7-7dae-48e...|\n",
            "|2023-06-09 22:51:32|    ERROR| user_3|  192.15.237.65|  /api/logout|       NULL|        2.431|                NULL|\n",
            "|2024-11-26 03:43:14|     WARN| user_4|  172.52.177.15|   /api/login|       NULL|         0.94|cd76fb1a-b0c0-4c2...|\n",
            "|2023-06-18 23:44:57|     INFO| user_5|   192.25.49.86|  /api/logout|       NULL|        0.225|058ee99a-6a35-4b2...|\n",
            "|2024-09-18 17:54:00|     INFO| user_6|172.126.189.228|  /api/update|      309.0|         NULL|b427fa91-5bf8-4fa...|\n",
            "|2023-12-08 11:24:56|    ERROR| user_9|   10.93.214.59|  /api/logout|      495.0|        1.314|1683c6a0-cacb-456...|\n",
            "|2024-02-11 05:59:14|     WARN|user_10|   10.81.117.60|  /api/logout|      570.0|         NULL|497e161e-2b03-44c...|\n",
            "|2025-04-09 14:01:29|    DEBUG|user_12|172.228.126.139|   /api/login|      265.0|        1.201|b9f9ef83-727e-4c4...|\n",
            "|2025-02-26 04:14:59|    ERROR|user_13| 192.167.95.252|  /api/search|      410.0|        1.083|7f2cd001-7818-439...|\n",
            "|2024-08-14 07:57:44|     NULL|user_14|   192.4.66.237|  /api/search|      164.0|        0.215|33199ece-caf1-43c...|\n",
            "|2023-01-11 05:09:58|    ERROR|user_16|  10.19.207.116|  /api/delete|       NULL|        3.091|ded8efb4-2840-44b...|\n",
            "|2024-07-14 19:09:14|    DEBUG|user_18| 192.17.114.239|  /api/update|      576.0|        4.229|275f892c-796d-40d...|\n",
            "|2023-05-19 00:31:04|     WARN|user_21| 192.14.138.172|/api/register|      511.0|        0.089|                NULL|\n",
            "|2023-12-06 20:08:16|     WARN|user_22|   172.45.63.13|         NULL|      205.0|        2.609|79445311-94c4-4a1...|\n",
            "|2023-07-10 08:52:08|     INFO|user_23|           NULL|  /api/delete|       NULL|        4.375|d8d2b5be-f82c-4c8...|\n",
            "|2023-04-20 05:02:18|    ERROR|user_24|  172.169.39.75|/api/register|      296.0|        1.759|64379e33-068e-405...|\n",
            "|2024-11-06 04:41:00|     INFO|user_25| 10.226.236.143|   /api/login|      367.0|        2.985|add69933-f0aa-49b...|\n",
            "|2025-04-14 13:48:04|    ERROR|user_26| 192.204.24.172|  /api/search|      160.0|        3.635|4a461ba6-e7d0-47b...|\n",
            "|2023-07-05 17:52:37|     WARN|user_27| 192.137.86.221|         NULL|       75.0|        4.047|6cddcac5-0c59-44b...|\n",
            "|2024-06-12 04:55:17|    ERROR|user_28| 172.151.38.239|  /api/search|       69.0|        3.455|47ddbfed-bdcc-4bb...|\n",
            "+-------------------+---------+-------+---------------+-------------+-----------+-------------+--------------------+\n",
            "only showing top 20 rows\n",
            "\n"
          ]
        }
      ]
    },
    {
      "cell_type": "code",
      "source": [
        "df_serverlog = df_serverlog.where(col(\"ip_address\") != \"NULL\")"
      ],
      "metadata": {
        "id": "dgpHqsNbDbyl"
      },
      "execution_count": 149,
      "outputs": []
    },
    {
      "cell_type": "code",
      "source": [
        "#You can see user_23 has been droppped#\n",
        "\n",
        "df_serverlog.show()"
      ],
      "metadata": {
        "colab": {
          "base_uri": "https://localhost:8080/"
        },
        "id": "FtfEXal0DirV",
        "outputId": "7911e4ab-675d-42f3-a847-0ae1faecd788"
      },
      "execution_count": 150,
      "outputs": [
        {
          "output_type": "stream",
          "name": "stdout",
          "text": [
            "+-------------------+---------+-------+---------------+-------------+-----------+-------------+--------------------+\n",
            "|          timestamp|log_level|user_id|     ip_address|     endpoint|status_code|response_time|          request_id|\n",
            "+-------------------+---------+-------+---------------+-------------+-----------+-------------+--------------------+\n",
            "|2023-02-22 19:28:34|    ERROR| user_1|   192.113.2.76|/api/register|      463.0|        1.411|093c96b7-7dae-48e...|\n",
            "|2023-06-09 22:51:32|    ERROR| user_3|  192.15.237.65|  /api/logout|       NULL|        2.431|                NULL|\n",
            "|2024-11-26 03:43:14|     WARN| user_4|  172.52.177.15|   /api/login|       NULL|         0.94|cd76fb1a-b0c0-4c2...|\n",
            "|2023-06-18 23:44:57|     INFO| user_5|   192.25.49.86|  /api/logout|       NULL|        0.225|058ee99a-6a35-4b2...|\n",
            "|2024-09-18 17:54:00|     INFO| user_6|172.126.189.228|  /api/update|      309.0|         NULL|b427fa91-5bf8-4fa...|\n",
            "|2023-12-08 11:24:56|    ERROR| user_9|   10.93.214.59|  /api/logout|      495.0|        1.314|1683c6a0-cacb-456...|\n",
            "|2024-02-11 05:59:14|     WARN|user_10|   10.81.117.60|  /api/logout|      570.0|         NULL|497e161e-2b03-44c...|\n",
            "|2025-04-09 14:01:29|    DEBUG|user_12|172.228.126.139|   /api/login|      265.0|        1.201|b9f9ef83-727e-4c4...|\n",
            "|2025-02-26 04:14:59|    ERROR|user_13| 192.167.95.252|  /api/search|      410.0|        1.083|7f2cd001-7818-439...|\n",
            "|2024-08-14 07:57:44|     NULL|user_14|   192.4.66.237|  /api/search|      164.0|        0.215|33199ece-caf1-43c...|\n",
            "|2023-01-11 05:09:58|    ERROR|user_16|  10.19.207.116|  /api/delete|       NULL|        3.091|ded8efb4-2840-44b...|\n",
            "|2024-07-14 19:09:14|    DEBUG|user_18| 192.17.114.239|  /api/update|      576.0|        4.229|275f892c-796d-40d...|\n",
            "|2023-05-19 00:31:04|     WARN|user_21| 192.14.138.172|/api/register|      511.0|        0.089|                NULL|\n",
            "|2023-12-06 20:08:16|     WARN|user_22|   172.45.63.13|         NULL|      205.0|        2.609|79445311-94c4-4a1...|\n",
            "|2023-04-20 05:02:18|    ERROR|user_24|  172.169.39.75|/api/register|      296.0|        1.759|64379e33-068e-405...|\n",
            "|2024-11-06 04:41:00|     INFO|user_25| 10.226.236.143|   /api/login|      367.0|        2.985|add69933-f0aa-49b...|\n",
            "|2025-04-14 13:48:04|    ERROR|user_26| 192.204.24.172|  /api/search|      160.0|        3.635|4a461ba6-e7d0-47b...|\n",
            "|2023-07-05 17:52:37|     WARN|user_27| 192.137.86.221|         NULL|       75.0|        4.047|6cddcac5-0c59-44b...|\n",
            "|2024-06-12 04:55:17|    ERROR|user_28| 172.151.38.239|  /api/search|       69.0|        3.455|47ddbfed-bdcc-4bb...|\n",
            "|2024-08-09 02:46:32|     INFO|user_29|  10.136.109.23|/api/register|      698.0|         4.34|8481b5ab-6010-42b...|\n",
            "+-------------------+---------+-------+---------------+-------------+-----------+-------------+--------------------+\n",
            "only showing top 20 rows\n",
            "\n"
          ]
        }
      ]
    },
    {
      "cell_type": "code",
      "source": [
        "df_serverlog = df_serverlog.where(col(\"request_id\") != \"NULL\")"
      ],
      "metadata": {
        "id": "DnE0SlHODk8f"
      },
      "execution_count": 151,
      "outputs": []
    },
    {
      "cell_type": "code",
      "source": [
        "#user_21 has been dropped because its request_id is NULL#\n",
        "\n",
        "df_serverlog.show()"
      ],
      "metadata": {
        "colab": {
          "base_uri": "https://localhost:8080/"
        },
        "id": "5CAHICG2DpHz",
        "outputId": "7e3f1578-ad43-4596-bbb2-4a5d74362e26"
      },
      "execution_count": 152,
      "outputs": [
        {
          "output_type": "stream",
          "name": "stdout",
          "text": [
            "+-------------------+---------+-------+---------------+-------------+-----------+-------------+--------------------+\n",
            "|          timestamp|log_level|user_id|     ip_address|     endpoint|status_code|response_time|          request_id|\n",
            "+-------------------+---------+-------+---------------+-------------+-----------+-------------+--------------------+\n",
            "|2023-02-22 19:28:34|    ERROR| user_1|   192.113.2.76|/api/register|      463.0|        1.411|093c96b7-7dae-48e...|\n",
            "|2024-11-26 03:43:14|     WARN| user_4|  172.52.177.15|   /api/login|       NULL|         0.94|cd76fb1a-b0c0-4c2...|\n",
            "|2023-06-18 23:44:57|     INFO| user_5|   192.25.49.86|  /api/logout|       NULL|        0.225|058ee99a-6a35-4b2...|\n",
            "|2024-09-18 17:54:00|     INFO| user_6|172.126.189.228|  /api/update|      309.0|         NULL|b427fa91-5bf8-4fa...|\n",
            "|2023-12-08 11:24:56|    ERROR| user_9|   10.93.214.59|  /api/logout|      495.0|        1.314|1683c6a0-cacb-456...|\n",
            "|2024-02-11 05:59:14|     WARN|user_10|   10.81.117.60|  /api/logout|      570.0|         NULL|497e161e-2b03-44c...|\n",
            "|2025-04-09 14:01:29|    DEBUG|user_12|172.228.126.139|   /api/login|      265.0|        1.201|b9f9ef83-727e-4c4...|\n",
            "|2025-02-26 04:14:59|    ERROR|user_13| 192.167.95.252|  /api/search|      410.0|        1.083|7f2cd001-7818-439...|\n",
            "|2024-08-14 07:57:44|     NULL|user_14|   192.4.66.237|  /api/search|      164.0|        0.215|33199ece-caf1-43c...|\n",
            "|2023-01-11 05:09:58|    ERROR|user_16|  10.19.207.116|  /api/delete|       NULL|        3.091|ded8efb4-2840-44b...|\n",
            "|2024-07-14 19:09:14|    DEBUG|user_18| 192.17.114.239|  /api/update|      576.0|        4.229|275f892c-796d-40d...|\n",
            "|2023-12-06 20:08:16|     WARN|user_22|   172.45.63.13|         NULL|      205.0|        2.609|79445311-94c4-4a1...|\n",
            "|2023-04-20 05:02:18|    ERROR|user_24|  172.169.39.75|/api/register|      296.0|        1.759|64379e33-068e-405...|\n",
            "|2024-11-06 04:41:00|     INFO|user_25| 10.226.236.143|   /api/login|      367.0|        2.985|add69933-f0aa-49b...|\n",
            "|2025-04-14 13:48:04|    ERROR|user_26| 192.204.24.172|  /api/search|      160.0|        3.635|4a461ba6-e7d0-47b...|\n",
            "|2023-07-05 17:52:37|     WARN|user_27| 192.137.86.221|         NULL|       75.0|        4.047|6cddcac5-0c59-44b...|\n",
            "|2024-06-12 04:55:17|    ERROR|user_28| 172.151.38.239|  /api/search|       69.0|        3.455|47ddbfed-bdcc-4bb...|\n",
            "|2024-08-09 02:46:32|     INFO|user_29|  10.136.109.23|/api/register|      698.0|         4.34|8481b5ab-6010-42b...|\n",
            "|2025-04-21 20:49:05|     NULL|user_30|   172.69.76.78|  /api/search|      296.0|         1.81|efea30a9-0cc9-4c6...|\n",
            "|2023-08-04 23:14:29|     INFO|user_31|172.121.235.105|  /api/search|      609.0|        4.296|405ad206-6ed6-4f2...|\n",
            "+-------------------+---------+-------+---------------+-------------+-----------+-------------+--------------------+\n",
            "only showing top 20 rows\n",
            "\n"
          ]
        }
      ]
    },
    {
      "cell_type": "code",
      "source": [],
      "metadata": {
        "id": "dIDzyr7EVX4n"
      },
      "execution_count": 152,
      "outputs": []
    },
    {
      "cell_type": "markdown",
      "source": [
        "**After dropping rows having nulls in columns timestamp, user_id, ip_address, request_id, Replacing nulls of other columns with most used, least used, average, median depending on column's requirement.**"
      ],
      "metadata": {
        "id": "xHvgMDH2U_YS"
      }
    },
    {
      "cell_type": "code",
      "source": [
        "from pyspark.sql.functions import avg,round,count,mean,median,mode,sum,when,min,max"
      ],
      "metadata": {
        "id": "cgnGYIe9EvvD"
      },
      "execution_count": 153,
      "outputs": []
    },
    {
      "cell_type": "code",
      "source": [
        "#Replacing NULL of log_level with most used log_level which comes out to be ERROR#\n",
        "\n",
        "from pyspark.sql.functions import col, count\n",
        "\n",
        "most_used_log_level = df_serverlog.groupBy(\"log_level\").agg(\n",
        "    count(\"*\").alias(\"count\")\n",
        ").orderBy(col(\"count\").desc()).first()[0]"
      ],
      "metadata": {
        "id": "KRFznFCMFLva"
      },
      "execution_count": 154,
      "outputs": []
    },
    {
      "cell_type": "code",
      "source": [
        "print(most_used_log_level)"
      ],
      "metadata": {
        "colab": {
          "base_uri": "https://localhost:8080/"
        },
        "id": "MIH2PXYLMwuJ",
        "outputId": "adcbb3d1-cc7a-429e-81b5-c3061d10a7f9"
      },
      "execution_count": 155,
      "outputs": [
        {
          "output_type": "stream",
          "name": "stdout",
          "text": [
            "ERROR\n"
          ]
        }
      ]
    },
    {
      "cell_type": "code",
      "source": [
        "df_serverlog = df_serverlog.fillna({'log_level' : most_used_log_level})"
      ],
      "metadata": {
        "id": "pC5j5DVNLoYp"
      },
      "execution_count": 165,
      "outputs": []
    },
    {
      "cell_type": "code",
      "source": [
        "#user_30 has changed its log_level to ERROR from NULL#\n",
        "\n",
        "df_serverlog.where(col(\"user_id\") == \"user_30\").show()"
      ],
      "metadata": {
        "colab": {
          "base_uri": "https://localhost:8080/"
        },
        "id": "XBgZT665E5bB",
        "outputId": "bd9e8b57-c8a7-476d-b728-c1998683fa4a"
      },
      "execution_count": 170,
      "outputs": [
        {
          "output_type": "stream",
          "name": "stdout",
          "text": [
            "+-------------------+---------+-------+------------+-----------+-----------+-------------+--------------------+\n",
            "|          timestamp|log_level|user_id|  ip_address|   endpoint|status_code|response_time|          request_id|\n",
            "+-------------------+---------+-------+------------+-----------+-----------+-------------+--------------------+\n",
            "|2025-04-21 20:49:05|    ERROR|user_30|172.69.76.78|/api/search|      296.0|         1.81|efea30a9-0cc9-4c6...|\n",
            "+-------------------+---------+-------+------------+-----------+-----------+-------------+--------------------+\n",
            "\n"
          ]
        }
      ]
    },
    {
      "cell_type": "code",
      "source": [
        "#Replaced NULL of endpoints with most used endpoints.#\n",
        "\n",
        "most_used_endpoint = df_serverlog.groupBy(\"endpoint\").agg(\n",
        "    count(\"*\").alias(\"count\")\n",
        ").orderBy(col(\"count\").desc()).first()[0]"
      ],
      "metadata": {
        "id": "CfyclM0SFCaF"
      },
      "execution_count": 167,
      "outputs": []
    },
    {
      "cell_type": "code",
      "source": [
        "print(most_used_endpoint)"
      ],
      "metadata": {
        "colab": {
          "base_uri": "https://localhost:8080/"
        },
        "id": "tlnHncL8FR0M",
        "outputId": "d996dce3-b239-43f4-cc16-0d06455f6e12"
      },
      "execution_count": 168,
      "outputs": [
        {
          "output_type": "stream",
          "name": "stdout",
          "text": [
            "/api/delete\n"
          ]
        }
      ]
    },
    {
      "cell_type": "code",
      "source": [
        "df_serverlog = df_serverlog.fillna({'endpoint' : most_used_endpoint})"
      ],
      "metadata": {
        "id": "iJih7g7oFW3u"
      },
      "execution_count": 169,
      "outputs": []
    },
    {
      "cell_type": "code",
      "source": [
        "#user_22 and user_27 has endpoints /api/delete/ in place of NULL. Showing user_27 as an example#\n",
        "\n",
        "df_serverlog.where(col(\"user_id\") == \"user_27\").show()"
      ],
      "metadata": {
        "colab": {
          "base_uri": "https://localhost:8080/"
        },
        "id": "sJu0eRfrFevk",
        "outputId": "324eb5f4-1a97-4875-fb7c-154e0a461e23"
      },
      "execution_count": 174,
      "outputs": [
        {
          "output_type": "stream",
          "name": "stdout",
          "text": [
            "+-------------------+---------+-------+--------------+-----------+-----------+-------------+--------------------+\n",
            "|          timestamp|log_level|user_id|    ip_address|   endpoint|status_code|response_time|          request_id|\n",
            "+-------------------+---------+-------+--------------+-----------+-----------+-------------+--------------------+\n",
            "|2023-07-05 17:52:37|     WARN|user_27|192.137.86.221|/api/delete|       75.0|        4.047|6cddcac5-0c59-44b...|\n",
            "+-------------------+---------+-------+--------------+-----------+-----------+-------------+--------------------+\n",
            "\n"
          ]
        }
      ]
    },
    {
      "cell_type": "code",
      "source": [
        "#Replacing NULL status codes with avg of all.#\n",
        "\n",
        "avg_status_code = df_serverlog.select(round(avg(\"status_code\"))).collect()[0][0]"
      ],
      "metadata": {
        "id": "qUvOA6SZFmLO"
      },
      "execution_count": 172,
      "outputs": []
    },
    {
      "cell_type": "code",
      "source": [
        "df_serverlog = df_serverlog.fillna({'status_code' : avg_status_code})"
      ],
      "metadata": {
        "id": "HZ_7RpeHGH8s"
      },
      "execution_count": 173,
      "outputs": []
    },
    {
      "cell_type": "code",
      "source": [
        "#user_4, user_5, user_16 has status_code 390.0 in place of NULL. Showing user_4 as an example#\n",
        "\n",
        "df_serverlog.where(col(\"user_id\") == \"user_4\").show()"
      ],
      "metadata": {
        "colab": {
          "base_uri": "https://localhost:8080/"
        },
        "id": "RKhnboPwGR7r",
        "outputId": "6a66223a-465d-4dda-e621-afbbff1aa278"
      },
      "execution_count": 175,
      "outputs": [
        {
          "output_type": "stream",
          "name": "stdout",
          "text": [
            "+-------------------+---------+-------+-------------+----------+-----------+-------------+--------------------+\n",
            "|          timestamp|log_level|user_id|   ip_address|  endpoint|status_code|response_time|          request_id|\n",
            "+-------------------+---------+-------+-------------+----------+-----------+-------------+--------------------+\n",
            "|2024-11-26 03:43:14|     WARN| user_4|172.52.177.15|/api/login|      390.0|         0.94|cd76fb1a-b0c0-4c2...|\n",
            "+-------------------+---------+-------+-------------+----------+-----------+-------------+--------------------+\n",
            "\n"
          ]
        }
      ]
    },
    {
      "cell_type": "code",
      "source": [
        "#Replacing NULL response_time with mean response time#\n",
        "\n",
        "mean_response_time = df_serverlog.select(round(mean(\"response_time\"),3)).collect()[0][0]"
      ],
      "metadata": {
        "id": "0SYojK8wGgko"
      },
      "execution_count": 176,
      "outputs": []
    },
    {
      "cell_type": "code",
      "source": [
        "df_serverlog = df_serverlog.fillna({'response_time' : mean_response_time})"
      ],
      "metadata": {
        "id": "Gyv5il3wHCb5"
      },
      "execution_count": 177,
      "outputs": []
    },
    {
      "cell_type": "code",
      "source": [
        "#user_6 has response_time 2.523#\n",
        "\n",
        "df_serverlog.where(col(\"user_id\") == \"user_6\").show()"
      ],
      "metadata": {
        "colab": {
          "base_uri": "https://localhost:8080/"
        },
        "id": "o8OOX2joIKlA",
        "outputId": "1397a39e-5722-4a8b-a88c-67bde5aa3fc0"
      },
      "execution_count": 178,
      "outputs": [
        {
          "output_type": "stream",
          "name": "stdout",
          "text": [
            "+-------------------+---------+-------+---------------+-----------+-----------+-------------+--------------------+\n",
            "|          timestamp|log_level|user_id|     ip_address|   endpoint|status_code|response_time|          request_id|\n",
            "+-------------------+---------+-------+---------------+-----------+-----------+-------------+--------------------+\n",
            "|2024-09-18 17:54:00|     INFO| user_6|172.126.189.228|/api/update|      309.0|        2.523|b427fa91-5bf8-4fa...|\n",
            "+-------------------+---------+-------+---------------+-----------+-----------+-------------+--------------------+\n",
            "\n"
          ]
        }
      ]
    },
    {
      "cell_type": "code",
      "source": [
        "df_serverlog.count()"
      ],
      "metadata": {
        "colab": {
          "base_uri": "https://localhost:8080/"
        },
        "id": "HPCaGGmZIjak",
        "outputId": "53f20cab-422f-42b2-8932-0a5790fcdbba"
      },
      "execution_count": 179,
      "outputs": [
        {
          "output_type": "execute_result",
          "data": {
            "text/plain": [
              "72864"
            ]
          },
          "metadata": {},
          "execution_count": 179
        }
      ]
    },
    {
      "cell_type": "code",
      "source": [],
      "metadata": {
        "id": "XxsFJdz_VZzK"
      },
      "execution_count": 101,
      "outputs": []
    },
    {
      "cell_type": "markdown",
      "source": [
        "**Cleaning the dataset. Assuming that if the status code is less than 15% should be dropped. Status code has integer less than 1000.**"
      ],
      "metadata": {
        "id": "CITLOntnU3lo"
      }
    },
    {
      "cell_type": "code",
      "source": [
        "df_serverlog = df_serverlog.where(col(\"status_code\")/1000 > 0.15)"
      ],
      "metadata": {
        "id": "osx5SHrxIPlo"
      },
      "execution_count": 180,
      "outputs": []
    },
    {
      "cell_type": "code",
      "source": [
        "#Getting the count after dropping some rows based on my assumption of status code and it count gets decreased by 10434#\n",
        "\n",
        "df_serverlog.count()"
      ],
      "metadata": {
        "colab": {
          "base_uri": "https://localhost:8080/"
        },
        "id": "UwFUZHfnIhWm",
        "outputId": "2ba987f7-8c78-42aa-d0e7-4131ab72b447"
      },
      "execution_count": 181,
      "outputs": [
        {
          "output_type": "execute_result",
          "data": {
            "text/plain": [
              "62430"
            ]
          },
          "metadata": {},
          "execution_count": 181
        }
      ]
    },
    {
      "cell_type": "code",
      "source": [],
      "metadata": {
        "id": "yFygKsDMVbIY"
      },
      "execution_count": 181,
      "outputs": []
    },
    {
      "cell_type": "markdown",
      "source": [
        "**Adding columns like hour_of_the_day, day_of_the_week, is_error to check the error log_level. Assuming good status code be greater than 400, and good response time be less than 1 sec.**"
      ],
      "metadata": {
        "id": "NyETB4zDVbk8"
      }
    },
    {
      "cell_type": "code",
      "source": [
        "from pyspark.sql.functions import hour\n",
        "\n",
        "df_serverlog = df_serverlog.withColumn(\"timestamp\", df_serverlog[\"timestamp\"].cast(\"timestamp\"))\n",
        "df_serverlog = df_serverlog.withColumn(\"hour_of_the_day\", hour(df_serverlog[\"timestamp\"]))"
      ],
      "metadata": {
        "id": "AnpPopczJUZ3"
      },
      "execution_count": 182,
      "outputs": []
    },
    {
      "cell_type": "code",
      "source": [
        "#As you can see, I have added the column named hour of the day in 24 hour format#\n",
        "\n",
        "df_serverlog.show()"
      ],
      "metadata": {
        "colab": {
          "base_uri": "https://localhost:8080/"
        },
        "id": "S-WDVS8SJpaT",
        "outputId": "c2c41d03-fc3d-4256-c26e-7835c539bad4"
      },
      "execution_count": 183,
      "outputs": [
        {
          "output_type": "stream",
          "name": "stdout",
          "text": [
            "+-------------------+---------+-------+---------------+-------------+-----------+-------------+--------------------+---------------+\n",
            "|          timestamp|log_level|user_id|     ip_address|     endpoint|status_code|response_time|          request_id|hour_of_the_day|\n",
            "+-------------------+---------+-------+---------------+-------------+-----------+-------------+--------------------+---------------+\n",
            "|2023-02-22 19:28:34|    ERROR| user_1|   192.113.2.76|/api/register|      463.0|        1.411|093c96b7-7dae-48e...|             19|\n",
            "|2024-11-26 03:43:14|     WARN| user_4|  172.52.177.15|   /api/login|      390.0|         0.94|cd76fb1a-b0c0-4c2...|              3|\n",
            "|2023-06-18 23:44:57|     INFO| user_5|   192.25.49.86|  /api/logout|      390.0|        0.225|058ee99a-6a35-4b2...|             23|\n",
            "|2024-09-18 17:54:00|     INFO| user_6|172.126.189.228|  /api/update|      309.0|        2.523|b427fa91-5bf8-4fa...|             17|\n",
            "|2023-12-08 11:24:56|    ERROR| user_9|   10.93.214.59|  /api/logout|      495.0|        1.314|1683c6a0-cacb-456...|             11|\n",
            "|2024-02-11 05:59:14|     WARN|user_10|   10.81.117.60|  /api/logout|      570.0|        2.523|497e161e-2b03-44c...|              5|\n",
            "|2025-04-09 14:01:29|    DEBUG|user_12|172.228.126.139|   /api/login|      265.0|        1.201|b9f9ef83-727e-4c4...|             14|\n",
            "|2025-02-26 04:14:59|    ERROR|user_13| 192.167.95.252|  /api/search|      410.0|        1.083|7f2cd001-7818-439...|              4|\n",
            "|2024-08-14 07:57:44|    ERROR|user_14|   192.4.66.237|  /api/search|      164.0|        0.215|33199ece-caf1-43c...|              7|\n",
            "|2023-01-11 05:09:58|    ERROR|user_16|  10.19.207.116|  /api/delete|      390.0|        3.091|ded8efb4-2840-44b...|              5|\n",
            "|2024-07-14 19:09:14|    DEBUG|user_18| 192.17.114.239|  /api/update|      576.0|        4.229|275f892c-796d-40d...|             19|\n",
            "|2023-12-06 20:08:16|     WARN|user_22|   172.45.63.13|  /api/delete|      205.0|        2.609|79445311-94c4-4a1...|             20|\n",
            "|2023-04-20 05:02:18|    ERROR|user_24|  172.169.39.75|/api/register|      296.0|        1.759|64379e33-068e-405...|              5|\n",
            "|2024-11-06 04:41:00|     INFO|user_25| 10.226.236.143|   /api/login|      367.0|        2.985|add69933-f0aa-49b...|              4|\n",
            "|2025-04-14 13:48:04|    ERROR|user_26| 192.204.24.172|  /api/search|      160.0|        3.635|4a461ba6-e7d0-47b...|             13|\n",
            "|2024-08-09 02:46:32|     INFO|user_29|  10.136.109.23|/api/register|      698.0|         4.34|8481b5ab-6010-42b...|              2|\n",
            "|2025-04-21 20:49:05|    ERROR|user_30|   172.69.76.78|  /api/search|      296.0|         1.81|efea30a9-0cc9-4c6...|             20|\n",
            "|2023-08-04 23:14:29|     INFO|user_31|172.121.235.105|  /api/search|      609.0|        4.296|405ad206-6ed6-4f2...|             23|\n",
            "|2024-07-12 14:13:50|     INFO|user_33|   172.58.64.36|  /api/update|      533.0|        0.635|99a16c9a-79b3-433...|             14|\n",
            "|2024-08-04 08:58:26|     WARN|user_34| 10.126.108.212|  /api/search|      390.0|        2.523|adcb12bb-e5ad-400...|              8|\n",
            "+-------------------+---------+-------+---------------+-------------+-----------+-------------+--------------------+---------------+\n",
            "only showing top 20 rows\n",
            "\n"
          ]
        }
      ]
    },
    {
      "cell_type": "code",
      "source": [
        "from pyspark.sql.functions import date_format\n",
        "\n",
        "df_serverlog = df_serverlog.withColumn(\"day_of_the_week\", date_format(df_serverlog[\"timestamp\"], \"EEEE\"))"
      ],
      "metadata": {
        "id": "VRxzxqfPJwYH"
      },
      "execution_count": 184,
      "outputs": []
    },
    {
      "cell_type": "code",
      "source": [
        "#Added a column named day of the week to check whether it has been done on weekday or weekends#\n",
        "\n",
        "df_serverlog.show()"
      ],
      "metadata": {
        "colab": {
          "base_uri": "https://localhost:8080/"
        },
        "id": "kpBWg0EiJyH8",
        "outputId": "1d0affe3-fae1-4d9b-806b-d7e2bdcb3cd8"
      },
      "execution_count": 185,
      "outputs": [
        {
          "output_type": "stream",
          "name": "stdout",
          "text": [
            "+-------------------+---------+-------+---------------+-------------+-----------+-------------+--------------------+---------------+---------------+\n",
            "|          timestamp|log_level|user_id|     ip_address|     endpoint|status_code|response_time|          request_id|hour_of_the_day|day_of_the_week|\n",
            "+-------------------+---------+-------+---------------+-------------+-----------+-------------+--------------------+---------------+---------------+\n",
            "|2023-02-22 19:28:34|    ERROR| user_1|   192.113.2.76|/api/register|      463.0|        1.411|093c96b7-7dae-48e...|             19|      Wednesday|\n",
            "|2024-11-26 03:43:14|     WARN| user_4|  172.52.177.15|   /api/login|      390.0|         0.94|cd76fb1a-b0c0-4c2...|              3|        Tuesday|\n",
            "|2023-06-18 23:44:57|     INFO| user_5|   192.25.49.86|  /api/logout|      390.0|        0.225|058ee99a-6a35-4b2...|             23|         Sunday|\n",
            "|2024-09-18 17:54:00|     INFO| user_6|172.126.189.228|  /api/update|      309.0|        2.523|b427fa91-5bf8-4fa...|             17|      Wednesday|\n",
            "|2023-12-08 11:24:56|    ERROR| user_9|   10.93.214.59|  /api/logout|      495.0|        1.314|1683c6a0-cacb-456...|             11|         Friday|\n",
            "|2024-02-11 05:59:14|     WARN|user_10|   10.81.117.60|  /api/logout|      570.0|        2.523|497e161e-2b03-44c...|              5|         Sunday|\n",
            "|2025-04-09 14:01:29|    DEBUG|user_12|172.228.126.139|   /api/login|      265.0|        1.201|b9f9ef83-727e-4c4...|             14|      Wednesday|\n",
            "|2025-02-26 04:14:59|    ERROR|user_13| 192.167.95.252|  /api/search|      410.0|        1.083|7f2cd001-7818-439...|              4|      Wednesday|\n",
            "|2024-08-14 07:57:44|    ERROR|user_14|   192.4.66.237|  /api/search|      164.0|        0.215|33199ece-caf1-43c...|              7|      Wednesday|\n",
            "|2023-01-11 05:09:58|    ERROR|user_16|  10.19.207.116|  /api/delete|      390.0|        3.091|ded8efb4-2840-44b...|              5|      Wednesday|\n",
            "|2024-07-14 19:09:14|    DEBUG|user_18| 192.17.114.239|  /api/update|      576.0|        4.229|275f892c-796d-40d...|             19|         Sunday|\n",
            "|2023-12-06 20:08:16|     WARN|user_22|   172.45.63.13|  /api/delete|      205.0|        2.609|79445311-94c4-4a1...|             20|      Wednesday|\n",
            "|2023-04-20 05:02:18|    ERROR|user_24|  172.169.39.75|/api/register|      296.0|        1.759|64379e33-068e-405...|              5|       Thursday|\n",
            "|2024-11-06 04:41:00|     INFO|user_25| 10.226.236.143|   /api/login|      367.0|        2.985|add69933-f0aa-49b...|              4|      Wednesday|\n",
            "|2025-04-14 13:48:04|    ERROR|user_26| 192.204.24.172|  /api/search|      160.0|        3.635|4a461ba6-e7d0-47b...|             13|         Monday|\n",
            "|2024-08-09 02:46:32|     INFO|user_29|  10.136.109.23|/api/register|      698.0|         4.34|8481b5ab-6010-42b...|              2|         Friday|\n",
            "|2025-04-21 20:49:05|    ERROR|user_30|   172.69.76.78|  /api/search|      296.0|         1.81|efea30a9-0cc9-4c6...|             20|         Monday|\n",
            "|2023-08-04 23:14:29|     INFO|user_31|172.121.235.105|  /api/search|      609.0|        4.296|405ad206-6ed6-4f2...|             23|         Friday|\n",
            "|2024-07-12 14:13:50|     INFO|user_33|   172.58.64.36|  /api/update|      533.0|        0.635|99a16c9a-79b3-433...|             14|         Friday|\n",
            "|2024-08-04 08:58:26|     WARN|user_34| 10.126.108.212|  /api/search|      390.0|        2.523|adcb12bb-e5ad-400...|              8|         Sunday|\n",
            "+-------------------+---------+-------+---------------+-------------+-----------+-------------+--------------------+---------------+---------------+\n",
            "only showing top 20 rows\n",
            "\n"
          ]
        }
      ]
    },
    {
      "cell_type": "code",
      "source": [
        "from pyspark.sql.functions import when\n",
        "\n",
        "df_serverlog = df_serverlog.withColumn(\"is_error\",when(df_serverlog['log_level'] == \"ERROR\", True).otherwise(False))"
      ],
      "metadata": {
        "id": "hBsdrDBbJ0Q7"
      },
      "execution_count": 186,
      "outputs": []
    },
    {
      "cell_type": "code",
      "source": [
        "#Added the column named is_error to check whether log_level is ERROR or NOT#\n",
        "\n",
        "df_serverlog.show()"
      ],
      "metadata": {
        "colab": {
          "base_uri": "https://localhost:8080/"
        },
        "id": "0qeOKqm9J5xz",
        "outputId": "46b7e330-877e-4964-8dc3-b1375add075a"
      },
      "execution_count": 187,
      "outputs": [
        {
          "output_type": "stream",
          "name": "stdout",
          "text": [
            "+-------------------+---------+-------+---------------+-------------+-----------+-------------+--------------------+---------------+---------------+--------+\n",
            "|          timestamp|log_level|user_id|     ip_address|     endpoint|status_code|response_time|          request_id|hour_of_the_day|day_of_the_week|is_error|\n",
            "+-------------------+---------+-------+---------------+-------------+-----------+-------------+--------------------+---------------+---------------+--------+\n",
            "|2023-02-22 19:28:34|    ERROR| user_1|   192.113.2.76|/api/register|      463.0|        1.411|093c96b7-7dae-48e...|             19|      Wednesday|    true|\n",
            "|2024-11-26 03:43:14|     WARN| user_4|  172.52.177.15|   /api/login|      390.0|         0.94|cd76fb1a-b0c0-4c2...|              3|        Tuesday|   false|\n",
            "|2023-06-18 23:44:57|     INFO| user_5|   192.25.49.86|  /api/logout|      390.0|        0.225|058ee99a-6a35-4b2...|             23|         Sunday|   false|\n",
            "|2024-09-18 17:54:00|     INFO| user_6|172.126.189.228|  /api/update|      309.0|        2.523|b427fa91-5bf8-4fa...|             17|      Wednesday|   false|\n",
            "|2023-12-08 11:24:56|    ERROR| user_9|   10.93.214.59|  /api/logout|      495.0|        1.314|1683c6a0-cacb-456...|             11|         Friday|    true|\n",
            "|2024-02-11 05:59:14|     WARN|user_10|   10.81.117.60|  /api/logout|      570.0|        2.523|497e161e-2b03-44c...|              5|         Sunday|   false|\n",
            "|2025-04-09 14:01:29|    DEBUG|user_12|172.228.126.139|   /api/login|      265.0|        1.201|b9f9ef83-727e-4c4...|             14|      Wednesday|   false|\n",
            "|2025-02-26 04:14:59|    ERROR|user_13| 192.167.95.252|  /api/search|      410.0|        1.083|7f2cd001-7818-439...|              4|      Wednesday|    true|\n",
            "|2024-08-14 07:57:44|    ERROR|user_14|   192.4.66.237|  /api/search|      164.0|        0.215|33199ece-caf1-43c...|              7|      Wednesday|    true|\n",
            "|2023-01-11 05:09:58|    ERROR|user_16|  10.19.207.116|  /api/delete|      390.0|        3.091|ded8efb4-2840-44b...|              5|      Wednesday|    true|\n",
            "|2024-07-14 19:09:14|    DEBUG|user_18| 192.17.114.239|  /api/update|      576.0|        4.229|275f892c-796d-40d...|             19|         Sunday|   false|\n",
            "|2023-12-06 20:08:16|     WARN|user_22|   172.45.63.13|  /api/delete|      205.0|        2.609|79445311-94c4-4a1...|             20|      Wednesday|   false|\n",
            "|2023-04-20 05:02:18|    ERROR|user_24|  172.169.39.75|/api/register|      296.0|        1.759|64379e33-068e-405...|              5|       Thursday|    true|\n",
            "|2024-11-06 04:41:00|     INFO|user_25| 10.226.236.143|   /api/login|      367.0|        2.985|add69933-f0aa-49b...|              4|      Wednesday|   false|\n",
            "|2025-04-14 13:48:04|    ERROR|user_26| 192.204.24.172|  /api/search|      160.0|        3.635|4a461ba6-e7d0-47b...|             13|         Monday|    true|\n",
            "|2024-08-09 02:46:32|     INFO|user_29|  10.136.109.23|/api/register|      698.0|         4.34|8481b5ab-6010-42b...|              2|         Friday|   false|\n",
            "|2025-04-21 20:49:05|    ERROR|user_30|   172.69.76.78|  /api/search|      296.0|         1.81|efea30a9-0cc9-4c6...|             20|         Monday|    true|\n",
            "|2023-08-04 23:14:29|     INFO|user_31|172.121.235.105|  /api/search|      609.0|        4.296|405ad206-6ed6-4f2...|             23|         Friday|   false|\n",
            "|2024-07-12 14:13:50|     INFO|user_33|   172.58.64.36|  /api/update|      533.0|        0.635|99a16c9a-79b3-433...|             14|         Friday|   false|\n",
            "|2024-08-04 08:58:26|     WARN|user_34| 10.126.108.212|  /api/search|      390.0|        2.523|adcb12bb-e5ad-400...|              8|         Sunday|   false|\n",
            "+-------------------+---------+-------+---------------+-------------+-----------+-------------+--------------------+---------------+---------------+--------+\n",
            "only showing top 20 rows\n",
            "\n"
          ]
        }
      ]
    },
    {
      "cell_type": "code",
      "source": [
        "df_serverlog = df_serverlog.withColumn(\"good_status\",when(df_serverlog['status_code'] >=400, True).otherwise(False))"
      ],
      "metadata": {
        "id": "HaCPggTxKBkn"
      },
      "execution_count": 188,
      "outputs": []
    },
    {
      "cell_type": "code",
      "source": [
        "#Added the column named good_status. Assuming good_status has status_code >= 400#\n",
        "\n",
        "df_serverlog.show()"
      ],
      "metadata": {
        "colab": {
          "base_uri": "https://localhost:8080/"
        },
        "id": "xhGQDy26KC55",
        "outputId": "63ce0c79-5ee1-4e5f-a83b-caab7674e56c"
      },
      "execution_count": 189,
      "outputs": [
        {
          "output_type": "stream",
          "name": "stdout",
          "text": [
            "+-------------------+---------+-------+---------------+-------------+-----------+-------------+--------------------+---------------+---------------+--------+-----------+\n",
            "|          timestamp|log_level|user_id|     ip_address|     endpoint|status_code|response_time|          request_id|hour_of_the_day|day_of_the_week|is_error|good_status|\n",
            "+-------------------+---------+-------+---------------+-------------+-----------+-------------+--------------------+---------------+---------------+--------+-----------+\n",
            "|2023-02-22 19:28:34|    ERROR| user_1|   192.113.2.76|/api/register|      463.0|        1.411|093c96b7-7dae-48e...|             19|      Wednesday|    true|       true|\n",
            "|2024-11-26 03:43:14|     WARN| user_4|  172.52.177.15|   /api/login|      390.0|         0.94|cd76fb1a-b0c0-4c2...|              3|        Tuesday|   false|      false|\n",
            "|2023-06-18 23:44:57|     INFO| user_5|   192.25.49.86|  /api/logout|      390.0|        0.225|058ee99a-6a35-4b2...|             23|         Sunday|   false|      false|\n",
            "|2024-09-18 17:54:00|     INFO| user_6|172.126.189.228|  /api/update|      309.0|        2.523|b427fa91-5bf8-4fa...|             17|      Wednesday|   false|      false|\n",
            "|2023-12-08 11:24:56|    ERROR| user_9|   10.93.214.59|  /api/logout|      495.0|        1.314|1683c6a0-cacb-456...|             11|         Friday|    true|       true|\n",
            "|2024-02-11 05:59:14|     WARN|user_10|   10.81.117.60|  /api/logout|      570.0|        2.523|497e161e-2b03-44c...|              5|         Sunday|   false|       true|\n",
            "|2025-04-09 14:01:29|    DEBUG|user_12|172.228.126.139|   /api/login|      265.0|        1.201|b9f9ef83-727e-4c4...|             14|      Wednesday|   false|      false|\n",
            "|2025-02-26 04:14:59|    ERROR|user_13| 192.167.95.252|  /api/search|      410.0|        1.083|7f2cd001-7818-439...|              4|      Wednesday|    true|       true|\n",
            "|2024-08-14 07:57:44|    ERROR|user_14|   192.4.66.237|  /api/search|      164.0|        0.215|33199ece-caf1-43c...|              7|      Wednesday|    true|      false|\n",
            "|2023-01-11 05:09:58|    ERROR|user_16|  10.19.207.116|  /api/delete|      390.0|        3.091|ded8efb4-2840-44b...|              5|      Wednesday|    true|      false|\n",
            "|2024-07-14 19:09:14|    DEBUG|user_18| 192.17.114.239|  /api/update|      576.0|        4.229|275f892c-796d-40d...|             19|         Sunday|   false|       true|\n",
            "|2023-12-06 20:08:16|     WARN|user_22|   172.45.63.13|  /api/delete|      205.0|        2.609|79445311-94c4-4a1...|             20|      Wednesday|   false|      false|\n",
            "|2023-04-20 05:02:18|    ERROR|user_24|  172.169.39.75|/api/register|      296.0|        1.759|64379e33-068e-405...|              5|       Thursday|    true|      false|\n",
            "|2024-11-06 04:41:00|     INFO|user_25| 10.226.236.143|   /api/login|      367.0|        2.985|add69933-f0aa-49b...|              4|      Wednesday|   false|      false|\n",
            "|2025-04-14 13:48:04|    ERROR|user_26| 192.204.24.172|  /api/search|      160.0|        3.635|4a461ba6-e7d0-47b...|             13|         Monday|    true|      false|\n",
            "|2024-08-09 02:46:32|     INFO|user_29|  10.136.109.23|/api/register|      698.0|         4.34|8481b5ab-6010-42b...|              2|         Friday|   false|       true|\n",
            "|2025-04-21 20:49:05|    ERROR|user_30|   172.69.76.78|  /api/search|      296.0|         1.81|efea30a9-0cc9-4c6...|             20|         Monday|    true|      false|\n",
            "|2023-08-04 23:14:29|     INFO|user_31|172.121.235.105|  /api/search|      609.0|        4.296|405ad206-6ed6-4f2...|             23|         Friday|   false|       true|\n",
            "|2024-07-12 14:13:50|     INFO|user_33|   172.58.64.36|  /api/update|      533.0|        0.635|99a16c9a-79b3-433...|             14|         Friday|   false|       true|\n",
            "|2024-08-04 08:58:26|     WARN|user_34| 10.126.108.212|  /api/search|      390.0|        2.523|adcb12bb-e5ad-400...|              8|         Sunday|   false|      false|\n",
            "+-------------------+---------+-------+---------------+-------------+-----------+-------------+--------------------+---------------+---------------+--------+-----------+\n",
            "only showing top 20 rows\n",
            "\n"
          ]
        }
      ]
    },
    {
      "cell_type": "code",
      "source": [
        "df_serverlog = df_serverlog.withColumn(\"good_response\",when(df_serverlog['response_time'] <= 2.000, True).otherwise(False))"
      ],
      "metadata": {
        "id": "ORi1Rup1KVM6"
      },
      "execution_count": 190,
      "outputs": []
    },
    {
      "cell_type": "code",
      "source": [
        "#Added column named good_response. Assuming good_reponse had response_time <= 2.000 and showing only relevent columns#\n",
        "\n",
        "df_serverlog.select(\"user_id\",\"response_time\",\"good_response\").show()"
      ],
      "metadata": {
        "colab": {
          "base_uri": "https://localhost:8080/"
        },
        "id": "FUcCkCXLKWwl",
        "outputId": "6a3297b7-a205-42ba-bd16-abffc9027cea"
      },
      "execution_count": 191,
      "outputs": [
        {
          "output_type": "stream",
          "name": "stdout",
          "text": [
            "+-------+-------------+-------------+\n",
            "|user_id|response_time|good_response|\n",
            "+-------+-------------+-------------+\n",
            "| user_1|        1.411|         true|\n",
            "| user_4|         0.94|         true|\n",
            "| user_5|        0.225|         true|\n",
            "| user_6|        2.523|        false|\n",
            "| user_9|        1.314|         true|\n",
            "|user_10|        2.523|        false|\n",
            "|user_12|        1.201|         true|\n",
            "|user_13|        1.083|         true|\n",
            "|user_14|        0.215|         true|\n",
            "|user_16|        3.091|        false|\n",
            "|user_18|        4.229|        false|\n",
            "|user_22|        2.609|        false|\n",
            "|user_24|        1.759|         true|\n",
            "|user_25|        2.985|        false|\n",
            "|user_26|        3.635|        false|\n",
            "|user_29|         4.34|        false|\n",
            "|user_30|         1.81|         true|\n",
            "|user_31|        4.296|        false|\n",
            "|user_33|        0.635|         true|\n",
            "|user_34|        2.523|        false|\n",
            "+-------+-------------+-------------+\n",
            "only showing top 20 rows\n",
            "\n"
          ]
        }
      ]
    },
    {
      "cell_type": "code",
      "source": [
        "#Considering Slowest API be the one with hightest avg response_time#\n",
        "\n",
        "mean_endpoint_response_time = print(df_serverlog.groupBy(\"endpoint\").agg(\n",
        "    avg(\"response_time\").alias(\"mean_response_time\")\n",
        ").orderBy(col(\"endpoint\").desc()).first()[0])"
      ],
      "metadata": {
        "colab": {
          "base_uri": "https://localhost:8080/"
        },
        "id": "Q9W71ICoLD9S",
        "outputId": "e295986d-d30f-4867-b477-0de5d725aef0"
      },
      "execution_count": 192,
      "outputs": [
        {
          "output_type": "stream",
          "name": "stdout",
          "text": [
            "/api/update\n"
          ]
        }
      ]
    },
    {
      "cell_type": "code",
      "source": [
        "#Consider suspicious user as the one who has response time less than 1, status code greater than 500 and endpoint is not null#\n",
        "\n",
        "suspicious_user_id_df = df_serverlog.filter(col(\"status_code\") > 500)"
      ],
      "metadata": {
        "id": "g6iiesmcM1LV"
      },
      "execution_count": 193,
      "outputs": []
    },
    {
      "cell_type": "code",
      "source": [
        "suspicious_user_id_df = suspicious_user_id_df.filter(col(\"response_time\") < 1)"
      ],
      "metadata": {
        "id": "Eq-KwsHHPlb3"
      },
      "execution_count": 194,
      "outputs": []
    },
    {
      "cell_type": "code",
      "source": [
        "suspicious_user_id_df.select(\"user_id\").show()"
      ],
      "metadata": {
        "colab": {
          "base_uri": "https://localhost:8080/"
        },
        "id": "gqpQ7tP6VcqX",
        "outputId": "b9aad352-329e-43f9-ad8b-bc174d8e4fc1"
      },
      "execution_count": 195,
      "outputs": [
        {
          "output_type": "stream",
          "name": "stdout",
          "text": [
            "+--------+\n",
            "| user_id|\n",
            "+--------+\n",
            "| user_33|\n",
            "| user_54|\n",
            "| user_64|\n",
            "|user_113|\n",
            "|user_139|\n",
            "|user_158|\n",
            "|user_183|\n",
            "|user_194|\n",
            "|user_221|\n",
            "|user_257|\n",
            "|user_269|\n",
            "|user_296|\n",
            "|user_305|\n",
            "|user_324|\n",
            "|user_343|\n",
            "|user_365|\n",
            "|user_377|\n",
            "|user_409|\n",
            "|user_503|\n",
            "|user_573|\n",
            "+--------+\n",
            "only showing top 20 rows\n",
            "\n"
          ]
        }
      ]
    },
    {
      "cell_type": "code",
      "source": [
        "df_serverlog.write.option(\n",
        "    \"Header\",True).mode(\n",
        "    \"overwrite\").csv(\n",
        "    \"output/cleaned_server_log_data\"\n",
        "    )"
      ],
      "metadata": {
        "id": "gkh55oJMjp_s"
      },
      "execution_count": 196,
      "outputs": []
    },
    {
      "cell_type": "code",
      "source": [
        "suspicious_user_id_df.write.option(\n",
        "    \"Header\",True).mode(\n",
        "    \"overwrite\").csv(\n",
        "    \"output/cleaned_suspicious_user_data\"\n",
        "    )"
      ],
      "metadata": {
        "id": "TtcMZeNYj013"
      },
      "execution_count": 197,
      "outputs": []
    },
    {
      "cell_type": "code",
      "source": [
        "server_log_summary_df = df_serverlog.summary()"
      ],
      "metadata": {
        "id": "19EeRDk3l-v-"
      },
      "execution_count": 198,
      "outputs": []
    },
    {
      "cell_type": "code",
      "source": [
        "server_log_summary_df.show()"
      ],
      "metadata": {
        "colab": {
          "base_uri": "https://localhost:8080/"
        },
        "id": "jb2SAD_U4R9T",
        "outputId": "b71daf70-2fb1-4c9d-e115-12667dce9331"
      },
      "execution_count": 199,
      "outputs": [
        {
          "output_type": "stream",
          "name": "stdout",
          "text": [
            "+-------+---------+----------+-------------+-----------+------------------+-----------------+--------------------+-----------------+---------------+\n",
            "|summary|log_level|   user_id|   ip_address|   endpoint|       status_code|    response_time|          request_id|  hour_of_the_day|day_of_the_week|\n",
            "+-------+---------+----------+-------------+-----------+------------------+-----------------+--------------------+-----------------+---------------+\n",
            "|  count|    62430|     62430|        62430|      62430|             62430|            62430|               62430|            62430|          62430|\n",
            "|   mean|     NULL|      NULL|         NULL|       NULL| 439.4622777510812|2.524618789043812|                NULL| 11.4853275668749|           NULL|\n",
            "| stddev|     NULL|      NULL|         NULL|       NULL|161.56784812341596|1.355815827281236|                NULL|6.912774143850606|           NULL|\n",
            "|    min|    DEBUG|    user_1|    10.0.1.14|/api/delete|             151.0|             0.05|00008032-a958-49c...|                0|         Friday|\n",
            "|    25%|     NULL|      NULL|         NULL|       NULL|             317.0|            1.429|                NULL|                6|           NULL|\n",
            "|    50%|     NULL|      NULL|         NULL|       NULL|             406.0|            2.523|                NULL|               11|           NULL|\n",
            "|    75%|     NULL|      NULL|         NULL|       NULL|             576.0|            3.623|                NULL|               17|           NULL|\n",
            "|    max|     WARN|user_99997|192.99.91.118|/api/update|             740.0|              5.0|fffe507d-ed3a-47e...|               23|      Wednesday|\n",
            "+-------+---------+----------+-------------+-----------+------------------+-----------------+--------------------+-----------------+---------------+\n",
            "\n"
          ]
        }
      ]
    },
    {
      "cell_type": "code",
      "source": [
        "server_log_summary_df.write.option(\n",
        "    \"Header\",True).mode(\n",
        "    \"Overwrite\").csv(\n",
        "    \"output/summary_server_log_data\"\n",
        "    )"
      ],
      "metadata": {
        "id": "m0qiEbxr5LOY"
      },
      "execution_count": 200,
      "outputs": []
    },
    {
      "cell_type": "code",
      "source": [
        "df_usermetadata = spark.read.option('header','true').csv(\"user_metadata.csv\",inferSchema=True)"
      ],
      "metadata": {
        "id": "knBzqpizRhRD"
      },
      "execution_count": 201,
      "outputs": []
    },
    {
      "cell_type": "code",
      "source": [
        "df_usermetadata.show()"
      ],
      "metadata": {
        "colab": {
          "base_uri": "https://localhost:8080/"
        },
        "id": "q-BfZsNJ-vSF",
        "outputId": "d7d6453b-a050-4c42-810d-374787859c3f"
      },
      "execution_count": 202,
      "outputs": [
        {
          "output_type": "stream",
          "name": "stdout",
          "text": [
            "+-------+------------+-------------+-----------+---------+\n",
            "|user_id|account_type|       region|signup_date|is_active|\n",
            "+-------+------------+-------------+-----------+---------+\n",
            "| user_1|        Free|North America| 2016-09-10|     true|\n",
            "| user_2|     Premium|      Oceania| 2018-05-03|    false|\n",
            "| user_3|     Premium|       Europe| 2024-06-30|    false|\n",
            "| user_4|  Enterprise|      Oceania| 2018-12-08|     true|\n",
            "| user_5|     Premium|North America| 2024-10-26|     true|\n",
            "| user_6|     Premium|         NULL| 2024-11-29|    false|\n",
            "| user_7|     Premium|South America| 2015-03-17|    false|\n",
            "| user_8|        Free|South America| 2016-04-14|     true|\n",
            "| user_9|  Enterprise|South America| 2019-05-04|     true|\n",
            "|user_10|  Enterprise|         Asia| 2019-05-06|     true|\n",
            "|user_11|        NULL|North America| 2021-03-29|    false|\n",
            "|user_12|  Enterprise|         NULL| 2024-01-28|     true|\n",
            "|user_13|  Enterprise|         NULL| 2024-07-21|     true|\n",
            "|user_14|        NULL|South America| 2024-01-24|    false|\n",
            "|user_15|        NULL|         NULL| 2017-01-26|    false|\n",
            "|user_16|  Enterprise|      Oceania| 2016-12-31|     true|\n",
            "|user_17|  Enterprise|       Europe| 2017-03-20|     true|\n",
            "|user_18|     Premium|       Africa|       NULL|     NULL|\n",
            "|user_19|        Free|North America| 2018-07-29|     true|\n",
            "|user_20|        Free|South America| 2020-03-22|     true|\n",
            "+-------+------------+-------------+-----------+---------+\n",
            "only showing top 20 rows\n",
            "\n"
          ]
        }
      ]
    },
    {
      "cell_type": "code",
      "source": [],
      "metadata": {
        "id": "GZ-PkE8KWr1l"
      },
      "execution_count": 124,
      "outputs": []
    },
    {
      "cell_type": "markdown",
      "source": [
        "**Inner joining the 2 dataset and doing task based on problem statement**"
      ],
      "metadata": {
        "id": "8oonRdDQWeJR"
      }
    },
    {
      "cell_type": "code",
      "source": [
        "from pyspark.sql.functions import broadcast"
      ],
      "metadata": {
        "id": "6XCAnZzuR_fp"
      },
      "execution_count": 203,
      "outputs": []
    },
    {
      "cell_type": "code",
      "source": [
        "df_joined = df_serverlog.join(broadcast(df_usermetadata), on='user_id', how='inner')"
      ],
      "metadata": {
        "id": "eZmAhER8_MfD"
      },
      "execution_count": 204,
      "outputs": []
    },
    {
      "cell_type": "code",
      "source": [
        "df_joined.count()"
      ],
      "metadata": {
        "colab": {
          "base_uri": "https://localhost:8080/"
        },
        "id": "HKkuWv0ih8Hz",
        "outputId": "00730aee-1582-46eb-ecec-61c37f23dd86"
      },
      "execution_count": 205,
      "outputs": [
        {
          "output_type": "execute_result",
          "data": {
            "text/plain": [
              "3148"
            ]
          },
          "metadata": {},
          "execution_count": 205
        }
      ]
    },
    {
      "cell_type": "code",
      "source": [
        "df_joined.show()"
      ],
      "metadata": {
        "colab": {
          "base_uri": "https://localhost:8080/"
        },
        "id": "KkG9StSm_XHL",
        "outputId": "1a0eb6ba-2ed3-4321-9143-3f57fb7cf05e"
      },
      "execution_count": 206,
      "outputs": [
        {
          "output_type": "stream",
          "name": "stdout",
          "text": [
            "+-------+-------------------+---------+---------------+-------------+-----------+-------------+--------------------+---------------+---------------+--------+-----------+-------------+------------+-------------+-----------+---------+\n",
            "|user_id|          timestamp|log_level|     ip_address|     endpoint|status_code|response_time|          request_id|hour_of_the_day|day_of_the_week|is_error|good_status|good_response|account_type|       region|signup_date|is_active|\n",
            "+-------+-------------------+---------+---------------+-------------+-----------+-------------+--------------------+---------------+---------------+--------+-----------+-------------+------------+-------------+-----------+---------+\n",
            "| user_1|2023-02-22 19:28:34|    ERROR|   192.113.2.76|/api/register|      463.0|        1.411|093c96b7-7dae-48e...|             19|      Wednesday|    true|       true|         true|        Free|North America| 2016-09-10|     true|\n",
            "| user_4|2024-11-26 03:43:14|     WARN|  172.52.177.15|   /api/login|      390.0|         0.94|cd76fb1a-b0c0-4c2...|              3|        Tuesday|   false|      false|         true|  Enterprise|      Oceania| 2018-12-08|     true|\n",
            "| user_5|2023-06-18 23:44:57|     INFO|   192.25.49.86|  /api/logout|      390.0|        0.225|058ee99a-6a35-4b2...|             23|         Sunday|   false|      false|         true|     Premium|North America| 2024-10-26|     true|\n",
            "| user_6|2024-09-18 17:54:00|     INFO|172.126.189.228|  /api/update|      309.0|        2.523|b427fa91-5bf8-4fa...|             17|      Wednesday|   false|      false|        false|     Premium|         NULL| 2024-11-29|    false|\n",
            "| user_9|2023-12-08 11:24:56|    ERROR|   10.93.214.59|  /api/logout|      495.0|        1.314|1683c6a0-cacb-456...|             11|         Friday|    true|       true|         true|  Enterprise|South America| 2019-05-04|     true|\n",
            "|user_10|2024-02-11 05:59:14|     WARN|   10.81.117.60|  /api/logout|      570.0|        2.523|497e161e-2b03-44c...|              5|         Sunday|   false|       true|        false|  Enterprise|         Asia| 2019-05-06|     true|\n",
            "|user_12|2025-04-09 14:01:29|    DEBUG|172.228.126.139|   /api/login|      265.0|        1.201|b9f9ef83-727e-4c4...|             14|      Wednesday|   false|      false|         true|  Enterprise|         NULL| 2024-01-28|     true|\n",
            "|user_13|2025-02-26 04:14:59|    ERROR| 192.167.95.252|  /api/search|      410.0|        1.083|7f2cd001-7818-439...|              4|      Wednesday|    true|       true|         true|  Enterprise|         NULL| 2024-07-21|     true|\n",
            "|user_14|2024-08-14 07:57:44|    ERROR|   192.4.66.237|  /api/search|      164.0|        0.215|33199ece-caf1-43c...|              7|      Wednesday|    true|      false|         true|        NULL|South America| 2024-01-24|    false|\n",
            "|user_16|2023-01-11 05:09:58|    ERROR|  10.19.207.116|  /api/delete|      390.0|        3.091|ded8efb4-2840-44b...|              5|      Wednesday|    true|      false|        false|  Enterprise|      Oceania| 2016-12-31|     true|\n",
            "|user_18|2024-07-14 19:09:14|    DEBUG| 192.17.114.239|  /api/update|      576.0|        4.229|275f892c-796d-40d...|             19|         Sunday|   false|       true|        false|     Premium|       Africa|       NULL|     NULL|\n",
            "|user_22|2023-12-06 20:08:16|     WARN|   172.45.63.13|  /api/delete|      205.0|        2.609|79445311-94c4-4a1...|             20|      Wednesday|   false|      false|        false|        Free|       Africa| 2016-03-08|     true|\n",
            "|user_24|2023-04-20 05:02:18|    ERROR|  172.169.39.75|/api/register|      296.0|        1.759|64379e33-068e-405...|              5|       Thursday|    true|      false|         true|     Premium|North America| 2017-03-27|     true|\n",
            "|user_25|2024-11-06 04:41:00|     INFO| 10.226.236.143|   /api/login|      367.0|        2.985|add69933-f0aa-49b...|              4|      Wednesday|   false|      false|        false|  Enterprise|North America| 2022-03-04|    false|\n",
            "|user_26|2025-04-14 13:48:04|    ERROR| 192.204.24.172|  /api/search|      160.0|        3.635|4a461ba6-e7d0-47b...|             13|         Monday|    true|      false|        false|     Premium|      Oceania|       NULL|     true|\n",
            "|user_29|2024-08-09 02:46:32|     INFO|  10.136.109.23|/api/register|      698.0|         4.34|8481b5ab-6010-42b...|              2|         Friday|   false|       true|        false|        Free|         NULL| 2022-05-15|     true|\n",
            "|user_30|2025-04-21 20:49:05|    ERROR|   172.69.76.78|  /api/search|      296.0|         1.81|efea30a9-0cc9-4c6...|             20|         Monday|    true|      false|         true|  Enterprise|       Africa| 2017-01-12|     true|\n",
            "|user_31|2023-08-04 23:14:29|     INFO|172.121.235.105|  /api/search|      609.0|        4.296|405ad206-6ed6-4f2...|             23|         Friday|   false|       true|        false|     Premium|      Oceania| 2017-03-15|     true|\n",
            "|user_33|2024-07-12 14:13:50|     INFO|   172.58.64.36|  /api/update|      533.0|        0.635|99a16c9a-79b3-433...|             14|         Friday|   false|       true|         true|        NULL|       Africa| 2017-10-16|    false|\n",
            "|user_34|2024-08-04 08:58:26|     WARN| 10.126.108.212|  /api/search|      390.0|        2.523|adcb12bb-e5ad-400...|              8|         Sunday|   false|      false|        false|        Free|South America| 2017-04-10|     true|\n",
            "+-------+-------------------+---------+---------------+-------------+-----------+-------------+--------------------+---------------+---------------+--------+-----------+-------------+------------+-------------+-----------+---------+\n",
            "only showing top 20 rows\n",
            "\n"
          ]
        }
      ]
    },
    {
      "cell_type": "code",
      "source": [],
      "metadata": {
        "id": "nyad7NfoWvD4"
      },
      "execution_count": 128,
      "outputs": []
    },
    {
      "cell_type": "markdown",
      "source": [
        "**Getting total number of active users based on account type.\n",
        "Not done of inactive or status unknown users and it just needs one change in entire code.**"
      ],
      "metadata": {
        "id": "0cqGGZW6WutK"
      }
    },
    {
      "cell_type": "code",
      "source": [
        "account_type_active_user = df_joined.groupBy(\"account_type\").agg(\n",
        "    count(when(col(\"is_active\") == \"True\", True)).alias(\"active_users\")\n",
        ")"
      ],
      "metadata": {
        "id": "jTRVz1w4_Zlt"
      },
      "execution_count": 207,
      "outputs": []
    },
    {
      "cell_type": "code",
      "source": [
        "account_type_active_user.show()"
      ],
      "metadata": {
        "colab": {
          "base_uri": "https://localhost:8080/"
        },
        "id": "diC59A9Ohs0s",
        "outputId": "87439f19-7c8d-4203-8a6f-fe3076642f65"
      },
      "execution_count": 208,
      "outputs": [
        {
          "output_type": "stream",
          "name": "stdout",
          "text": [
            "+------------+------------+\n",
            "|account_type|active_users|\n",
            "+------------+------------+\n",
            "|     Premium|         435|\n",
            "|        NULL|         147|\n",
            "|  Enterprise|         421|\n",
            "|        Free|         432|\n",
            "+------------+------------+\n",
            "\n"
          ]
        }
      ]
    },
    {
      "cell_type": "code",
      "source": [],
      "metadata": {
        "id": "LYWTztX6Xpos"
      },
      "execution_count": 208,
      "outputs": []
    },
    {
      "cell_type": "markdown",
      "source": [
        "**Getting total number of active users based on region.\n",
        "Not done of inactive or status unknown users and it just needs one change in entire code.**"
      ],
      "metadata": {
        "id": "Nf3xgOZXXp_R"
      }
    },
    {
      "cell_type": "code",
      "source": [
        "region_active_user = df_joined.groupBy(\"region\").agg(\n",
        "    count(when(col(\"is_active\") == \"True\", True)).alias(\"active_users\")\n",
        ")"
      ],
      "metadata": {
        "id": "-T2LgLDeiCh6"
      },
      "execution_count": 209,
      "outputs": []
    },
    {
      "cell_type": "code",
      "source": [
        "region_active_user.show()"
      ],
      "metadata": {
        "colab": {
          "base_uri": "https://localhost:8080/"
        },
        "id": "werpZXuFpMjT",
        "outputId": "bd02cd87-ac45-4b43-ab63-0abcda8d149e"
      },
      "execution_count": 210,
      "outputs": [
        {
          "output_type": "stream",
          "name": "stdout",
          "text": [
            "+-------------+------------+\n",
            "|       region|active_users|\n",
            "+-------------+------------+\n",
            "|       Europe|         221|\n",
            "|       Africa|         207|\n",
            "|         NULL|         136|\n",
            "|North America|         209|\n",
            "|South America|         212|\n",
            "|      Oceania|         232|\n",
            "|         Asia|         218|\n",
            "+-------------+------------+\n",
            "\n"
          ]
        }
      ]
    },
    {
      "cell_type": "code",
      "source": [],
      "metadata": {
        "id": "CDTUwtqSX6ND"
      },
      "execution_count": 132,
      "outputs": []
    },
    {
      "cell_type": "markdown",
      "source": [
        "**Getting total number of active users based on year of signup.\n",
        "Not done of inactive or status unknown users and it just needs one change in entire code.**"
      ],
      "metadata": {
        "id": "P0LkOtGGX6eI"
      }
    },
    {
      "cell_type": "code",
      "source": [
        "from pyspark.sql.functions import year\n",
        "\n",
        "df_joined = df_joined.withColumn(\"signup_year\",year(df_joined[\"signup_date\"]))"
      ],
      "metadata": {
        "id": "GfEFJFU2rzHU"
      },
      "execution_count": 211,
      "outputs": []
    },
    {
      "cell_type": "code",
      "source": [
        "df_joined.select(\"user_id\",\"signup_date\",\"signup_year\").show()"
      ],
      "metadata": {
        "colab": {
          "base_uri": "https://localhost:8080/"
        },
        "id": "vs4TojqpsGjm",
        "outputId": "b9cf5ec7-b777-4349-8e24-715fd37efdd7"
      },
      "execution_count": 212,
      "outputs": [
        {
          "output_type": "stream",
          "name": "stdout",
          "text": [
            "+-------+-----------+-----------+\n",
            "|user_id|signup_date|signup_year|\n",
            "+-------+-----------+-----------+\n",
            "| user_1| 2016-09-10|       2016|\n",
            "| user_4| 2018-12-08|       2018|\n",
            "| user_5| 2024-10-26|       2024|\n",
            "| user_6| 2024-11-29|       2024|\n",
            "| user_9| 2019-05-04|       2019|\n",
            "|user_10| 2019-05-06|       2019|\n",
            "|user_12| 2024-01-28|       2024|\n",
            "|user_13| 2024-07-21|       2024|\n",
            "|user_14| 2024-01-24|       2024|\n",
            "|user_16| 2016-12-31|       2016|\n",
            "|user_18|       NULL|       NULL|\n",
            "|user_22| 2016-03-08|       2016|\n",
            "|user_24| 2017-03-27|       2017|\n",
            "|user_25| 2022-03-04|       2022|\n",
            "|user_26|       NULL|       NULL|\n",
            "|user_29| 2022-05-15|       2022|\n",
            "|user_30| 2017-01-12|       2017|\n",
            "|user_31| 2017-03-15|       2017|\n",
            "|user_33| 2017-10-16|       2017|\n",
            "|user_34| 2017-04-10|       2017|\n",
            "+-------+-----------+-----------+\n",
            "only showing top 20 rows\n",
            "\n"
          ]
        }
      ]
    },
    {
      "cell_type": "code",
      "source": [
        "signup_year_active_users = df_joined.groupBy(\"signup_year\").agg(\n",
        "    count(when(col(\"is_active\") == \"True\" , True)).alias(\"signup_year_active_user\")\n",
        ").orderBy(col(\"signup_year\").asc())"
      ],
      "metadata": {
        "id": "ocPjBkbWsQl2"
      },
      "execution_count": 213,
      "outputs": []
    },
    {
      "cell_type": "code",
      "source": [
        "signup_year_active_users.show()"
      ],
      "metadata": {
        "colab": {
          "base_uri": "https://localhost:8080/"
        },
        "id": "dEhlMLovswOd",
        "outputId": "1fd20381-0719-42e2-b6b2-992ee7a42e9f"
      },
      "execution_count": 214,
      "outputs": [
        {
          "output_type": "stream",
          "name": "stdout",
          "text": [
            "+-----------+-----------------------+\n",
            "|signup_year|signup_year_active_user|\n",
            "+-----------+-----------------------+\n",
            "|       NULL|                    156|\n",
            "|       2015|                    131|\n",
            "|       2016|                    118|\n",
            "|       2017|                    122|\n",
            "|       2018|                    134|\n",
            "|       2019|                    122|\n",
            "|       2020|                    133|\n",
            "|       2021|                    133|\n",
            "|       2022|                    129|\n",
            "|       2023|                    129|\n",
            "|       2024|                    128|\n",
            "+-----------+-----------------------+\n",
            "\n"
          ]
        }
      ]
    },
    {
      "cell_type": "code",
      "source": [
        "account_type_active_user.write.option(\n",
        "    \"Header\",True).mode(\n",
        "    \"Overwrite\").csv(\n",
        "    \"output/account_type_active_user\"\n",
        "    )"
      ],
      "metadata": {
        "id": "jQFxY3pPZH2L"
      },
      "execution_count": 215,
      "outputs": []
    },
    {
      "cell_type": "code",
      "source": [
        "region_active_user.write.option(\n",
        "    \"Header\",True).mode(\n",
        "    \"Overwrite\").csv(\n",
        "    \"output/region_active_user\"\n",
        "    )"
      ],
      "metadata": {
        "id": "f_Ib87dQCflP"
      },
      "execution_count": 216,
      "outputs": []
    },
    {
      "cell_type": "code",
      "source": [
        "signup_year_active_users.write.option(\n",
        "    \"Header\",True).mode(\n",
        "    \"Overwrite\").csv(\n",
        "    \"output/signup_year_active_user\"\n",
        "    )"
      ],
      "metadata": {
        "id": "E6A40E_yCo4_"
      },
      "execution_count": 217,
      "outputs": []
    }
  ]
}